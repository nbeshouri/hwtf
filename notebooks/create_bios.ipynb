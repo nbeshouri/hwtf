{
 "cells": [
  {
   "cell_type": "code",
   "execution_count": 2,
   "metadata": {
    "scrolled": true
   },
   "outputs": [
    {
     "name": "stdout",
     "output_type": "stream",
     "text": [
      "/home/ubuntu/Dropbox/project_4\n"
     ]
    }
   ],
   "source": [
    "cd ~/Dropbox/project_4"
   ]
  },
  {
   "cell_type": "code",
   "execution_count": 3,
   "metadata": {},
   "outputs": [],
   "source": [
    "from hwmf import utils, data, nlp, transforms"
   ]
  },
  {
   "cell_type": "code",
   "execution_count": 4,
   "metadata": {
    "scrolled": false
   },
   "outputs": [],
   "source": [
    "articles = data.get_character_articles(limit=None, remove_black_listed=True)\n",
    "utils.save_data(articles, 'character_articles_no_ents.pickle')"
   ]
  },
  {
   "cell_type": "code",
   "execution_count": 6,
   "metadata": {
    "scrolled": false
   },
   "outputs": [
    {
     "name": "stdout",
     "output_type": "stream",
     "text": [
      "in hero central great warrior mother immortal father mortal king notable feat slaying hero outside gate although death present source concur kill near end shoot heel arrow later legend begin poem state invulnerable body heel mother dip river infant hold heel allude legend term heel come mean point weakness especially strong constitution tablet attest personal form ki u ki dative turn female form attest form stele female gladiator fight analyze combination distress pain sorrow grief people soldier nation result proto form people distress people distress the grief distress people theme raise numerous time frequently role hero grief distress form ironic juxtaposition conventional view hero glory usually war furthermore construe follow mean corps soldier muster some topical epitheta point swift footedness swift footed divine frequently quick footed some researcher deem loan word possibly language suggest origin base thing coexistence epic language account palatalized phoneme /ly/ original language son king rival hand fore thinker warn prophecy originally utter goddess divine law bear son great father for reason god withdraw pursuit would there tale offer alternative version event in sister wife allude chaste resistance advance point loyal marriage bond coolly reject father god daughter sea god bring explain resistance advance furious decree marry immortal accord write non survive previous source bear try immortal dip river however leave vulnerable body hold left heel heel tendon clear version event know earlier in version anoint boy ambrosia fire burn away mortal part body interrupt abandon father son rage however source make reference general invulnerability to contrary mention wound hero son challenge river spear graze elbow draw spurt blood also fragmentary poem find description hero death i.e. little trace reference general invulnerability famous weakness heel later vase painting present death arrow case arrow hit body entrust rear foretell son fate gain glory die young live long uneventful life obscurity choose decide war accord grow companion some post homeric source claim order safe war version hide young man court king there disguise girl life daughter red haired girl with daughter account rap father son call father possible alias accord learn prophet unable capture aid go guise peddler sell woman clothe jewelry place shield spear good when instantly take spear see disguise convince join campaign in version arrange trumpet alarm sound woman woman flee panic prepare defend court give identity away accord arrive ship carry appoint leader leader command when leave accidentally stop rule in result battle give wound heal consult oracle state wound shall heal guide oracle arrive heal order guide voyage accord report lost play go pretend beggar ask heal wound refuse claim medical knowledge alternatively hold ransom ransom aid heal wound reason spear inflict wound spear able heal piece spear scrap wound heal however romance describe medieval invention summary transmit medieval old account young prince young legitimate son accord source son despite youth main war leader horse fighter chariot fighter accord link fate ambush attempt capture yet strike beauty sister overcome lust direct sexual attention refuse yield instead find decapitate altar omphalos later version suggest accidentally kill ardent lover embrace in version myth death come retribution sacrilege ancient writer treat epitome dead child mourn parent have live adulthood claim invincible famous narrative deed wrath central theme poem the line read the epic cover war narrate death begin withdrawal battle dishonour commander force take woman name slave father priest beg return refuse send plague the prophet correctly determine source trouble speak vow protect declare return father consent command battle prize daughter bring replace angry dishonour have plunder glory take away say later love urging mother refuse fight lead troop alongside force at time burn rage theft pray convince help gain ground war regain honour as battle turn thank influence declare win anger urge king appease warrior agree send chieftain offer return gift reject offer simply urge sail home plan the lead subsequently push army beach assault ship with force verge absolute destruction lead battle wear armour remain camp succeed push beach kill lead proper assault city after receive news death son grieve beloved companion death mother come comfort distraught persuade new armour place armour wear take the new armour include describe great detail poem enrage death end refusal fight take field kill man rage seek engage battle river god angry choke water man kill the god try drown stop take note rage send god restrain sack time allot destruction unhindered rage defy fate finally find prey chase wall time form favorite dear brother persuade stop run fight face face after realize trick know battle inevitable want fighting charge weapon sword miss accept fate beg spare life treat body respect kill tell hopeless expect declare rage fury drive hack flesh away eat raw agony cause kill drag corpse heel chariot after have dream beg hold funeral host funeral game honour with assistance father go tent plead return body bury relent promise truce duration funeral the poem end description funeral doom come the work name compose relate event when queen daughter arrive hop defeat after temporary truce fight kill warrior queen grieve death later at distracted beauty fight intensely usual once realize distraction endanger life refocus kill follow death son close companion when son king slay obtain revenge battlefield kill consequently let sun rise persuade the fight echo unlike son goddess many scholar argue inspire detail description death reaction the form basis cyclic epic compose possibly the lose scatter fragment quote later author the exact nature relationship subject dispute classical period modern time in appear model deep loyal friendship suggest close friend lover despite direct evidence text lover theory express later author but ancient word distinguish heterosexual homosexual assume man desire handsome young man sex woman the death predict die breath bring arrow heel accord in version god guide arrow some retelling state scale gate hit poison arrow all version deny sort valour owe common conception coward man brother remain undefeated battlefield bone mingle funeral game hold represent live death island mouth river another version death fall deeply love princess ask hand marriage willing mean end war alliance world great warrior but oversee private marriage marry sister hide bush shoot divine arrow kill in inform pompous burial erection mound receive dead suitor claim build massive burial mound beach see approach cremate ash bury urn later kill enormous bow in sail underworld converse shade greet bless life bless death respond slave bad master king dead but ask son exploit war tell heroic action fill satisfaction this leave reader ambiguous understanding feel heroic life accord account marry life death unite promise armour object feud great compete give speech brave prisoner consider man decide deserving armour furious curse earn ire temporarily mad grief anguish begin kill sheep think comrade after lift madness realize actually kill sheep leave ashamed commit suicide eventually give armour son a relic claim bronze head spear preserve temple acropolis port the city visit envision new carry court biographer mention spear however show time numerous painting pottery suggest tale mention literary tradition at point war play board game petteia absorb game oblivious surround battle the attack reach hero save intervention the tomb extant antiquity venerate expeditionary force emperor cult find place g. island sanctuary homeland city account cult hero the spread intensity hero veneration settle northern coast appear remarkable an archaic cult attest colony island middle identify near early dedicatory inscription colony graffiti inscribe clay disk possibly votive offering area attest existence heroic cult the cult thrive dedicatory stele refer roughly lord invoke protector city venerate par god local mention port island famous tomb man insula tumulo eius viri clara situate somewhat nearby furthermore island place peninsula stretch forth shape sword obliquely call race course consider place hero exercise game institute contemporary c. 43 ad tell bury island name situate add geographical confusion ruin square temple measure possibly dedicate discover a exploration show construction lighthouse destroy trace temple a century black glaze lekythos inscription find island read son dedicate lord in inscription statue dedicate lord citizen dedication city confirm continuous maintenance island cult suggest quality place supra regional hero veneration already mention cult bright island work retell immortalized live geographically indefinite hero father well known connection mythological stream accord surround inhabited world account identification northern strand opposition evoke fight turn remove homeland mother death the c. 130 ad give follow detail say goddess raise island sea son dwell here temple statue archaic work this island inhabit goat graze people happen arrive ship sacrifice in temple deposit great holy gift crater ring precious stone offer gratitude one read inscription praise celebrate some word honour wish favor honour time there island countless number sea bird look temple fly sea wet wing water return quickly temple sprinkle and finish sprinkling clean hearth temple wing other people man reach island come intentionally bring animal ship destine sacrifice some animal slaughter set free island honour but force come island sea storm as sacrificial animal wish god island consult oracle ask permission slaughter victim choose animal graze freely island deposit exchange price consider fair but case oracle deny permission oracle add price offer oracle refuse add oracle agree price sufficient and victim run away wait willingly catch so great quantity silver consecrate hero price sacrificial victim to people come island appear dream appear navigation far away instruct island better anchor ship similarly relate island white cliff snake bird dwell reputation place healing pausania report send lord cure chest wound attribute healing water aquae island a number important port city water dedicate report existence town build settler close hero presume burial mound recognize connection name northern arm delta call presumably old conclusion sovereign right evoke modern archaic sea law the king claim descend son son princess claim descent way strove like great ancestor say visit tomb pass in way war emulate hold game tumulus\n"
     ]
    }
   ],
   "source": [
    "print(articles['Achilles'])"
   ]
  },
  {
   "cell_type": "code",
   "execution_count": null,
   "metadata": {},
   "outputs": [],
   "source": [
    "tokenized, lemmatized = data.get_character_extracts(limit=None, remove_black_listed=True)\n",
    "utils.save_data(tokenized, 'character_extracts_tokenized.pickle')\n",
    "utils.save_data(lemmatized, 'character_extracts_lemmatized.pickle')"
   ]
  }
 ],
 "metadata": {
  "kernelspec": {
   "display_name": "Python 3",
   "language": "python",
   "name": "python3"
  },
  "language_info": {
   "codemirror_mode": {
    "name": "ipython",
    "version": 3
   },
   "file_extension": ".py",
   "mimetype": "text/x-python",
   "name": "python",
   "nbconvert_exporter": "python",
   "pygments_lexer": "ipython3",
   "version": "3.6.4"
  }
 },
 "nbformat": 4,
 "nbformat_minor": 2
}
