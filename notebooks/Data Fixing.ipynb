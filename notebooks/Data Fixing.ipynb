{
 "cells": [
  {
   "cell_type": "code",
   "execution_count": 1,
   "metadata": {
    "scrolled": false
   },
   "outputs": [
    {
     "name": "stdout",
     "output_type": "stream",
     "text": [
      "/Users/nbeshouri/Documents/Projects/Metis/Project 4\n"
     ]
    }
   ],
   "source": [
    "cd /Users/nbeshouri/Documents/Projects/Metis/Project\\ 4"
   ]
  },
  {
   "cell_type": "code",
   "execution_count": 2,
   "metadata": {},
   "outputs": [],
   "source": [
    "from hwmf import utils, wikipedia, data\n",
    "import re\n",
    "import os\n",
    "import joblib\n",
    "# import gensim\n",
    "# from gensim.models import doc2vec"
   ]
  },
  {
   "cell_type": "code",
   "execution_count": 3,
   "metadata": {},
   "outputs": [],
   "source": [
    "name_to_article = data.get_character_articles(remove_section_names=False)"
   ]
  },
  {
   "cell_type": "code",
   "execution_count": null,
   "metadata": {},
   "outputs": [],
   "source": []
  },
  {
   "cell_type": "code",
   "execution_count": 4,
   "metadata": {
    "scrolled": true
   },
   "outputs": [
    {
     "name": "stdout",
     "output_type": "stream",
     "text": [
      "is a fictional character and the protagonist of Nickelodeon's animated television series Avatar: The Last Airbender (created by Michael Dante DiMartino and Bryan Konietzko), voiced by Zach Tyler Eisen.\n",
      "\n",
      "Aang is the last surviving Airbender, a monk of the Air Nomads' Southern Air Temple. He is an incarnation of the \"Avatar\", the spirit of light and peace manifested in human form. As the Avatar, Aang controls all four elements and is tasked with keeping the Four Nations at peace. At 12 years old, Aang is the series' reluctant hero, spending a century in suspended animation before joining new friends Katara and Sokka on a quest to master the elements and save their world from the imperialist Fire Nation.\n",
      "\n",
      "Aang's character has appeared in other media, such as trading cards, video games, T-shirts, and web comics. Aang has also been portrayed by Noah Ringer in the feature film The Last Airbender, and voiced by D.B. Sweeney in the sequel animated series The Legend of Korra.\n",
      "\n",
      "==Creation and conception==\n",
      "\n",
      "Aang's character was developed from a drawing by Bryan Konietzko, depicting a bald man with an arrowlike design on his head, which the artist developed into a picture of a child with a flying bison. Meanwhile, Michael Dante DiMartino was interested in a documentary about explorers trapped in the South Pole, which he later combined with Konietzko's drawing.\n",
      "\n",
      "{{quote|\"There's an air guy along with these water people trapped in a snowy wasteland...and maybe some fire people are pressing down on them...\"|Michael Dante DiMartino and Bryan Konietzko\n",
      "\n",
      "In the episode \"Tales of Ba Sing Se\", Aang’s name was written as 安昂 (ān áng) in Chinese.\n",
      "\n",
      "===Personality and characteristics===\n",
      "\n",
      "Michael Dante DiMartino, the show's co-creator, said:\n",
      "\n",
      "According to the show's creators, \"Buddhism and Taoism have been huge inspirations behind the idea for Avatar.\" and \"The Headband\", a notable aspect of Aang's character is his vegetarian diet, which is consistent with Buddhism, Hinduism, and Taoism. In the Brahmajala Sutra, a Buddhist code of ethics, vegetarianism is encouraged. Furthermore, the writers gave Aang a consistent reluctance to fight and an aversion to killing. In \"The Spirit World (Winter Solstice, Part 1)\", Aang encounters an angry spirit destroying a village and kidnapping villagers; but instead of fighting the spirit, Aang negotiates. He is also depicted showing ethical reluctance in killing Firelord Ozai, and eventually strips Ozai of his bending instead of murdering him. Learning that he was to be taken from Gyatso caused Aang to flee the monastery on his flying bison, Appa, before being caught by a storm; the life-or-death conditions triggered the Avatar State, encasing the young Avatar and his bison in an air-pocket among icebergs, where he remained suspended for a century. Aang and his new friends visit the Southern Air Temple, where they meet a winged lemur whom Aang later names Momo. It is there that Aang learns that he was in the ice for a whole century, and that the Fire Nation wiped out his people, including Gyatso. After a series of misadventures, Aang meets his previous incarnation, Roku, who informs him that he must master all four bending arts and end the war before the coming of Sozin's Comet at the end of summer. Upon arriving to the Northern Water Tribe, after a few conflicts, Aang became an apprentice of Waterbending Master Pakku alongside Katara. After helping the Water Tribe drive off a Fire Nation invasion headed by Admiral Zhao, with Katara as his teacher, Aang and his group journey to the Earth Kingdom to find an Earthbending teacher.\n",
      "\n",
      "====Book Two: Earth====\n",
      "\n",
      "In the second season, Aang learns Earthbending from Toph Beifong after he has a vision of the blind Earthbending prodigy in a swamp telling him to find her. On their journey, they are chased by Fire Princess Azula and her friends Mai and Ty Lee. The group learns about the Day of Black Sun in a secret underground library, and they attempt to reveal the information to the Earth King at Ba Sing Se. However, their flying bison, Appa, is captured by Sandbenders. Aang grows upset and angry and confronts the Sandbenders, learning that Appa has been sold. After stopping a Fire Nation drill threatening the safety of Ba Sing Se, they look for Appa only to find themselves dealing with the Dai Li before exposing their leader's deception. The group reunites with Jet helping them find Appa at Dai Li headquarters. They expose the Hundred Year War to the Earth King, who promises to help them invade the Fire Nation. Soon after, Aang meets a guru who attempts to teach Aang to open his seven chakras in order to control the defensive 'Avatar State'; but when Aang perceives Katara in danger, he leaves before the seventh chakra is opened, and thus loses his progress until the seventh is opened. Though Aang manages to unlock the Seventh Chakra, he is mortally wounded by Azula, yet was saved by Katara before the injury became truly fatal.\n",
      "\n",
      "====Book Three: Fire====\n",
      "\n",
      "In the third and final season, Aang is unable to use the Avatar State. Although reluctant with the plan at first, Aang accepts to have everyone think he had died and his remaining allies attack the Fire Nation's capital, but are thwarted by Azula. However, Zuko has a change of heart, rebels against his father, and offers to teach Aang Firebending. Aang and Zuko also improve their Firebending powers with the help of their world's last two dragons. During the finale, finding himself on a strange island, Aang is reluctant to actually kill Fire Lord Ozai, despite his four previous past lives convincing him it is the only way. But upon learning that he was actually on the back of a Lion Turtle, one of four that made the first benders by manipulating humans' chi, Aang receives the Lion Turtles' Energybending ability. With this ability, as he regained his Avatar State, Aang removes Ozai's bending ability, rendering him harmless and ending the Hundred Year War. Later, in the Fire Nation capital, Aang is seen beside Zuko, the new Fire Lord. The series ends with Aang and his friends relaxing at Iroh's tea shop at Ba Sing Se, where Aang and Katara share a kiss.\n",
      "\n",
      "==== Avatar: The Last Airbender (comics) ====\n",
      "\n",
      "After beginning the Harmony Restoration Movement, an event that was meant to remove Fire Nation remnants from the Earth Kingdom, Aang agrees to end Zuko's life should he go down a path similar to his father, after the latter requests it, being stopped by Katara from entering the Avatar State as he began a later encounter with Zuko and then tries to mediate protestors and the Yu Dao resistance, afterward assembling members of a fan club and forming the \"Air Acolytes\", a group that he intends to teach the ways of the Air Nomads. Aang then participated in a search for Zuko's mother Ursa, successfully finding her and entering the Spirit World to assist in locating the Mother of Faces, convincing her to grant Rafa a new face. After a period of entertainment, Aang is contacted by his former life Yangchen, who tried contacting him about Old Iron's return. Aang also has a fight with the Rough Rhinos when they try to oust him from the Eastern Fire Refinery. Aang then aids in preventing Azula, disguised as the Kemurikage, from stealing any more children.\n",
      "\n",
      "===The Legend of Korra===\n",
      "\n",
      "Some sixty years prior to the series, Avatar Aang and Fire Lord Zuko founded the United Republic of Nations, and its capital Republic City. In the following years, Aang married Katara and they have three children: Bumi (named for Aang's old friend), Kya (after Katara's deceased mother), and Tenzin. In his adult years, Aang grew a neatly cropped chinstrap beard, which many statues of Aang's adult form depict him with, including the one in the restored Southern Air Temple. He also founded the Air Acolytes, a sect who eschewed their home cultures in favor of following the Air Nomads' way of life (the comics reveal that the first Air Acolytes were the reorganized Avatar Fan Club). A forty-year-old Aang assisted Toph in arresting Water Tribe crime lord Yakone. As Aang watched the trial where Yakone was convicted of using the rare and illegal technique Bloodbending, Yakone tried to escape Republic City, using his unique abilities to subdue everyone in the court room, thus leaving them unconscious. Able to resist Yakone's Bloodbending through the Avatar State, Aang used his Energybending abilities to put a halt to Yakone's plans.\n",
      "\n",
      "Being frozen in an iceberg for a hundred years while in the Avatar State drained much of Aang's life energy. While he did not feel the effects for many years, after he entered middle age in his 50s, the strain of this exertion increasingly weighed upon his body. Ultimately, it resulted in Aang dying at the relatively young biological age of 66, in 153 AG. Aang was survived by his wife, Katara, and his three children, but he did not live to see his grandchildren, all of whom would be powerful Airbenders. Prior to his death, Aang tasked the Order of the White Lotus with finding and guiding the new Avatar after him. When Aang died, the Avatar spirit reincarnated into the Southern Water Tribe female Korra. Aang intended for the Order to simply guide and guard Korra, but several mishaps in the aftermath of Aang's death (including a kidnapping attempt by the anarchist Zaheer) and the still-fragile state of relations between the now-Five Nations resulted in Katara and Tenzin sequestering Korra in a compound at the South Pole, bringing teachers to her instead of allowing her to seek out her own.\n",
      "\n",
      "====Book One: Air====\n",
      "\n",
      "In the sequel series' first season, Avatar Aang's spirit occasionally serves as the spiritual advisor to seventeen-year-old Korra (much like the previous Avatar incarnation, Roku, did for Aang). Initially, Aang is only able to give Korra glimpses of his memory concerning Yakone in relation to her confrontations with his two sons, Amon and Tarrlok, the products of Yakone's Bloodbending vendetta on the Avatar. It is only after she loses her ability to bend that Korra allows herself to listen to her past lives, at which point Aang restores her powers by triggering the Avatar State and teaching her to Energybend.\n",
      "\n",
      "====Book Two: Spirit====\n",
      "\n",
      "The sequel series' second season reveals that Avatar Aang apparently treated Tenzin as his favorite child, due to his son's Airbender status; Kya and Bumi mentioned to Tenzin that Aang always took Tenzin on vacations with him, but never them. Aang's Air Acolytes also were unaware that Aang had two other children besides Tenzin. Aang himself later appears, along with Roku, Kyoshi and Kuruk, before Korra in a vision and encourages her to learn the origins of Wan (the first Avatar) and Raava. Aang, or possibly a vision of him, later appears in the Spirit World, encouraging Tenzin to move past the enormous legacy of being Aang's son and find his own path. Korra's connection to Aang and the other preceding Avatars is severed when Vaatu extracts and subsequently kills Raava, the divine Avatar Spirit entity within her. Even though Raava is reborn and fused again with Korra, she discovers, to her dismay, that her spiritual connection to Aang and all past Avatars is gone forever.\n"
     ]
    }
   ],
   "source": [
    "print(name_to_article['Aang'])"
   ]
  },
  {
   "cell_type": "code",
   "execution_count": 20,
   "metadata": {},
   "outputs": [
    {
     "data": {
      "text/plain": [
       "15325"
      ]
     },
     "execution_count": 20,
     "metadata": {},
     "output_type": "execute_result"
    }
   ],
   "source": [
    "len(name_to_article)"
   ]
  },
  {
   "cell_type": "code",
   "execution_count": 24,
   "metadata": {
    "scrolled": false
   },
   "outputs": [],
   "source": [
    "def purge(article_data):\n",
    "    output = {}\n",
    "    for name, article in article_data.items():\n",
    "        match = re.search('==.*(Characters|Cast).*==', article, re.IGNORECASE)\n",
    "        if not match:\n",
    "            output[name] = article\n",
    "#             print('sdf')\n",
    "#         else:\n",
    "#             print(name)\n",
    "#             print(match.group(0))\n",
    "    return output\n",
    "\n",
    "cleaned = purge(name_to_article)"
   ]
  },
  {
   "cell_type": "code",
   "execution_count": 26,
   "metadata": {},
   "outputs": [],
   "source": [
    "utils.archive_data('character_bios.pickle')"
   ]
  },
  {
   "cell_type": "code",
   "execution_count": 6,
   "metadata": {},
   "outputs": [
    {
     "name": "stdout",
     "output_type": "stream",
     "text": [
      "['==.*?Portrayal.*?==', '==.*?Casting.*?==', '==.*?Reception.*?==', '==.*?In popular culture.*?==', '==.*?Parodies.*?==']\n"
     ]
    }
   ],
   "source": [
    "def get_truncated_character_bios():\n",
    "    sections = ['Portrayal', 'Casting', 'Reception', 'In popular culture', 'Parodies']\n",
    "    patterns = [f'==.*?{s}.*?==' for s in sections]\n",
    "    for name, article in character_bios()\n",
    "\n",
    "    get_truncated_character_bios()\n",
    "    "
   ]
  }
 ],
 "metadata": {
  "kernelspec": {
   "display_name": "Python 3",
   "language": "python",
   "name": "python3"
  },
  "language_info": {
   "codemirror_mode": {
    "name": "ipython",
    "version": 3
   },
   "file_extension": ".py",
   "mimetype": "text/x-python",
   "name": "python",
   "nbconvert_exporter": "python",
   "pygments_lexer": "ipython3",
   "version": "3.6.0"
  }
 },
 "nbformat": 4,
 "nbformat_minor": 2
}
