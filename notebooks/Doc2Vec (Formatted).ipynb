{
 "cells": [
  {
   "cell_type": "code",
   "execution_count": 2,
   "metadata": {
    "scrolled": false
   },
   "outputs": [
    {
     "name": "stdout",
     "output_type": "stream",
     "text": [
      "/Users/nbeshouri/Documents/Projects/Metis/Project 4\n"
     ]
    }
   ],
   "source": [
    "cd /Users/nbeshouri/Documents/Projects/Metis/Project\\ 4"
   ]
  },
  {
   "cell_type": "code",
   "execution_count": 3,
   "metadata": {},
   "outputs": [],
   "source": [
    "from hwmf import utils, data\n",
    "import re\n",
    "import gensim\n",
    "from gensim.models import doc2vec"
   ]
  },
  {
   "cell_type": "code",
   "execution_count": 96,
   "metadata": {},
   "outputs": [],
   "source": [
    "name_to_bio_lemmas = utils.load_data('character_bios_lemmatized.pickle')\n",
    "name_to_bio_tokens = utils.load_data('character_bios_tokenized.pickle')"
   ]
  },
  {
   "cell_type": "code",
   "execution_count": 142,
   "metadata": {},
   "outputs": [],
   "source": [
    "name_to_article = data.get_character_articles()"
   ]
  },
  {
   "cell_type": "code",
   "execution_count": null,
   "metadata": {},
   "outputs": [],
   "source": [
    "[(key, value) for key, value in name_to_bio_tokens.items() if key in name_to_article]"
   ]
  },
  {
   "cell_type": "code",
   "execution_count": 151,
   "metadata": {},
   "outputs": [],
   "source": [
    "# This is a hacky think to filter out the stuff that should have been removed by now.\n",
    "name_to_bio_lemmas = dict((key, value) for key, value in name_to_bio_tokens.items() if key in name_to_article) "
   ]
  },
  {
   "cell_type": "code",
   "execution_count": 126,
   "metadata": {},
   "outputs": [
    {
     "data": {
      "text/plain": [
       "['that', 'how', 'we', 'do', 'it', 'yeah', 'man']"
      ]
     },
     "execution_count": 126,
     "metadata": {},
     "output_type": "execute_result"
    }
   ],
   "source": [
    "gensim.utils.simple_preprocess(\"that's how we do it!\\nyeah man\")"
   ]
  },
  {
   "cell_type": "code",
   "execution_count": 112,
   "metadata": {
    "scrolled": true
   },
   "outputs": [
    {
     "name": "stdout",
     "output_type": "stream",
     "text": [
      "1000\n",
      "2000\n",
      "3000\n",
      "4000\n",
      "5000\n",
      "6000\n",
      "7000\n",
      "8000\n",
      "9000\n",
      "10000\n",
      "11000\n",
      "12000\n",
      "13000\n",
      "14000\n",
      "15000\n"
     ]
    }
   ],
   "source": [
    "title_black_list = utils.load_values('character_article_title_black_list.csv')\n",
    "word_black_list = utils.load_values('character_article_word_black_list.csv')\n",
    "\n",
    "name_to_article = name_to_bio_lemmas\n",
    "\n",
    "def merge_sents(sents):\n",
    "    return ' '.join(sents)\n",
    "\n",
    "def remove_black_listed(doc_string):\n",
    "    patterns = [r'<.+?>']\n",
    "#     patterns = []\n",
    "    black_list = sorted(word_black_list, key=lambda x: -len(x))\n",
    "    for pattern in word_black_list:\n",
    "        patterns.append(r'\\b' + pattern + '\\b')\n",
    "    patterns += word_black_list\n",
    "    for pattern in patterns:\n",
    "        doc_string = re.sub(pattern, '', doc_string)\n",
    "    return doc_string\n",
    "\n",
    "def to_word_list(sents):\n",
    "    merged = merge_sents(sents)\n",
    "    merged = remove_black_listed(merged)\n",
    "    return gensim.utils.simple_preprocess(merged)\n",
    "\n",
    "# def to_word_list(sents):\n",
    "#     merged = merge_sents(sents)\n",
    "#     merged = remove_black_listed(merged)\n",
    "#     split = merged.split(' ')\n",
    "#     return [word.strip() for word in split if word.strip()]\n",
    "\n",
    "train_corpus = []\n",
    "count = 0\n",
    "for name, bio_sents in name_to_article.items():\n",
    "    merged = to_word_list(bio_sents)\n",
    "    doc = doc2vec.TaggedDocument(merged, [name])\n",
    "    train_corpus.append(doc)\n",
    "    count += 1\n",
    "    if count % 1000 == 0:\n",
    "        print(count)\n"
   ]
  },
  {
   "cell_type": "code",
   "execution_count": 113,
   "metadata": {
    "collapsed": true
   },
   "outputs": [
    {
     "data": {
      "text/plain": [
       "['accord',\n",
       " 'back',\n",
       " 'build',\n",
       " 'high',\n",
       " 'tech',\n",
       " 'industrial',\n",
       " 'metalworking',\n",
       " 'robot',\n",
       " 'build',\n",
       " 'manufacturing',\n",
       " 'facility',\n",
       " 'unlike',\n",
       " 'robot',\n",
       " 'mortal',\n",
       " 'accord',\n",
       " 'calculation',\n",
       " 'year',\n",
       " 'live',\n",
       " 'after',\n",
       " 'report',\n",
       " 'defect',\n",
       " 'manufacturer',\n",
       " 'barely',\n",
       " 'escape',\n",
       " 'death',\n",
       " 'guide',\n",
       " 'missile',\n",
       " 'robot',\n",
       " 'death',\n",
       " 'squad',\n",
       " 'dispatch',\n",
       " 'mom',\n",
       " 'order',\n",
       " 'eliminate',\n",
       " 'effectively',\n",
       " 'defective',\n",
       " 'product',\n",
       " 'market',\n",
       " 'job',\n",
       " 'metalworking',\n",
       " 'fy',\n",
       " 'bend',\n",
       " 'steel',\n",
       " 'girder',\n",
       " 'construction',\n",
       " 'suicide',\n",
       " 'booth',\n",
       " 'apartment',\n",
       " 'although',\n",
       " 'pair',\n",
       " 'enjoy',\n",
       " 'live',\n",
       " 'portray',\n",
       " 'manipulate',\n",
       " 'guileless',\n",
       " 'friend',\n",
       " 'in',\n",
       " 'early',\n",
       " 'show',\n",
       " 'prefer',\n",
       " 'occupy',\n",
       " 'small',\n",
       " 'area',\n",
       " 'apartment',\n",
       " 'like',\n",
       " 'closet',\n",
       " 'refer',\n",
       " 'cozy',\n",
       " 'later',\n",
       " 'show',\n",
       " 'individual',\n",
       " 'bedroom',\n",
       " 'like',\n",
       " 'hat',\n",
       " 'magnet',\n",
       " 'near',\n",
       " 'pathological',\n",
       " 'fear',\n",
       " 'electric',\n",
       " 'opener',\n",
       " 'magnet',\n",
       " 'because',\n",
       " 'uncontrollably',\n",
       " 'start',\n",
       " 'sing',\n",
       " 'folk',\n",
       " 'song',\n",
       " 'near',\n",
       " 'head',\n",
       " 'magnet',\n",
       " 'shut',\n",
       " 'inhibition',\n",
       " 'cause',\n",
       " 'reveal',\n",
       " 'secret',\n",
       " 'ambition',\n",
       " 'folk',\n",
       " 'singer',\n",
       " 'round',\n",
       " 'peg',\n",
       " 'square',\n",
       " 'hole',\n",
       " 'in',\n",
       " 'state',\n",
       " 'flip',\n",
       " 'coin',\n",
       " 'decide',\n",
       " 'color',\n",
       " 'end',\n",
       " 'foghat',\n",
       " 'gray',\n",
       " 'gold',\n",
       " 'in',\n",
       " 'show',\n",
       " 'kid',\n",
       " 'black',\n",
       " 'white',\n",
       " 'mug',\n",
       " 'shoot',\n",
       " 'take',\n",
       " 'arrest',\n",
       " 'theft',\n",
       " 'in',\n",
       " 'show',\n",
       " 'try',\n",
       " 'join',\n",
       " 'basketball',\n",
       " 'team',\n",
       " 'make',\n",
       " 'tall',\n",
       " 'simply',\n",
       " 'extend',\n",
       " 'leg',\n",
       " 'in',\n",
       " 'claim',\n",
       " 'nose',\n",
       " 'choose',\n",
       " 'wear',\n",
       " 'design',\n",
       " 'specifically',\n",
       " 'relatively',\n",
       " 'simple',\n",
       " 'task',\n",
       " 'bend',\n",
       " 'straight',\n",
       " 'metal',\n",
       " 'girder',\n",
       " 'angle',\n",
       " 'reboot',\n",
       " 'presumably',\n",
       " 'separate',\n",
       " 'catchphrase',\n",
       " 'drive',\n",
       " 'majority',\n",
       " 'catchphrase',\n",
       " 'pornographic',\n",
       " 'power',\n",
       " 'alcohol',\n",
       " 'base',\n",
       " 'fuel',\n",
       " 'convert',\n",
       " 'electrical',\n",
       " 'power',\n",
       " 'source',\n",
       " 'sufficient',\n",
       " 'operate',\n",
       " 'small',\n",
       " 'household',\n",
       " 'appliance',\n",
       " 'plug',\n",
       " 'power',\n",
       " 'receptacle',\n",
       " 'classic',\n",
       " 'nissist',\n",
       " 'be',\n",
       " 'breakout',\n",
       " 'different',\n",
       " 'the',\n",
       " 'within',\n",
       " 'the',\n",
       " 'appear',\n",
       " 'vs',\n",
       " 'vs',\n",
       " 'impossible',\n",
       " 'in',\n",
       " 'travel',\n",
       " 'time',\n",
       " 'kill',\n",
       " 'dna',\n",
       " 'tie',\n",
       " 'creature',\n",
       " 'rampage',\n",
       " 'end',\n",
       " 'befriend',\n",
       " 'learn',\n",
       " 'creature',\n",
       " 'fact',\n",
       " 'genetic',\n",
       " 'offspring',\n",
       " 'once',\n",
       " 'crisis',\n",
       " 'avert',\n",
       " 'go',\n",
       " 'shutdown',\n",
       " 'mode',\n",
       " 'basement',\n",
       " 'rest',\n",
       " 'inert',\n",
       " 'basement',\n",
       " 'body',\n",
       " 'cavity',\n",
       " 'store',\n",
       " 'family',\n",
       " 'cash',\n",
       " 'nest',\n",
       " 'egg',\n",
       " 'make',\n",
       " 'background']"
      ]
     },
     "execution_count": 113,
     "metadata": {},
     "output_type": "execute_result"
    }
   ],
   "source": [
    "to_word_list(name_to_article['Bender (Futurama)'])"
   ]
  },
  {
   "cell_type": "code",
   "execution_count": 153,
   "metadata": {},
   "outputs": [
    {
     "name": "stderr",
     "output_type": "stream",
     "text": [
      "WARNING:gensim.models.base_any2vec:consider setting layer size to a multiple of 4 for greater performance\n"
     ]
    }
   ],
   "source": [
    "# model = gensim.models.doc2vec.Doc2Vec(vector_size=50, min_count=2, epochs=50)\n",
    "model = gensim.models.doc2vec.Doc2Vec(vector_size=50, window=10, epochs=50)\n",
    "model.build_vocab(train_corpus)"
   ]
  },
  {
   "cell_type": "code",
   "execution_count": 154,
   "metadata": {
    "scrolled": true
   },
   "outputs": [
    {
     "name": "stdout",
     "output_type": "stream",
     "text": [
      "CPU times: user 10h 5min 21s, sys: 29min 38s, total: 10h 35min\n",
      "Wall time: 4h 35min 34s\n"
     ]
    }
   ],
   "source": [
    "%time model.train(train_corpus, total_examples=model.corpus_count, epochs=5000)"
   ]
  },
  {
   "cell_type": "code",
   "execution_count": 159,
   "metadata": {},
   "outputs": [
    {
     "data": {
      "text/plain": [
       "1"
      ]
     },
     "execution_count": 159,
     "metadata": {},
     "output_type": "execute_result"
    }
   ],
   "source": [
    "gensim.models.doc2vec.FAST_VERSION"
   ]
  },
  {
   "cell_type": "code",
   "execution_count": 158,
   "metadata": {},
   "outputs": [],
   "source": [
    "model.save('first_that_doesnt_suck.model')"
   ]
  },
  {
   "cell_type": "code",
   "execution_count": 4,
   "metadata": {},
   "outputs": [],
   "source": [
    "model = utils.load_data('doc2vec_extracts.pickle')"
   ]
  },
  {
   "cell_type": "code",
   "execution_count": 5,
   "metadata": {},
   "outputs": [
    {
     "data": {
      "text/plain": [
       "[('Théoden', 0.6452826857566833),\n",
       " ('Lin Beifong', 0.5620329976081848),\n",
       " ('Taran (character)', 0.5428361296653748),\n",
       " ('Jacen Solo', 0.5262340903282166),\n",
       " ('Daughters of Finwë', 0.5107818245887756),\n",
       " ('Caliban', 0.5030316710472107),\n",
       " ('Ezio Auditore da Firenze', 0.49988019466400146),\n",
       " ('Rachel Summers', 0.4998725354671478),\n",
       " ('Keredic', 0.4998697340488434),\n",
       " ('Martine (character)', 0.4983367919921875)]"
      ]
     },
     "execution_count": 5,
     "metadata": {},
     "output_type": "execute_result"
    }
   ],
   "source": [
    "# After training\n",
    "model.docvecs.most_similar('Zuko')"
   ]
  },
  {
   "cell_type": "code",
   "execution_count": 6,
   "metadata": {},
   "outputs": [
    {
     "data": {
      "text/plain": [
       "[('Luke Skywalker', 0.6885805130004883),\n",
       " ('Darth Bane', 0.6119592785835266),\n",
       " ('Obi-Wan Kenobi', 0.5899578332901001),\n",
       " ('Qui-Gon Jinn', 0.5864250659942627),\n",
       " ('Michael Williams (Henry V)', 0.5806146860122681),\n",
       " ('Mace Windu', 0.5779798030853271),\n",
       " ('Harry Potter (character)', 0.5710346698760986),\n",
       " ('Revan', 0.5558763742446899),\n",
       " ('Míster Danger', 0.546698272228241),\n",
       " ('Nightwolf', 0.5385563373565674)]"
      ]
     },
     "execution_count": 6,
     "metadata": {},
     "output_type": "execute_result"
    }
   ],
   "source": [
    "model.docvecs.most_similar('Yoda')"
   ]
  },
  {
   "cell_type": "code",
   "execution_count": 156,
   "metadata": {},
   "outputs": [
    {
     "data": {
      "text/plain": [
       "[('Bran Stark', 0.6570450067520142),\n",
       " ('Naruto Uzumaki', 0.6490170955657959),\n",
       " ('Aerith Gainsborough', 0.6444741487503052),\n",
       " ('Maximilian Jenius', 0.6083365082740784),\n",
       " ('Kakashi Hatake', 0.5698568820953369),\n",
       " ('Goku', 0.5684899091720581),\n",
       " ('Lelouch Lamperouge', 0.563614010810852),\n",
       " ('Paul Atreides', 0.5528197288513184),\n",
       " ('Boruto Uzumaki', 0.5497936606407166),\n",
       " ('Momiji (Ninja Gaiden)', 0.5424197316169739)]"
      ]
     },
     "execution_count": 156,
     "metadata": {},
     "output_type": "execute_result"
    }
   ],
   "source": [
    "# After\n",
    "model.docvecs.most_similar('Aang')"
   ]
  },
  {
   "cell_type": "code",
   "execution_count": 137,
   "metadata": {},
   "outputs": [
    {
     "data": {
      "text/plain": [
       "[('Aerith Gainsborough', 0.6787601709365845),\n",
       " ('Bran Stark', 0.5986438393592834),\n",
       " ('Goku', 0.5943489670753479),\n",
       " ('Gohan', 0.5703436136245728),\n",
       " ('Anna (Frozen)', 0.5645865201950073),\n",
       " ('Lelouch Lamperouge', 0.5546486377716064),\n",
       " ('Count Dooku', 0.5480912923812866),\n",
       " ('Paul Atreides', 0.545677900314331),\n",
       " ('Kyle Reese', 0.5450496673583984),\n",
       " ('Korra', 0.5447707176208496)]"
      ]
     },
     "execution_count": 137,
     "metadata": {},
     "output_type": "execute_result"
    }
   ],
   "source": [
    "model.docvecs.most_similar('Aang')"
   ]
  },
  {
   "cell_type": "code",
   "execution_count": 139,
   "metadata": {},
   "outputs": [
    {
     "data": {
      "text/plain": [
       "[('Qui-Gon Jinn', 0.7101578712463379),\n",
       " ('Luke Skywalker', 0.6712669730186462),\n",
       " ('Optimus Prime', 0.6421325206756592),\n",
       " ('Vegeta', 0.6367337703704834),\n",
       " ('Hao Asakura', 0.6160750389099121),\n",
       " ('Obi-Wan Kenobi', 0.6145543456077576),\n",
       " ('Raoh', 0.5810256004333496),\n",
       " ('Darth Bane', 0.5740638971328735),\n",
       " ('Sephiroth (Final Fantasy)', 0.5709008574485779),\n",
       " ('Aqua (Kingdom Hearts)', 0.5666394829750061)]"
      ]
     },
     "execution_count": 139,
     "metadata": {},
     "output_type": "execute_result"
    }
   ],
   "source": [
    "model.docvecs.most_similar('Yoda')"
   ]
  },
  {
   "cell_type": "code",
   "execution_count": 157,
   "metadata": {},
   "outputs": [
    {
     "data": {
      "text/plain": [
       "[('Qui-Gon Jinn', 0.6633567810058594),\n",
       " ('Luke Skywalker', 0.6167474985122681),\n",
       " ('Optimus Prime', 0.6107190847396851),\n",
       " ('Scourge (Transformers)', 0.5825558304786682),\n",
       " ('Kanan Jarrus', 0.5685822367668152),\n",
       " ('Zuko', 0.5668113231658936),\n",
       " ('Gimli (Middle-earth)', 0.565727710723877),\n",
       " ('Mokujin', 0.5602508783340454),\n",
       " ('Albus Dumbledore', 0.5537698268890381),\n",
       " ('Beorn', 0.5510784387588501)]"
      ]
     },
     "execution_count": 157,
     "metadata": {},
     "output_type": "execute_result"
    }
   ],
   "source": [
    "# After\n",
    "model.docvecs.most_similar('Yoda')"
   ]
  },
  {
   "cell_type": "code",
   "execution_count": 68,
   "metadata": {},
   "outputs": [],
   "source": [
    "def find_most_similar(word_list):\n",
    "    inferred_vector = model.infer_vector(word_list)\n",
    "#     print(len(inferred_vector))\n",
    "    sims = model.docvecs.most_similar([inferred_vector], topn=10)\n",
    "    return sims"
   ]
  },
  {
   "cell_type": "code",
   "execution_count": 69,
   "metadata": {
    "collapsed": true
   },
   "outputs": [
    {
     "data": {
      "text/plain": [
       "[('Bender (Futurama)', 0.9172766208648682),\n",
       " ('Burt Gummer', 0.6373168230056763),\n",
       " ('Sammy the Shunter', 0.6062910556793213),\n",
       " ('The Smurfs (comics)', 0.5927327275276184),\n",
       " ('Karla (character)', 0.5844019055366516),\n",
       " ('Nick Carter-Killmaster', 0.5783843398094177),\n",
       " ('Mega Mindy', 0.5779253840446472),\n",
       " ('Yig', 0.5778729915618896),\n",
       " ('Jerom', 0.5753814578056335),\n",
       " ('Pluk van de Petteflet', 0.5753750801086426)]"
      ]
     },
     "execution_count": 69,
     "metadata": {},
     "output_type": "execute_result"
    }
   ],
   "source": [
    "word_list = to_word_list(name_to_article['Bender (Futurama)'])\n",
    "find_most_similar(word_list)"
   ]
  },
  {
   "cell_type": "code",
   "execution_count": 18,
   "metadata": {},
   "outputs": [
    {
     "name": "stdout",
     "output_type": "stream",
     "text": [
      "0\n"
     ]
    }
   ],
   "source": [
    "for doc in train_corpus_docs:\n",
    "    page_name = doc.tags[0]\n",
    "    inferred_vector = model.infer_vector(train_corpus[page_name].words)\n",
    "    sims = model.docvecs.most_similar([inferred_vector], topn=5\n",
    "    print('Character:', page_name, 'Most Similar:'\n",
    "    rank = [docid for docid, sim in sims].index(page_name)\n",
    "    print(rank)\n",
    "    break"
   ]
  },
  {
   "cell_type": "code",
   "execution_count": 165,
   "metadata": {},
   "outputs": [
    {
     "name": "stdout",
     "output_type": "stream",
     "text": [
      "238 ms ± 12.1 ms per loop (mean ± std. dev. of 7 runs, 1 loop each)\n"
     ]
    }
   ],
   "source": [
    "from math import sin, cos, radians\n",
    "\n",
    "def bench():\n",
    "    product = 1.0\n",
    "    for counter in range(1, 1000, 1):\n",
    "        for dex in list(range(1, 360, 1)):\n",
    "            angle = radians(dex)\n",
    "            product *= sin(angle)**2 + cos(angle)**2\n",
    "    return product\n",
    "%timeit bench()"
   ]
  }
 ],
 "metadata": {
  "kernelspec": {
   "display_name": "Python 3",
   "language": "python",
   "name": "python3"
  }
 },
 "nbformat": 4,
 "nbformat_minor": 2
}
