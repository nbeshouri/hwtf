{
 "cells": [
  {
   "cell_type": "code",
   "execution_count": 1,
   "metadata": {
    "scrolled": true
   },
   "outputs": [
    {
     "name": "stdout",
     "output_type": "stream",
     "text": [
      "/home/ubuntu/Dropbox/project_4\n"
     ]
    }
   ],
   "source": [
    "cd ~/Dropbox/project_4"
   ]
  },
  {
   "cell_type": "code",
   "execution_count": 2,
   "metadata": {},
   "outputs": [],
   "source": [
    "from hwmf import utils, data\n",
    "import re\n",
    "import gensim\n",
    "from gensim.models import doc2vec\n",
    "from gensim import corpora, models, similarities, matutils\n",
    "from sklearn.feature_extraction.text import CountVectorizer"
   ]
  },
  {
   "cell_type": "code",
   "execution_count": 3,
   "metadata": {},
   "outputs": [],
   "source": [
    "name_to_article = data.get_character_articles()"
   ]
  },
  {
   "cell_type": "code",
   "execution_count": 5,
   "metadata": {},
   "outputs": [],
   "source": [
    "names, articles = list(zip(*name_to_article.items()))"
   ]
  },
  {
   "cell_type": "code",
   "execution_count": 5,
   "metadata": {},
   "outputs": [],
   "source": [
    "names = []\n",
    "articles = []\n",
    "for name, article in name_to_article.items():\n",
    "    names.append(name)\n",
    "    articles.append(article)"
   ]
  },
  {
   "cell_type": "code",
   "execution_count": 6,
   "metadata": {
    "scrolled": false
   },
   "outputs": [],
   "source": [
    "title_black_list = utils.load_values('character_article_title_black_list.csv')\n",
    "word_black_list = utils.load_values('character_article_word_black_list.csv')\n",
    "\n",
    "def remove_black_listed(doc_string):\n",
    "    black_list = sorted(word_black_list, key=lambda x: -len(x))\n",
    "    patterns = []\n",
    "    for pattern in word_black_list:\n",
    "        patterns.append(r'\\b' + pattern + '\\b')\n",
    "    patterns += word_black_list\n",
    "    for pattern in patterns:\n",
    "        doc_string = re.sub(pattern, '', doc_string)\n",
    "    return doc_string\n",
    "\n",
    "def to_word_list(sents):\n",
    "    merged = merge_sents(sents)\n",
    "    merged = remove_black_listed(merged)\n",
    "    return gensim.utils.simple_preprocess(merged)\n",
    "\n",
    "\n",
    "count_vectorizer = CountVectorizer(ngram_range=(1, 2),  \n",
    "                                   stop_words='english', token_pattern=\"\\\\b[a-z][a-z]+\\\\b\")\n",
    "counts = count_vectorizer.fit_transform(articles)\n",
    "counts = counts.transpose()\n",
    "corpus = matutils.Sparse2Corpus(counts)"
   ]
  },
  {
   "cell_type": "code",
   "execution_count": null,
   "metadata": {
    "scrolled": false
   },
   "outputs": [],
   "source": [
    "id2word = dict((v, k) for k, v in count_vectorizer.vocabulary_.items())\n",
    "lda = models.LdaMulticore(corpus=corpus, num_topics=20, minimum_probability=0.03, id2word=id2word, passes=10, workers=8)"
   ]
  },
  {
   "cell_type": "code",
   "execution_count": 21,
   "metadata": {},
   "outputs": [
    {
     "data": {
      "text/plain": [
       "[(0,\n",
       "  '0.004*\"lantern\" + 0.003*\"green\" + 0.002*\"ring\" + 0.002*\"green lantern\" + 0.002*\"corps\" + 0.002*\"jordan\" + 0.002*\"hal\" + 0.002*\"swamp\" + 0.002*\"swamp thing\" + 0.002*\"lanterns\"'),\n",
       " (1,\n",
       "  '0.005*\"avengers\" + 0.003*\"man\" + 0.003*\"hulk\" + 0.003*\"stark\" + 0.002*\"marvel\" + 0.002*\"iron\" + 0.002*\"iron man\" + 0.001*\"mario\" + 0.001*\"fantastic\" + 0.001*\"thanos\"'),\n",
       " (2,\n",
       "  '0.002*\"captain\" + 0.002*\"america\" + 0.002*\"comics\" + 0.002*\"captain america\" + 0.002*\"marvel\" + 0.001*\"man\" + 0.001*\"tony\" + 0.001*\"character\" + 0.001*\"iron\" + 0.001*\"issue\"'),\n",
       " (3,\n",
       "  '0.004*\"later\" + 0.003*\"character\" + 0.003*\"episode\" + 0.003*\"season\" + 0.003*\"father\" + 0.002*\"series\" + 0.002*\"relationship\" + 0.002*\"tells\" + 0.002*\"family\" + 0.002*\"time\"'),\n",
       " (4,\n",
       "  '0.001*\"popov\" + 0.001*\"tig\" + 0.001*\"samcro\" + 0.001*\"clay\" + 0.001*\"kaz\" + 0.001*\"president\" + 0.001*\"chibs\" + 0.001*\"katniss\" + 0.001*\"wrestling\" + 0.001*\"billy\"'),\n",
       " (5,\n",
       "  '0.003*\"star\" + 0.002*\"wars\" + 0.002*\"star wars\" + 0.001*\"film\" + 0.001*\"godzilla\" + 0.001*\"jedi\" + 0.001*\"tiga\" + 0.001*\"trek\" + 0.001*\"star trek\" + 0.001*\"belial\"'),\n",
       " (6,\n",
       "  '0.004*\"new\" + 0.004*\"later\" + 0.004*\"character\" + 0.004*\"time\" + 0.003*\"series\" + 0.003*\"earth\" + 0.003*\"man\" + 0.002*\"power\" + 0.002*\"team\" + 0.002*\"powers\"'),\n",
       " (7,\n",
       "  '0.002*\"film\" + 0.002*\"queen\" + 0.002*\"fairy\" + 0.002*\"king\" + 0.001*\"disney\" + 0.001*\"hook\" + 0.001*\"snow\" + 0.001*\"regina\" + 0.001*\"princess\" + 0.001*\"emma\"'),\n",
       " (8,\n",
       "  '0.004*\"game\" + 0.004*\"doctor\" + 0.003*\"character\" + 0.002*\"series\" + 0.002*\"released\" + 0.001*\"vocaloid\" + 0.001*\"video\" + 0.001*\"games\" + 0.001*\"voice\" + 0.001*\"vocal\"'),\n",
       " (9,\n",
       "  '0.002*\"tanja\" + 0.002*\"phelan\" + 0.001*\"lecter\" + 0.001*\"ethan\" + 0.001*\"korra\" + 0.001*\"ansgar\" + 0.001*\"nathalie\" + 0.001*\"theresa\" + 0.001*\"graham\" + 0.001*\"lin\"'),\n",
       " (10,\n",
       "  '0.005*\"chuck\" + 0.001*\"dexter\" + 0.001*\"charlie\" + 0.001*\"vause\" + 0.001*\"versus\" + 0.001*\"barnabas\" + 0.001*\"chuck versus\" + 0.001*\"morgan\" + 0.001*\"walt\" + 0.001*\"sam\"'),\n",
       " (11,\n",
       "  '0.007*\"batman\" + 0.002*\"robin\" + 0.002*\"gotham\" + 0.002*\"bruce\" + 0.002*\"wayne\" + 0.001*\"gordon\" + 0.001*\"al\" + 0.001*\"joker\" + 0.001*\"damian\" + 0.001*\"dick\"'),\n",
       " (12,\n",
       "  '0.002*\"men\" + 0.002*\"franky\" + 0.002*\"brooke\" + 0.002*\"nathan\" + 0.001*\"bea\" + 0.001*\"sylar\" + 0.001*\"carrie\" + 0.001*\"emma\" + 0.001*\"mutant\" + 0.001*\"noah\"'),\n",
       " (13,\n",
       "  '0.003*\"andy\" + 0.001*\"manga\" + 0.001*\"sailor\" + 0.001*\"episode\" + 0.001*\"series\" + 0.001*\"anime\" + 0.001*\"michael\" + 0.001*\"turtles\" + 0.001*\"dwight\" + 0.001*\"boruto\"'),\n",
       " (14,\n",
       "  '0.003*\"align\" + 0.003*\"style\" + 0.003*\"center\" + 0.002*\"align center\" + 0.002*\"text\" + 0.002*\"text align\" + 0.002*\"colspan\" + 0.002*\"background\" + 0.001*\"style background\" + 0.001*\"center colspan\"'),\n",
       " (15,\n",
       "  '0.003*\"game\" + 0.002*\"character\" + 0.001*\"hiro\" + 0.001*\"fighter\" + 0.001*\"street\" + 0.001*\"wolverine\" + 0.001*\"games\" + 0.001*\"zero\" + 0.001*\"street fighter\" + 0.001*\"tekken\"'),\n",
       " (16,\n",
       "  '0.010*\"spider\" + 0.008*\"man\" + 0.007*\"spider man\" + 0.003*\"peter\" + 0.002*\"gwen\" + 0.002*\"parker\" + 0.001*\"thor\" + 0.001*\"punisher\" + 0.001*\"daredevil\" + 0.001*\"goblin\"'),\n",
       " (17,\n",
       "  '0.035*\"category\" + 0.014*\"characters\" + 0.008*\"fictional\" + 0.008*\"category fictional\" + 0.005*\"comics\" + 0.004*\"introduced\" + 0.004*\"characters introduced\" + 0.004*\"fictional characters\" + 0.003*\"characters category\" + 0.003*\"introduced category\"'),\n",
       " (18,\n",
       "  '0.003*\"michael\" + 0.003*\"rick\" + 0.002*\"negan\" + 0.002*\"cory\" + 0.001*\"saviors\" + 0.001*\"dwight\" + 0.001*\"warren\" + 0.001*\"daryl\" + 0.001*\"kay\" + 0.001*\"dracula\"'),\n",
       " (19,\n",
       "  '0.004*\"joe\" + 0.003*\"cobra\" + 0.001*\"monster\" + 0.001*\"transformers\" + 0.001*\"commander\" + 0.001*\"voiced\" + 0.001*\"autobots\" + 0.001*\"joes\" + 0.001*\"rangers\" + 0.001*\"snake\"')]"
      ]
     },
     "execution_count": 21,
     "metadata": {},
     "output_type": "execute_result"
    }
   ],
   "source": [
    "lda.print_topics()"
   ]
  },
  {
   "cell_type": "code",
   "execution_count": null,
   "metadata": {},
   "outputs": [],
   "source": []
  },
  {
   "cell_type": "code",
   "execution_count": null,
   "metadata": {},
   "outputs": [],
   "source": []
  },
  {
   "cell_type": "code",
   "execution_count": null,
   "metadata": {},
   "outputs": [],
   "source": []
  },
  {
   "cell_type": "code",
   "execution_count": null,
   "metadata": {},
   "outputs": [],
   "source": []
  },
  {
   "cell_type": "code",
   "execution_count": null,
   "metadata": {},
   "outputs": [],
   "source": []
  },
  {
   "cell_type": "code",
   "execution_count": 14,
   "metadata": {},
   "outputs": [],
   "source": [
    "print(name_to_article)"
   ]
  },
  {
   "cell_type": "code",
   "execution_count": null,
   "metadata": {},
   "outputs": [],
   "source": [
    "# gensim\n",
    "from gensim import corpora, models, similarities, matutils\n",
    "# sklearn\n",
    "from sklearn import datasets\n",
    "from sklearn.feature_extraction.text import CountVectorizer\n",
    "from sklearn.cluster import KMeans\n",
    "\n",
    "\n",
    "\n",
    "count_vectorizer = CountVectorizer(ngram_range=(1, 2), stop_words='english', token_pattern=\"\\\\b[a-z][a-z]+\\\\b\")\n",
    "count_vectorizer.fit(ng_train.data)"
   ]
  },
  {
   "cell_type": "code",
   "execution_count": null,
   "metadata": {},
   "outputs": [],
   "source": [
    "model = gensim.models.doc2vec.Doc2Vec(vector_size=300, window=10, epochs=50)\n",
    "model.build_vocab(train_corpus)"
   ]
  },
  {
   "cell_type": "code",
   "execution_count": null,
   "metadata": {
    "scrolled": true
   },
   "outputs": [],
   "source": [
    "%time model.train(train_corpus, total_examples=model.corpus_count, epochs=50)"
   ]
  },
  {
   "cell_type": "code",
   "execution_count": 36,
   "metadata": {},
   "outputs": [
    {
     "data": {
      "text/plain": [
       "[('Iroh', 0.42297089099884033),\n",
       " ('Aang', 0.4034014344215393),\n",
       " ('Korra', 0.4025777280330658),\n",
       " ('Katara (Avatar: The Last Airbender)', 0.40019285678863525),\n",
       " ('Azula', 0.3617665767669678),\n",
       " ('Raksha (The Jungle Book)', 0.35100889205932617),\n",
       " ('Zaheer (The Legend of Korra)', 0.34087809920310974),\n",
       " ('Toph Beifong', 0.33944350481033325),\n",
       " ('Sokka', 0.3380088806152344),\n",
       " ('Tenzin (The Legend of Korra)', 0.32860681414604187)]"
      ]
     },
     "execution_count": 36,
     "metadata": {},
     "output_type": "execute_result"
    }
   ],
   "source": [
    "model.docvecs.most_similar('Zuko')"
   ]
  },
  {
   "cell_type": "code",
   "execution_count": 37,
   "metadata": {},
   "outputs": [
    {
     "data": {
      "text/plain": [
       "[('Zuko', 0.4034014344215393),\n",
       " ('Katara (Avatar: The Last Airbender)', 0.39002037048339844),\n",
       " ('Korra', 0.35815495252609253),\n",
       " ('Zaheer (The Legend of Korra)', 0.3445892333984375),\n",
       " ('Tenzin (The Legend of Korra)', 0.33562031388282776),\n",
       " ('Sokka', 0.3217317461967468),\n",
       " ('Iroh', 0.3168046474456787),\n",
       " ('Bran Stark', 0.2853764295578003),\n",
       " ('Azula', 0.269309937953949),\n",
       " ('Johnny Smith (Dead Zone)', 0.2681092619895935)]"
      ]
     },
     "execution_count": 37,
     "metadata": {},
     "output_type": "execute_result"
    }
   ],
   "source": [
    "model.docvecs.most_similar('Aang')"
   ]
  },
  {
   "cell_type": "code",
   "execution_count": 38,
   "metadata": {},
   "outputs": [
    {
     "data": {
      "text/plain": [
       "[('Zoidberg', 0.31845948100090027),\n",
       " ('Gipsy Danger', 0.31159722805023193),\n",
       " ('Charlie Frost', 0.30390626192092896),\n",
       " ('Professor Bobo', 0.29978621006011963),\n",
       " ('Dick Solomon', 0.29420942068099976),\n",
       " ('Zapp Brannigan', 0.28526467084884644),\n",
       " ('Tom Paris', 0.285208523273468),\n",
       " ('Professor Hershel Layton', 0.2830590605735779),\n",
       " ('Thomas J. Whitmore', 0.2812904715538025),\n",
       " ('Kryten', 0.27740347385406494)]"
      ]
     },
     "execution_count": 38,
     "metadata": {},
     "output_type": "execute_result"
    }
   ],
   "source": [
    "model.docvecs.most_similar('Professor Farnsworth')"
   ]
  },
  {
   "cell_type": "code",
   "execution_count": null,
   "metadata": {},
   "outputs": [],
   "source": []
  },
  {
   "cell_type": "code",
   "execution_count": 68,
   "metadata": {},
   "outputs": [],
   "source": [
    "def find_most_similar(word_list):\n",
    "    inferred_vector = model.infer_vector(word_list)\n",
    "#     print(len(inferred_vector))\n",
    "    sims = model.docvecs.most_similar([inferred_vector], topn=10)\n",
    "    return sims"
   ]
  },
  {
   "cell_type": "code",
   "execution_count": 69,
   "metadata": {
    "collapsed": true
   },
   "outputs": [
    {
     "data": {
      "text/plain": [
       "[('Bender (Futurama)', 0.9172766208648682),\n",
       " ('Burt Gummer', 0.6373168230056763),\n",
       " ('Sammy the Shunter', 0.6062910556793213),\n",
       " ('The Smurfs (comics)', 0.5927327275276184),\n",
       " ('Karla (character)', 0.5844019055366516),\n",
       " ('Nick Carter-Killmaster', 0.5783843398094177),\n",
       " ('Mega Mindy', 0.5779253840446472),\n",
       " ('Yig', 0.5778729915618896),\n",
       " ('Jerom', 0.5753814578056335),\n",
       " ('Pluk van de Petteflet', 0.5753750801086426)]"
      ]
     },
     "execution_count": 69,
     "metadata": {},
     "output_type": "execute_result"
    }
   ],
   "source": [
    "word_list = to_word_list(name_to_article['Bender (Futurama)'])\n",
    "find_most_similar(word_list)"
   ]
  },
  {
   "cell_type": "code",
   "execution_count": 18,
   "metadata": {},
   "outputs": [
    {
     "name": "stdout",
     "output_type": "stream",
     "text": [
      "0\n"
     ]
    }
   ],
   "source": [
    "for doc in train_corpus_docs:\n",
    "    page_name = doc.tags[0]\n",
    "    inferred_vector = model.infer_vector(train_corpus[page_name].words)\n",
    "    sims = model.docvecs.most_similar([inferred_vector], topn=5\n",
    "    print('Character:', page_name, 'Most Similar:'\n",
    "    rank = [docid for docid, sim in sims].index(page_name)\n",
    "    print(rank)\n",
    "    break"
   ]
  }
 ],
 "metadata": {
  "kernelspec": {
   "display_name": "Python 3",
   "language": "python",
   "name": "python3"
  },
  "language_info": {
   "codemirror_mode": {
    "name": "ipython",
    "version": 3
   },
   "file_extension": ".py",
   "mimetype": "text/x-python",
   "name": "python",
   "nbconvert_exporter": "python",
   "pygments_lexer": "ipython3",
   "version": "3.6.4"
  }
 },
 "nbformat": 4,
 "nbformat_minor": 2
}
