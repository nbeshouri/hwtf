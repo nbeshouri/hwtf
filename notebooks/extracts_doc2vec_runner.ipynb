{
 "cells": [
  {
   "cell_type": "code",
   "execution_count": 1,
   "metadata": {
    "scrolled": false
   },
   "outputs": [
    {
     "name": "stdout",
     "output_type": "stream",
     "text": [
      "/home/ubuntu/Dropbox/project_4\n"
     ]
    }
   ],
   "source": [
    "cd ~/Dropbox/project_4"
   ]
  },
  {
   "cell_type": "code",
   "execution_count": 2,
   "metadata": {},
   "outputs": [],
   "source": [
    "from hwmf import utils, data, models\n",
    "import logging\n",
    "logging.basicConfig(format='%(asctime)s : %(levelname)s : %(message)s', level=logging.INFO, filename='logs/doc2vec_extracts.txt')\n",
    "# logging.basicConfig(level=logging.INFO)"
   ]
  },
  {
   "cell_type": "code",
   "execution_count": 3,
   "metadata": {},
   "outputs": [],
   "source": [
    "name_to_article = utils.load_data('character_extracts_lemmatized.pickle')"
   ]
  },
  {
   "cell_type": "code",
   "execution_count": 4,
   "metadata": {
    "scrolled": false
   },
   "outputs": [],
   "source": [
    "model = models.train_doc2vec_model(name_to_article, epochs=10000, vector_size=50, save_name='doc2vec_extracts.pickle')"
   ]
  },
  {
   "cell_type": "code",
   "execution_count": 5,
   "metadata": {
    "scrolled": true
   },
   "outputs": [
    {
     "data": {
      "text/plain": [
       "[('Théoden', 0.6452826857566833),\n",
       " ('Lin Beifong', 0.5620329976081848),\n",
       " ('Taran (character)', 0.5428361892700195),\n",
       " ('Jacen Solo', 0.5262341499328613),\n",
       " ('Daughters of Finwë', 0.5107818245887756),\n",
       " ('Caliban', 0.5030316710472107),\n",
       " ('Ezio Auditore da Firenze', 0.49988019466400146),\n",
       " ('Rachel Summers', 0.4998725354671478),\n",
       " ('Keredic', 0.4998697340488434),\n",
       " ('Martine (character)', 0.4983367919921875)]"
      ]
     },
     "execution_count": 5,
     "metadata": {},
     "output_type": "execute_result"
    }
   ],
   "source": [
    "model.docvecs.most_similar('Zuko')"
   ]
  },
  {
   "cell_type": "code",
   "execution_count": 16,
   "metadata": {},
   "outputs": [
    {
     "data": {
      "text/plain": [
       "[('Draco Malfoy', 0.7412431836128235),\n",
       " ('Rubeus Hagrid', 0.6650326251983643),\n",
       " ('Harry Potter (character)', 0.6191262006759644),\n",
       " ('Philoctetes', 0.5809226036071777),\n",
       " ('White Queen (Through the Looking-Glass)', 0.5720120072364807),\n",
       " ('Portrayals of Alice in Wonderland', 0.5687316060066223),\n",
       " ('Marsyas', 0.5541699528694153),\n",
       " ('Severus Snape', 0.5496678352355957),\n",
       " ('Danbo (character)', 0.5474674105644226),\n",
       " ('Ultraman Zero', 0.5399541258811951),\n",
       " ('Hogun', 0.539574146270752),\n",
       " ('Aqua (Kingdom Hearts)', 0.5389877557754517),\n",
       " ('Aslan', 0.5304054617881775),\n",
       " ('Control (fictional character)', 0.5275961756706238),\n",
       " ('Eöl', 0.525264322757721),\n",
       " ('Jack Skellington', 0.5196660757064819),\n",
       " ('Astolfo', 0.5177807807922363),\n",
       " ('Blue Meanies (Yellow Submarine)', 0.5159801840782166),\n",
       " ('Granny Weatherwax', 0.514167308807373),\n",
       " ('Ron Weasley', 0.5089628100395203),\n",
       " ('Simba', 0.5065175890922546),\n",
       " ('Dr. Heinz Doofenshmirtz', 0.5042896866798401),\n",
       " ('Ged (Earthsea)', 0.5011685490608215),\n",
       " ('Edmund Pevensie', 0.4991324841976166),\n",
       " ('Graf Toren', 0.49822530150413513),\n",
       " ('Tom Bombadil', 0.49640175700187683),\n",
       " ('Aihal', 0.4961053133010864),\n",
       " ('Dakimh the Enchanter', 0.49600106477737427),\n",
       " ('Peter Pevensie', 0.4957922101020813),\n",
       " ('Kanan Jarrus', 0.49465814232826233),\n",
       " ('Sisillius II', 0.49406829476356506),\n",
       " ('Lord Voldemort', 0.4933328330516815),\n",
       " ('Johnny Mackintosh', 0.49243199825286865),\n",
       " ('Feron', 0.4839533865451813),\n",
       " ('Red Tornado', 0.4822791516780853),\n",
       " ('Nick Adams (character)', 0.47962433099746704),\n",
       " ('Tao (comics)', 0.477644145488739),\n",
       " ('Anne Shirley', 0.47736743092536926),\n",
       " ('Gouken', 0.477006196975708),\n",
       " ('Dawn Summers', 0.474454790353775),\n",
       " ('Gin Ichimaru', 0.4736582338809967),\n",
       " ('R.O.B.', 0.47146838903427124),\n",
       " ('Maglor', 0.4705715477466583),\n",
       " ('Kibosh (Casper the Friendly Ghost)', 0.4695863425731659),\n",
       " ('Doctor Waldman', 0.4679252803325653),\n",
       " ('Skaar (comics)', 0.4654770493507385),\n",
       " ('Celebi (Pokémon)', 0.46494925022125244),\n",
       " ('Elsa (Once Upon a Time)', 0.4648760259151459),\n",
       " ('Charles Wallace Murry', 0.46240004897117615),\n",
       " ('Eren Yeager', 0.46200692653656006),\n",
       " ('Thingol', 0.4614185094833374),\n",
       " ('Ultraman Tiga (character)', 0.46080294251441956),\n",
       " ('Cowardly Lion', 0.4604127109050751),\n",
       " ('Princess Ozma', 0.4599184989929199),\n",
       " ('Hanson Brothers', 0.4598217308521271),\n",
       " ('Merlin the Magician (comics)', 0.45964479446411133),\n",
       " ('Charlotte Hoyle', 0.4549427628517151),\n",
       " ('Cato the Elder', 0.45453840494155884),\n",
       " ('Abin Sur', 0.4542427361011505),\n",
       " ('Link (The Legend of Zelda)', 0.45263057947158813),\n",
       " ('Lucy Pevensie', 0.44774284958839417),\n",
       " ('Chocobo', 0.4476773738861084),\n",
       " ('Andrés Goddzer', 0.44692039489746094),\n",
       " ('Shirou Emiya', 0.44643035531044006),\n",
       " ('Natas (comics)', 0.44585803151130676),\n",
       " ('Clara Mackintosh', 0.44393450021743774),\n",
       " ('Digory Kirke', 0.44325828552246094),\n",
       " ('Nelly Dean', 0.44320499897003174),\n",
       " ('Henry Coleman', 0.4431751072406769),\n",
       " ('Zhou Zhiruo', 0.44284602999687195),\n",
       " ('Clarice Starling', 0.4423453211784363),\n",
       " ('Nunnally Lamperouge', 0.4423412084579468),\n",
       " ('Macduff (Macbeth)', 0.44180917739868164),\n",
       " ('Jiraiya (Naruto)', 0.4413616955280304),\n",
       " ('Gourry Gabriev', 0.44066211581230164),\n",
       " ('Erast Fandorin', 0.44035354256629944),\n",
       " ('Deoxys', 0.4396452009677887),\n",
       " ('Parallax (comics)', 0.4376490116119385),\n",
       " ('Charley Pollard', 0.43696194887161255),\n",
       " ('Jenna Marshall', 0.4366632401943207),\n",
       " ('Satyaki', 0.43658220767974854),\n",
       " ('Sinestro', 0.43644168972969055),\n",
       " ('Thráin II', 0.43624019622802734),\n",
       " ('Ezio Auditore da Firenze', 0.43590059876441956),\n",
       " ('Merlin (Marvel Comics)', 0.4352898895740509),\n",
       " ('Cilix', 0.433487206697464),\n",
       " ('Mr. Harley Quin', 0.43317970633506775),\n",
       " ('Goneril', 0.4320816099643707),\n",
       " ('Susan Pevensie', 0.4319004714488983),\n",
       " ('Ben Gunn (Treasure Island)', 0.43093642592430115),\n",
       " ('Life Model Decoy', 0.43073102831840515),\n",
       " ('Edmund (King Lear)', 0.43063884973526),\n",
       " ('Hosuke Sharaku', 0.4305710792541504),\n",
       " ('Beleg', 0.4296092987060547),\n",
       " (\"Y'golonac\", 0.4294172525405884),\n",
       " ('Frodo Baggins', 0.42931413650512695),\n",
       " ('Tarka the Otter', 0.42930030822753906),\n",
       " ('Munchkin', 0.4288228154182434),\n",
       " ('Geta (emperor)', 0.42863428592681885),\n",
       " ('Emeth', 0.4281262457370758)]"
      ]
     },
     "execution_count": 16,
     "metadata": {},
     "output_type": "execute_result"
    }
   ],
   "source": [
    "model.docvecs.most_similar('Albus Dumbledore', topn=100)"
   ]
  },
  {
   "cell_type": "code",
   "execution_count": 7,
   "metadata": {},
   "outputs": [
    {
     "data": {
      "text/plain": [
       "[('Angel (Buffy the Vampire Slayer)', 0.6164244413375854),\n",
       " ('Colleen Wing', 0.5855210423469543),\n",
       " ('Dawn Summers', 0.5779118537902832),\n",
       " ('Emmanuelle', 0.5451128482818604),\n",
       " ('Spike (Buffy the Vampire Slayer)', 0.5419815182685852),\n",
       " ('Inuyasha (character)', 0.5239916443824768),\n",
       " ('Dynamic Man (Dynamic Publications)', 0.5164631009101868),\n",
       " ('Zaheer (The Legend of Korra)', 0.5131714940071106),\n",
       " ('Gurughli', 0.5027014017105103),\n",
       " ('Morgyn the Mighty', 0.5015129446983337)]"
      ]
     },
     "execution_count": 7,
     "metadata": {},
     "output_type": "execute_result"
    }
   ],
   "source": [
    "model.docvecs.most_similar('Buffy Summers')"
   ]
  },
  {
   "cell_type": "code",
   "execution_count": 10,
   "metadata": {},
   "outputs": [
    {
     "data": {
      "text/plain": [
       "[('Luke Skywalker', 0.6885805130004883),\n",
       " ('Darth Bane', 0.6119592785835266),\n",
       " ('Obi-Wan Kenobi', 0.5899578928947449),\n",
       " ('Qui-Gon Jinn', 0.5864250659942627),\n",
       " ('Michael Williams (Henry V)', 0.5806147456169128),\n",
       " ('Mace Windu', 0.5779798030853271),\n",
       " ('Harry Potter (character)', 0.5710346698760986),\n",
       " ('Revan', 0.5558763742446899),\n",
       " ('Míster Danger', 0.5466983318328857),\n",
       " ('Nightwolf', 0.5385563373565674),\n",
       " ('Rayquaza', 0.5246890187263489),\n",
       " ('Black Moon Clan', 0.5164498090744019),\n",
       " ('Tuvok', 0.5141789317131042),\n",
       " ('Heimdall (comics)', 0.5130276679992676),\n",
       " ('Korvac', 0.5071448683738708),\n",
       " ('Hermione Granger', 0.5032247304916382),\n",
       " ('Sephiroth (Final Fantasy)', 0.5020747184753418),\n",
       " ('Death (Marvel Comics)', 0.49988019466400146),\n",
       " ('Jiraiya (Naruto)', 0.4993527829647064),\n",
       " ('Saber (Fate/stay night)', 0.49412280321121216),\n",
       " ('Phalanx (comics)', 0.4915409982204437),\n",
       " ('Lieutenant Green', 0.48595330119132996),\n",
       " ('Harry Sullivan (Doctor Who)', 0.48457586765289307),\n",
       " ('Phineus', 0.48322558403015137),\n",
       " ('Vegeta', 0.48218581080436707),\n",
       " ('Void (comics)', 0.4812270700931549),\n",
       " ('Groot', 0.4803635776042938),\n",
       " ('Unknown Soldier (Ace Comics)', 0.4792705774307251),\n",
       " ('Aerith Gainsborough', 0.4786468744277954),\n",
       " ('Círdan', 0.4784952998161316),\n",
       " ('Rutan (Doctor Who)', 0.4771600067615509),\n",
       " ('Miraz', 0.47546231746673584),\n",
       " ('Thelma Bates', 0.474458783864975),\n",
       " ('Hogun', 0.4729374945163727),\n",
       " ('Skinner (comics)', 0.4705201983451843),\n",
       " ('I Ching (comics)', 0.47029176354408264),\n",
       " ('Ultraman Tiga (character)', 0.46824759244918823),\n",
       " ('Colonel Kurtz', 0.46439340710639954),\n",
       " ('Gilgamesh the immortal', 0.46328166127204895),\n",
       " ('Mokujin', 0.46219485998153687),\n",
       " ('Jennifer Pace', 0.4601956903934479),\n",
       " ('Ariel (The Tempest)', 0.4585130214691162),\n",
       " (\"Hatter (Alice's Adventures in Wonderland)\", 0.45631682872772217),\n",
       " ('Count Dooku', 0.45574939250946045),\n",
       " ('Scorpio (comics)', 0.454071044921875),\n",
       " ('HAL 9000', 0.4528648853302002),\n",
       " ('Krillin', 0.45279672741889954),\n",
       " ('Death (Discworld)', 0.45193469524383545),\n",
       " ('Lightray (DC Comics)', 0.45112231373786926),\n",
       " ('Mardil Voronwë', 0.4504986107349396),\n",
       " ('Michael Rossi (character)', 0.44976961612701416),\n",
       " ('Sarpedon', 0.44867217540740967),\n",
       " ('Adam Warlock', 0.4484524130821228),\n",
       " ('Ahsoka Tano', 0.44835880398750305),\n",
       " ('White Witch (comics)', 0.44596976041793823),\n",
       " ('Raoh', 0.4440530836582184),\n",
       " ('Kyle Katarn', 0.442794531583786),\n",
       " ('Goneril', 0.4423891603946686),\n",
       " ('Kelda (comics)', 0.4398754835128784),\n",
       " ('Captain Ahab', 0.43949365615844727),\n",
       " ('The Lustful Turk', 0.43912824988365173),\n",
       " ('William Bush (Hornblower)', 0.4380473792552948),\n",
       " ('Hao Asakura', 0.4379333555698395),\n",
       " ('Ayu Tsukimiya', 0.43653732538223267),\n",
       " ('Samwise Gamgee', 0.4358498752117157),\n",
       " ('Brienne of Tarth', 0.43559741973876953),\n",
       " ('Alucard (Hellsing)', 0.43359845876693726),\n",
       " ('Billy Pilgrim', 0.4334074556827545),\n",
       " ('Ares (DC Comics)', 0.4318929612636566),\n",
       " ('Mo Butcher', 0.43081825971603394),\n",
       " ('Astyanax', 0.4302995800971985),\n",
       " ('Caiera', 0.43002867698669434),\n",
       " ('Asmodel', 0.4297381341457367),\n",
       " ('Subaru Sumeragi', 0.4295508563518524),\n",
       " ('Optimus Prime', 0.42954039573669434),\n",
       " ('Silver John', 0.42953529953956604),\n",
       " ('Billy the Puppet', 0.42933574318885803),\n",
       " ('Ender Wiggin', 0.4289587140083313),\n",
       " ('Agenor, son of Antenor', 0.4289344251155853),\n",
       " ('Sagara Sanosuke', 0.4289065897464752),\n",
       " ('Grand Moff Tarkin', 0.42847269773483276),\n",
       " ('Reggie (Phantasm)', 0.42555129528045654),\n",
       " ('Jessica (The Merchant of Venice)', 0.42520323395729065),\n",
       " ('Aegyptus', 0.4246564507484436),\n",
       " ('Athena (Saint Seiya)', 0.4228665232658386),\n",
       " ('Ygritte', 0.4228416085243225),\n",
       " ('Scourge (Transformers)', 0.42171645164489746),\n",
       " ('Hari Seldon', 0.42135605216026306),\n",
       " ('Wolek family', 0.4212661385536194),\n",
       " ('Air-Walker', 0.42072558403015137),\n",
       " ('Quiet (Metal Gear)', 0.42058441042900085),\n",
       " ('Lord Voldemort', 0.4200972318649292),\n",
       " ('Meowth', 0.4198762774467468),\n",
       " ('Woody Woodpecker', 0.4183136820793152),\n",
       " ('Segata Sanshiro', 0.41802018880844116),\n",
       " ('Jerry Jaxon', 0.41766244173049927),\n",
       " ('Druuna', 0.4175456166267395),\n",
       " ('Admiral Ackbar', 0.4174267053604126),\n",
       " ('Kane (fantasy)', 0.4167254567146301),\n",
       " ('Sailor Saturn', 0.4159391224384308)]"
      ]
     },
     "execution_count": 10,
     "metadata": {},
     "output_type": "execute_result"
    }
   ],
   "source": [
    "model.docvecs.most_similar('Yoda', topn=100)"
   ]
  }
 ],
 "metadata": {
  "kernelspec": {
   "display_name": "Python 3",
   "language": "python",
   "name": "python3"
  },
  "language_info": {
   "codemirror_mode": {
    "name": "ipython",
    "version": 3
   },
   "file_extension": ".py",
   "mimetype": "text/x-python",
   "name": "python",
   "nbconvert_exporter": "python",
   "pygments_lexer": "ipython3",
   "version": "3.6.4"
  }
 },
 "nbformat": 4,
 "nbformat_minor": 2
}
