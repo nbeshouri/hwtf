{
 "cells": [
  {
   "cell_type": "code",
   "execution_count": 1,
   "metadata": {
    "scrolled": false
   },
   "outputs": [
    {
     "name": "stdout",
     "output_type": "stream",
     "text": [
      "/home/ubuntu/Dropbox/project_4\n"
     ]
    }
   ],
   "source": [
    "cd ~/Dropbox/project_4"
   ]
  },
  {
   "cell_type": "code",
   "execution_count": 2,
   "metadata": {},
   "outputs": [],
   "source": [
    "from hwmf import utils, data, nlp"
   ]
  },
  {
   "cell_type": "code",
   "execution_count": 3,
   "metadata": {},
   "outputs": [],
   "source": [
    "tokenized, lemmatized = data.get_character_extracts(limit=10, remove_black_listed=False)\n"
   ]
  },
  {
   "cell_type": "code",
   "execution_count": 6,
   "metadata": {},
   "outputs": [],
   "source": [
    "temp_data = utils.load_data('character_extracts_tokenized_with_meta.pickle')\n"
   ]
  },
  {
   "cell_type": "code",
   "execution_count": 10,
   "metadata": {},
   "outputs": [
    {
     "data": {
      "text/plain": [
       "14271"
      ]
     },
     "execution_count": 10,
     "metadata": {},
     "output_type": "execute_result"
    }
   ],
   "source": [
    "len(temp_data)"
   ]
  },
  {
   "cell_type": "code",
   "execution_count": 12,
   "metadata": {
    "scrolled": false
   },
   "outputs": [
    {
     "data": {
      "text/plain": [
       "['* <SUBJECT> appears in the original span of the saga going from being <ENITY> , the prophesied child who would bring balance to the <ENITY> , to his corruption and transformation into <ENITY> , to being the pivotal antagonist , and eventual redemption and fulfillment of the prophecy .',\n",
       " '<SUBJECT> has become of the most iconic villains in popular culture , and has been listed among the greatest villains and fictional characters ever .',\n",
       " \"that <SUBJECT> does not reveal <SUBJECT> is <ENITY> 's father .\",\n",
       " \"<SUBJECT> claiming to be <ENITY> 's father .\",\n",
       " \"where <SUBJECT> was a separate character from <ENITY> 's father .\",\n",
       " \"in which <SUBJECT> kills <ENITY> just as <SUBJECT> slashes open his helmet to reveal <ENITY> 's scarred face .\",\n",
       " '<SUBJECT> to encounter the show \\'s lead characters without the latter being \" destroyed .',\n",
       " 'that <SUBJECT> should wear a breathing apparatus .',\n",
       " 'that <SUBJECT> would travel between spaceships and needed to survive in the vacuum of space .',\n",
       " 'that <SUBJECT> should wear some sort of space suit .',\n",
       " \"<SUBJECT> was portrayed by bodybuilder <ENITY> in the original film trilogy , and by stunt performer <ENITY> during the character 's intense lightsaber fight scenes .\",\n",
       " 'in which <SUBJECT> is seen boarding his shuttle .',\n",
       " '<SUBJECT> appears in <ENITY> of the <ENITY> live-action <ENITY> films and the <ENITY> animated film and spinoff series .',\n",
       " '<SUBJECT> appears in <ENITY> as a ruthless cyborg serving <ENITY> .',\n",
       " \"<SUBJECT> captures and tortures <ENITY> , who has hidden the plans inside the droid <ENITY> and sent it to find <ENITY> 's former <ENITY> on the planet <ENITY> .\",\n",
       " \"during <ENITY> 's rescue , <SUBJECT> kills <ENITY> in a lightsaber duel .\",\n",
       " \"having placed a tracking device aboard <ENITY> , <SUBJECT> is able to track down the <ENITY> ' base on the planet <ENITY> .\",\n",
       " \"during the <ENITY> ' attack on <ENITY> , <SUBJECT> attempts to shoot down <ENITY> wing fighter , but <ENITY> intervenes and sends <ENITY> 's ship spiraling off course , allowing <ENITY> to destroy <ENITY> .\",\n",
       " 'in <ENITY> , <SUBJECT> becomes obsessed with finding <ENITY> .',\n",
       " 'in this film , <SUBJECT> meets with <ENITY> weapons engineer <ENITY> , who asks him for an audience with the <ENITY> regarding <ENITY> which <ENITY> lost command of to <ENITY> .',\n",
       " '<SUBJECT> refuses , however , and uses the <ENITY> to choke him as a way of putting him in his place and orders him to ensure the <ENITY> project has not been compromised .',\n",
       " '<SUBJECT> is a recurring character in <ENITY> of <ENITY> , which takes place <ENITY> after the <ENITY> concludes .',\n",
       " '<SUBJECT> leads a squadron of <ENITY> sensitive <ENITY> who are actively searching for and killing any remaining <ENITY> and <ENITY> sensitive children .',\n",
       " 'in <ENITY> premiere , <SUBJECT> discovers that <ENITY> has joined <ENITY> , and the <ENITY> orders him to hunt her down .',\n",
       " 'in which <SUBJECT> wipes out most of <ENITY> troops .',\n",
       " '<SUBJECT> makes a final voiceless cameo in <ENITY> episode “ <ENITY> ” , as <ENITY> looks back in time to see the conclusion of his duel with <ENITY> before rescuing her from him .',\n",
       " 'after <SUBJECT> wakes up for the <ENITY> time in his black suit at the end of the film <ENITY> .',\n",
       " '<SUBJECT> is featured prominently in novels set in the <ENITY> universe .',\n",
       " \"in the <ENITY> novel <ENITY> by <ENITY> , <SUBJECT> meets <ENITY> for the <ENITY> time and engages him in a lightsaber duel that ends with <ENITY> cutting off <ENITY> 's arm and <ENITY> falling into a deep pit .\",\n",
       " \"<SUBJECT> appears in several comic books such as dark <ENITY> ' <ENITY> and <ENITY> ' <ENITY> series .\",\n",
       " '<SUBJECT> and <ENITY> appear in a variety of video games such as the <ENITY> series and the <ENITY> series .',\n",
       " '<SUBJECT> plays a central role in <ENITY> .',\n",
       " \"<SUBJECT> kills the <ENITY> and kidnaps the man 's young <ENITY> sensitive son , whom <SUBJECT> raises as his secret apprentice , <ENITY> .\",\n",
       " '<SUBJECT> sends <ENITY> on various missions throughout the galaxy , with an ultimate goal to assassinate <ENITY> so that <ENITY> can rule the galaxy himself .',\n",
       " \"that <SUBJECT> is n't planning to overthrow <ENITY> at all .\",\n",
       " '<SUBJECT> features in the <ENITY> radio drama adaptation of <ENITY> , voiced by the actor <ENITY> .',\n",
       " '<SUBJECT> makes his <ENITY> appearance on the planet <ENITY> , where <SUBJECT> treats <ENITY> with suspicion .',\n",
       " '<SUBJECT> appears in <ENITY> –',\n",
       " '<SUBJECT> is featured as a combatant in the popular series <ENITY> , in which <SUBJECT> is pitted against <ENITY> villain <ENITY> .',\n",
       " '<SUBJECT> to be a useful example for explaining borderline personality disorder to medical students .',\n",
       " '<SUBJECT> being a metaphor for how poorly the science fiction genre treats black people .',\n",
       " 'that <SUBJECT> , the \" blackest brother in the galaxy \" , reveals himself to be a \" feeble , crusty old white man \" at <ENITY> of the <ENITY> .',\n",
       " \"<SUBJECT> ranked number <ENITY> on <ENITY> magazine 's <ENITY> list of the <ENITY> .\",\n",
       " '<SUBJECT> was also the no . <ENITY> supervillain on the <ENITY> series <ENITY> , <ENITY> and villains .',\n",
       " '<SUBJECT> was also ranked as no .',\n",
       " '<SUBJECT> received the <ENITY> recognition at the <ENITY> .',\n",
       " 'in <ENITY> , <SUBJECT> had a brief cameo in <ENITY> .']"
      ]
     },
     "execution_count": 12,
     "metadata": {},
     "output_type": "execute_result"
    }
   ],
   "source": [
    "temp_data['Darth Vader']"
   ]
  },
  {
   "cell_type": "code",
   "execution_count": 8,
   "metadata": {
    "scrolled": false
   },
   "outputs": [
    {
     "data": {
      "text/plain": [
       "['that <SUBJECT> was invulnerable in all of his body except for his heel .',\n",
       " '<SUBJECT> was the son of the <ENITY> and of <ENITY> , the king of the <ENITY> .',\n",
       " 'when <SUBJECT> was born .',\n",
       " '<SUBJECT> being wounded : in <ENITY> the <ENITY> hero <ENITY> , son of <ENITY> .',\n",
       " '<SUBJECT> chose the former , and decided to take part in the <ENITY> war .',\n",
       " 'according to <ENITY> , <SUBJECT> grew up in <ENITY> together with his companion patroclus .',\n",
       " \"there , <SUBJECT> is disguised as a girl and lives among <ENITY> ' daughters , perhaps under the name <ENITY> .\",\n",
       " 'when <SUBJECT> instantly takes up the spear .',\n",
       " \"in another version of the story , <ENITY> arranges for a trumpet alarm to be sounded while <SUBJECT> was with <ENITY> ' women ; while the women flee in panic , <SUBJECT> prepares to defend the court , thus giving his identity away .\",\n",
       " 'according to the <ENITY> , <SUBJECT> arrived at <ENITY> with <ENITY> ships , each carrying <ENITY> .',\n",
       " 'in the resulting battle , <SUBJECT> gave <ENITY> a wound that would not heal .',\n",
       " 'where <SUBJECT> healed him in order that <SUBJECT> might become their guide for the voyage to <ENITY> .',\n",
       " '<SUBJECT> refused , claiming to have no medical knowledge .',\n",
       " 'yet <SUBJECT> , struck by the beauty of both <ENITY> and his sister <ENITY> , and overcome with lust , directed his sexual attentions on <ENITY> – who , refusing to yield , instead found <SUBJECT> decapitated upon an altar-omphalos of <ENITY> .',\n",
       " 'unless <SUBJECT> vows to protect him .',\n",
       " '<SUBJECT> does so , and <ENITY> declares that <ENITY> must be returned to her father .',\n",
       " 'angry at the dishonour of having his plunder and glory taken away , with the urging of his mother <ENITY> , <SUBJECT> refuses to fight or lead his troops alongside the other <ENITY> forces .',\n",
       " \"at the same time , burning with rage over <ENITY> 's theft , <SUBJECT> prays to <ENITY> to convince <ENITY> to help the <ENITY> gain ground in the war , so that <SUBJECT> may regain his honour .\",\n",
       " '<SUBJECT> rejects all <ENITY> offers him and simply urges the <ENITY> to sail home as <SUBJECT> was planning to do .',\n",
       " 'though <SUBJECT> remains at his camp .',\n",
       " \"after receiving the news of the death of <ENITY> from <ENITY> , the son of <ENITY> , <SUBJECT> grieves over his beloved companion 's death .\",\n",
       " 'enraged over the death of <ENITY> , <SUBJECT> ends his refusal to fight and takes the field , killing many men in his rage but always seeking out <ENITY> .',\n",
       " '<SUBJECT> even engages in battle with the river god <ENITY> , who has become angry that <ENITY> is choking his waters with all the men <SUBJECT> has killed .',\n",
       " 'finally , <SUBJECT> finds his prey .',\n",
       " \"<SUBJECT> chases <ENITY> around the wall of <ENITY> times before <ENITY> , in the form of <ENITY> 's favorite and dearest brother , <ENITY> , persuades <ENITY> to stop running and fight <ENITY> face to face .\",\n",
       " '<SUBJECT> tells <SUBJECT> is hopeless to expect that of him , declaring that \" my rage , my fury would drive me now to hack your flesh away and eat you raw – such agonies <SUBJECT> have caused me \" .',\n",
       " '<SUBJECT> then kills <ENITY> and drags his corpse by its heels behind his chariot .',\n",
       " 'after having a dream where <ENITY> begs <ENITY> to hold his funeral , <SUBJECT> hosts a series of funeral games in his honour .',\n",
       " '<SUBJECT> relents and promises a truce for the duration of the funeral .',\n",
       " 'when <ENITY> , son of the <ENITY> and king of <ENITY> , slays <ENITY> , <SUBJECT> once more obtains revenge on the battlefield , killing <ENITY> .',\n",
       " 'that <SUBJECT> and his close friend <ENITY> were lovers .',\n",
       " 'that <SUBJECT> were lovers .',\n",
       " 'that <SUBJECT> was scaling the gates of <ENITY> and was hit with a poisoned arrow .',\n",
       " '<SUBJECT> remained undefeated on the battlefield .',\n",
       " \"<SUBJECT> asks <ENITY> for <ENITY> 's hand in marriage .\",\n",
       " 'if <SUBJECT> married his sister .',\n",
       " '<SUBJECT> was cremated and his ashes buried in the same urn as those of <ENITY> .',\n",
       " \"but <SUBJECT> then asks <ENITY> of his son 's exploits in the <ENITY> war , and when <ENITY> tells of <ENITY> ' heroic actions , <ENITY> is filled with satisfaction .\",\n",
       " 'how <SUBJECT> felt about the heroic life .',\n",
       " 'at some point in the war , <SUBJECT> and <ENITY> were playing a board game .',\n",
       " 'that <SUBJECT> was buried on an island named <ENITY> , situated between the <ENITY> and the <ENITY> .',\n",
       " 'in which <SUBJECT> is praised and celebrated .',\n",
       " 'to some of the people who come to this island , <SUBJECT> appears in dreams , to others <SUBJECT> would appear even during their navigation , if <SUBJECT> were not too far away , and would instruct them as to which part of the island <SUBJECT> would better anchor their ships .',\n",
       " 'because <SUBJECT> , being the younger and more beautiful of the <ENITY> , was the beloved , who loved his lover so much that <SUBJECT> chose to die to revenge him .',\n",
       " 'that <SUBJECT> could not catch up to a tortoise with a head start , and therefore that motion and change were impossible .',\n",
       " '<SUBJECT> was described by the <ENITY> chronicler <ENITY> , not as <ENITY> , but as <ENITY> , while according to the <ENITY> author <ENITY> , his army was made up of a tribe previously known as <ENITY> and later as <ENITY> .',\n",
       " \"* <SUBJECT> appears in <ENITY> 's <ENITY> .\",\n",
       " '* <SUBJECT> is portrayed as a former hero who has become lazy and devoted to the love of <ENITY> , in <ENITY> and <ENITY> .',\n",
       " '* <SUBJECT> is the subject of the poem <ENITY> , a fragment by <ENITY> .',\n",
       " \"* <SUBJECT> is mentioned in <ENITY> 's poem <ENITY> .\",\n",
       " '* <SUBJECT> is killed by a poisoned <ENITY> arrow shot by <ENITY> in <ENITY> novel the <ENITY> .',\n",
       " \"* <SUBJECT> is of various ' narrators ' in <ENITY> 's novel the <ENITY> of <ENITY> .\",\n",
       " '* <SUBJECT> is of the main characters in <ENITY> novels <ENITY> and <ENITY> .',\n",
       " '* <SUBJECT> is a major supporting character in <ENITY> of books .',\n",
       " \"* <SUBJECT> is the main character in <ENITY> 's novel <ENITY> .\",\n",
       " \"* <SUBJECT> is a main character in <ENITY> ' <ENITY> novel <ENITY> .\",\n",
       " '* <SUBJECT> is a major character in <ENITY> debut novel , <ENITY> , which won <ENITY> .',\n",
       " '* <SUBJECT> appears in the light novel series <ENITY> / <ENITY> as <ENITY> .',\n",
       " '* <SUBJECT> with the <ENITY> of <ENITY> is a subject treated in paintings by <ENITY> and <ENITY> among others .',\n",
       " '<SUBJECT> recognized among the daughters of <ENITY> , the wrath of <ENITY> , the death of <ENITY> , <ENITY> receiving the arms of <ENITY> from <ENITY> , the death of <ENITY> , and <ENITY> restored to <ENITY> .',\n",
       " '* <ENITY> , \" <SUBJECT> among the <ENITY> of <ENITY> \" , <ENITY> , at <ENITY> , <ENITY> .',\n",
       " '* <SUBJECT> is a sculpture created by <ENITY> .',\n",
       " '<SUBJECT> has been frequently the subject of operas , ballets and related genres .',\n",
       " '* <SUBJECT> is a ballad opera , written by <ENITY> , parodied by <ENITY> in petticoats in <ENITY> .',\n",
       " '* <SUBJECT> in <ENITY> is a libretto by <ENITY> , composed by <ENITY> for the inauguration of the <ENITY> di <ENITY> .',\n",
       " '* <SUBJECT> is an opera by <ENITY> on a libretto by <ENITY> .',\n",
       " '* <SUBJECT> , oder <ENITY> is an oratorio by the <ENITY> composer <ENITY> .',\n",
       " '* <SUBJECT> come <ENITY> .',\n",
       " 'in films <SUBJECT> has been portrayed in the following films and television series .',\n",
       " '* <SUBJECT> was a <ENITY> class cruiser which served with <ENITY> in <ENITY> .',\n",
       " \"in addition to earning the battle honour ' <ENITY> ' , <SUBJECT> also served at <ENITY> and <ENITY> in <ENITY> .\",\n",
       " '<SUBJECT> game <ENITY> and <ENITY> playing the board game petteia , black-figure oinochoe , <ENITY> <ENITY> .']"
      ]
     },
     "execution_count": 8,
     "metadata": {},
     "output_type": "execute_result"
    }
   ],
   "source": [
    "temp_data['Achilles']"
   ]
  },
  {
   "cell_type": "code",
   "execution_count": 5,
   "metadata": {
    "collapsed": true
   },
   "outputs": [
    {
     "data": {
      "text/plain": [
       "['that <SUBJECT> was invulnerable in all of his body except for his heel .',\n",
       " '<SUBJECT> was the son of the <ENITY> and of <ENITY> , the king of the <ENITY> .',\n",
       " 'when <SUBJECT> was born .',\n",
       " '<SUBJECT> being wounded : in <ENITY> the <ENITY> hero <ENITY> , son of <ENITY> .',\n",
       " '<SUBJECT> chose the former , and decided to take part in the <ENITY> war .',\n",
       " 'according to <ENITY> , <SUBJECT> grew up in <ENITY> together with his companion patroclus .',\n",
       " \"there , <SUBJECT> is disguised as a girl and lives among <ENITY> ' daughters , perhaps under the name <ENITY> .\",\n",
       " 'when <SUBJECT> instantly takes up the spear .',\n",
       " \"in another version of the story , <ENITY> arranges for a trumpet alarm to be sounded while <SUBJECT> was with <ENITY> ' women ; while the women flee in panic , <SUBJECT> prepares to defend the court , thus giving his identity away .\",\n",
       " 'according to the <ENITY> , <SUBJECT> arrived at <ENITY> with <ENITY> ships , each carrying <ENITY> .',\n",
       " 'in the resulting battle , <SUBJECT> gave <ENITY> a wound that would not heal .',\n",
       " 'where <SUBJECT> healed him in order that <SUBJECT> might become their guide for the voyage to <ENITY> .',\n",
       " '<SUBJECT> refused , claiming to have no medical knowledge .',\n",
       " 'yet <SUBJECT> , struck by the beauty of both <ENITY> and his sister <ENITY> , and overcome with lust , directed his sexual attentions on <ENITY> – who , refusing to yield , instead found <SUBJECT> decapitated upon an altar-omphalos of <ENITY> .',\n",
       " 'unless <SUBJECT> vows to protect him .',\n",
       " '<SUBJECT> does so , and <ENITY> declares that <ENITY> must be returned to her father .',\n",
       " 'angry at the dishonour of having his plunder and glory taken away , with the urging of his mother <ENITY> , <SUBJECT> refuses to fight or lead his troops alongside the other <ENITY> forces .',\n",
       " \"at the same time , burning with rage over <ENITY> 's theft , <SUBJECT> prays to <ENITY> to convince <ENITY> to help the <ENITY> gain ground in the war , so that <SUBJECT> may regain his honour .\",\n",
       " '<SUBJECT> rejects all <ENITY> offers him and simply urges the <ENITY> to sail home as <SUBJECT> was planning to do .',\n",
       " 'though <SUBJECT> remains at his camp .',\n",
       " \"after receiving the news of the death of <ENITY> from <ENITY> , the son of <ENITY> , <SUBJECT> grieves over his beloved companion 's death .\",\n",
       " 'enraged over the death of <ENITY> , <SUBJECT> ends his refusal to fight and takes the field , killing many men in his rage but always seeking out <ENITY> .',\n",
       " '<SUBJECT> even engages in battle with the river god <ENITY> , who has become angry that <ENITY> is choking his waters with all the men <SUBJECT> has killed .',\n",
       " 'finally , <SUBJECT> finds his prey .',\n",
       " \"<SUBJECT> chases <ENITY> around the wall of <ENITY> times before <ENITY> , in the form of <ENITY> 's favorite and dearest brother , <ENITY> , persuades <ENITY> to stop running and fight <ENITY> face to face .\",\n",
       " '<SUBJECT> tells <SUBJECT> is hopeless to expect that of him , declaring that \" my rage , my fury would drive me now to hack your flesh away and eat you raw – such agonies <SUBJECT> have caused me \" .',\n",
       " '<SUBJECT> then kills <ENITY> and drags his corpse by its heels behind his chariot .',\n",
       " 'after having a dream where <ENITY> begs <ENITY> to hold his funeral , <SUBJECT> hosts a series of funeral games in his honour .',\n",
       " '<SUBJECT> relents and promises a truce for the duration of the funeral .',\n",
       " 'when <ENITY> , son of the <ENITY> and king of <ENITY> , slays <ENITY> , <SUBJECT> once more obtains revenge on the battlefield , killing <ENITY> .',\n",
       " 'that <SUBJECT> and his close friend <ENITY> were lovers .',\n",
       " 'that <SUBJECT> were lovers .',\n",
       " 'that <SUBJECT> was scaling the gates of <ENITY> and was hit with a poisoned arrow .',\n",
       " '<SUBJECT> remained undefeated on the battlefield .',\n",
       " \"<SUBJECT> asks <ENITY> for <ENITY> 's hand in marriage .\",\n",
       " 'if <SUBJECT> married his sister .',\n",
       " '<SUBJECT> was cremated and his ashes buried in the same urn as those of <ENITY> .',\n",
       " \"but <SUBJECT> then asks <ENITY> of his son 's exploits in the <ENITY> war , and when <ENITY> tells of <ENITY> ' heroic actions , <ENITY> is filled with satisfaction .\",\n",
       " 'how <SUBJECT> felt about the heroic life .',\n",
       " 'at some point in the war , <SUBJECT> and <ENITY> were playing a board game .',\n",
       " 'that <SUBJECT> was buried on an island named <ENITY> , situated between the <ENITY> and the <ENITY> .',\n",
       " 'in which <SUBJECT> is praised and celebrated .',\n",
       " 'to some of the people who come to this island , <SUBJECT> appears in dreams , to others <SUBJECT> would appear even during their navigation , if <SUBJECT> were not too far away , and would instruct them as to which part of the island <SUBJECT> would better anchor their ships .',\n",
       " 'because <SUBJECT> , being the younger and more beautiful of the <ENITY> , was the beloved , who loved his lover so much that <SUBJECT> chose to die to revenge him .',\n",
       " 'that <SUBJECT> could not catch up to a tortoise with a head start , and therefore that motion and change were impossible .',\n",
       " '<SUBJECT> was described by the <ENITY> chronicler <ENITY> , not as <ENITY> , but as <ENITY> , while according to the <ENITY> author <ENITY> , his army was made up of a tribe previously known as <ENITY> and later as <ENITY> .',\n",
       " \"* <SUBJECT> appears in <ENITY> 's <ENITY> .\",\n",
       " '* <SUBJECT> is portrayed as a former hero who has become lazy and devoted to the love of <ENITY> , in <ENITY> and <ENITY> .',\n",
       " '* <SUBJECT> is the subject of the poem <ENITY> , a fragment by <ENITY> .',\n",
       " \"* <SUBJECT> is mentioned in <ENITY> 's poem <ENITY> .\",\n",
       " '* <SUBJECT> is killed by a poisoned <ENITY> arrow shot by <ENITY> in <ENITY> novel the <ENITY> .',\n",
       " \"* <SUBJECT> is of various ' narrators ' in <ENITY> 's novel the <ENITY> of <ENITY> .\",\n",
       " '* <SUBJECT> is of the main characters in <ENITY> novels <ENITY> and <ENITY> .',\n",
       " '* <SUBJECT> is a major supporting character in <ENITY> of books .',\n",
       " \"* <SUBJECT> is the main character in <ENITY> 's novel <ENITY> .\",\n",
       " \"* <SUBJECT> is a main character in <ENITY> ' <ENITY> novel <ENITY> .\",\n",
       " '* <SUBJECT> is a major character in <ENITY> debut novel , <ENITY> , which won <ENITY> .',\n",
       " '* <SUBJECT> appears in the light novel series <ENITY> / <ENITY> as <ENITY> .',\n",
       " '* <SUBJECT> with the <ENITY> of <ENITY> is a subject treated in paintings by <ENITY> and <ENITY> among others .',\n",
       " '<SUBJECT> recognized among the daughters of <ENITY> , the wrath of <ENITY> , the death of <ENITY> , <ENITY> receiving the arms of <ENITY> from <ENITY> , the death of <ENITY> , and <ENITY> restored to <ENITY> .',\n",
       " '* <ENITY> , \" <SUBJECT> among the <ENITY> of <ENITY> \" , <ENITY> , at <ENITY> , <ENITY> .',\n",
       " '* <SUBJECT> is a sculpture created by <ENITY> .',\n",
       " '<SUBJECT> has been frequently the subject of operas , ballets and related genres .',\n",
       " '* <SUBJECT> is a ballad opera , written by <ENITY> , parodied by <ENITY> in petticoats in <ENITY> .',\n",
       " '* <SUBJECT> in <ENITY> is a libretto by <ENITY> , composed by <ENITY> for the inauguration of the <ENITY> di <ENITY> .',\n",
       " '* <SUBJECT> is an opera by <ENITY> on a libretto by <ENITY> .',\n",
       " '* <SUBJECT> , oder <ENITY> is an oratorio by the <ENITY> composer <ENITY> .',\n",
       " '* <SUBJECT> come <ENITY> .',\n",
       " 'in films <SUBJECT> has been portrayed in the following films and television series .',\n",
       " '* <SUBJECT> was a <ENITY> class cruiser which served with <ENITY> in <ENITY> .',\n",
       " \"in addition to earning the battle honour ' <ENITY> ' , <SUBJECT> also served at <ENITY> and <ENITY> in <ENITY> .\",\n",
       " '<SUBJECT> game <ENITY> and <ENITY> playing the board game petteia , black-figure oinochoe , <ENITY> <ENITY> .']"
      ]
     },
     "execution_count": 5,
     "metadata": {},
     "output_type": "execute_result"
    }
   ],
   "source": [
    "tokenized['Achilles']"
   ]
  },
  {
   "cell_type": "code",
   "execution_count": 7,
   "metadata": {},
   "outputs": [
    {
     "name": "stdout",
     "output_type": "stream",
     "text": [
      "Processed: 100 Last: John Clark (Tom Clancy character)\n",
      "Processed: 200 Last: Celebrían\n",
      "Processed: 400 Last: Lazarus Long\n",
      "Processed: 500 Last: Veronica Lodge\n",
      "Processed: 600 Last: Megatron\n",
      "Processed: 700 Last: Leto II Atreides\n",
      "Processed: 800 Last: Narada\n",
      "Processed: 900 Last: Arthur Hastings\n",
      "Processed: 1000 Last: Harley Quinn\n",
      "Processed: 1100 Last: Susan Sto Helit\n",
      "Processed: 1200 Last: Benji\n",
      "Processed: 1300 Last: Molly O'Brien\n",
      "Processed: 1400 Last: Ben Reilly\n",
      "Processed: 1500 Last: Œthelwald of Deira\n",
      "Processed: 1600 Last: Melora Pazlar\n",
      "Processed: 1700 Last: Thing (The Addams Family)\n",
      "Processed: 1800 Last: Rivallo\n",
      "Processed: 1900 Last: Hawkgirl\n",
      "Processed: 2000 Last: Janice Rand\n",
      "Processed: 2100 Last: Flying polyp\n",
      "Processed: 2200 Last: Shadow King\n",
      "Processed: 2300 Last: Figwit\n",
      "Processed: 2400 Last: Lurch (The Addams Family)\n",
      "Processed: 2500 Last: Robb Stark\n",
      "Processed: 2600 Last: Percy Dovetonsils\n",
      "Processed: 2700 Last: Cethern mac Fintain\n",
      "Processed: 2800 Last: Sigmund (comics)\n",
      "Processed: 2900 Last: Perry White\n",
      "Processed: 3000 Last: Jaime Lannister\n",
      "Processed: 3100 Last: Untitled Orion (ENT)\n",
      "Processed: 3200 Last: White Witch (comics)\n",
      "Processed: 3300 Last: Giganta\n",
      "Processed: 3400 Last: Battle Pope\n",
      "Processed: 3500 Last: Nature Boy (comics)\n",
      "Processed: 3600 Last: Ventriloquist (comics)\n",
      "Processed: 3700 Last: The Bumpkin Billionaires\n",
      "Processed: 3800 Last: Swoop (Transformers)\n",
      "Processed: 3900 Last: Cody (Final Fight)\n",
      "Processed: 4000 Last: Brimstone (comics)\n",
      "Processed: 4100 Last: Violet Parr\n",
      "Processed: 4200 Last: Terrax\n",
      "Processed: 4300 Last: Jack Shephard\n",
      "Processed: 4400 Last: Proteus (Marvel Comics)\n",
      "Processed: 4500 Last: Jaz Hoyt\n",
      "Processed: 4600 Last: Kenneth Irons\n",
      "Processed: 4700 Last: Octa of Kent\n",
      "Processed: 4800 Last: Hero Cruz\n",
      "Processed: 4900 Last: Nightmare (Marvel Comics)\n",
      "Processed: 5000 Last: The Goose Girl\n",
      "Processed: 5100 Last: Tracer (DC Comics)\n",
      "Processed: 5200 Last: Naomi Julien\n",
      "Processed: 5300 Last: Beppo (comics)\n",
      "Processed: 5400 Last: Alex Wilder\n",
      "Processed: 5500 Last: Steven Beale\n",
      "Processed: 5600 Last: Vinnie Patterson\n",
      "Processed: 5700 Last: Hayfoot Henry\n",
      "Processed: 5800 Last: Firebrand (Marvel Comics)\n",
      "Processed: 5900 Last: Man-Ape\n",
      "Processed: 6000 Last: Jesse Reeves\n",
      "Processed: 6100 Last: Ransak the Reject\n",
      "Processed: 6200 Last: Blue Jay (comics)\n",
      "Processed: 6300 Last: Daisy Johnson\n",
      "Processed: 6400 Last: Sensei (DC Comics)\n",
      "Processed: 6500 Last: Donna Ludlow\n",
      "Processed: 6600 Last: Vengeance (comics)\n",
      "Processed: 6700 Last: Tracy Flick\n",
      "Processed: 6800 Last: Fatale (comics)\n",
      "Processed: 6900 Last: Red Ronin\n",
      "Processed: 7000 Last: White Walker\n",
      "Processed: 7100 Last: The Queen Bee\n",
      "Processed: 7200 Last: Devil-Slayer\n",
      "Processed: 7300 Last: Captain 3-D\n",
      "Processed: 7400 Last: Carlton Lassiter\n",
      "Processed: 7500 Last: Stephen Colbert (character)\n",
      "Processed: 7600 Last: Nick Falco\n",
      "Processed: 7700 Last: Rosanella\n",
      "Processed: 7800 Last: Valkin\n",
      "Processed: 7900 Last: Spider-Man (Gerry Drew)\n",
      "Processed: 8000 Last: Alex (Madagascar)\n",
      "Processed: 8100 Last: King of the Royal Mounted\n",
      "Processed: 8200 Last: Phil D'Amato\n",
      "Processed: 8300 Last: Boxey\n",
      "Processed: 8400 Last: Skrullian Skymaster\n",
      "Processed: 8500 Last: John Paul McQueen\n",
      "Processed: 8600 Last: Masked Marvel (Centaur Publications)\n",
      "Processed: 8700 Last: Frankenstein's Monster (Marvel Comics)\n",
      "Processed: 8800 Last: Black Raazer\n",
      "Processed: 8900 Last: Power Broker\n",
      "Processed: 9000 Last: Steeplejack (Marvel Comics)\n",
      "Processed: 9100 Last: Luke Morgan\n",
      "Processed: 9200 Last: Crusades trilogy\n",
      "Processed: 9300 Last: The Daughter Of King Under-Waves\n",
      "Processed: 9400 Last: Holly Sutton-Scorpio\n",
      "Processed: 9500 Last: Natas (comics)\n",
      "Processed: 9600 Last: Fiona Glenanne\n",
      "Processed: 9700 Last: The Goodfeathers\n",
      "Processed: 9800 Last: Wynonna Earp\n",
      "Processed: 9900 Last: Mathemanic\n",
      "Processed: 10000 Last: Meriem (Tarzan)\n",
      "Processed: 10100 Last: Desmond Miles\n",
      "Processed: 10200 Last: Black Lantern Corps\n",
      "Processed: 10300 Last: Red King (Through the Looking-Glass)\n",
      "Processed: 10400 Last: Mello (Death Note)\n",
      "Processed: 10500 Last: Lambo (Reborn!)\n",
      "Processed: 10600 Last: Captain Qwark\n",
      "Processed: 10700 Last: Dr. Evil\n",
      "Processed: 10800 Last: Wendy Testaburger\n",
      "Processed: 10900 Last: Black Widow (Yelena Belova)\n",
      "Processed: 11000 Last: Luise von Waldensteyck\n",
      "Processed: 11100 Last: Emma Woodhouse\n",
      "Processed: 11200 Last: Shikari Shambu\n",
      "Processed: 11300 Last: Man-Elephant\n",
      "Processed: 11400 Last: Toad (Nintendo)\n",
      "Processed: 11500 Last: Amanda Woodward (Melrose Place)\n",
      "Processed: 11600 Last: Nesace\n",
      "Processed: 11700 Last: White Lantern Corps\n",
      "Processed: 11800 Last: María LaGuerta\n",
      "Processed: 11900 Last: Nick Bates\n",
      "Processed: 12000 Last: Eliza Doolittle\n",
      "Processed: 12100 Last: Martha Masters (House)\n",
      "Processed: 12200 Last: Music Meister\n",
      "Processed: 12300 Last: Mumm-Ra\n",
      "Processed: 12400 Last: Mitchell Pritchett\n",
      "Processed: 12500 Last: Noah van Helsing\n",
      "Processed: 12600 Last: Yuno Gasai\n",
      "Processed: 12700 Last: Cethlann (comics)\n",
      "Processed: 12800 Last: Scarlet Witch (Ultimate Marvel)\n",
      "Processed: 12900 Last: Frank Underwood (House of Cards)\n",
      "Processed: 13000 Last: Lassair\n",
      "Processed: 13100 Last: Frieda Goren\n",
      "Processed: 13200 Last: Clara Prozeski\n",
      "Processed: 13300 Last: Mickey Fondozzi\n",
      "Processed: 13400 Last: Megpoid\n",
      "Processed: 13500 Last: Schanulleke\n",
      "Processed: 13600 Last: Red Ryan (comics)\n",
      "Processed: 13700 Last: Nicoletta (comics)\n",
      "Processed: 13800 Last: Alex Danvers\n",
      "Processed: 13900 Last: Ali Duncan\n",
      "Processed: 14000 Last: Ted Fisk\n",
      "Processed: 14100 Last: Enrique Jr.\n",
      "Processed: 14200 Last: Sniff (Moomin character)\n"
     ]
    }
   ],
   "source": [
    "tokenized, lemmatized = data.get_character_extracts(limit=None, remove_black_listed=True)\n",
    "utils.save_data(tokenized, 'character_extracts_tokenized_with_meta.pickle')\n",
    "utils.save_data(lemmatized, 'character_extracts_lemmatized.pickle')"
   ]
  },
  {
   "cell_type": "code",
   "execution_count": 4,
   "metadata": {
    "scrolled": false
   },
   "outputs": [],
   "source": [
    "tokenized = utils.load_data('character_extracts_tokenized.pickle')\n",
    "lemmatized = utils.load_data('character_extracts_lemmatized.pickle')"
   ]
  },
  {
   "cell_type": "code",
   "execution_count": 6,
   "metadata": {},
   "outputs": [
    {
     "data": {
      "text/plain": [
       "{'Achilles': \"invulnerable body heel son king bear wound hero son choose decide war accord grow companion there disguise girl life daughter when instantly take spear in version arrange trumpet alarm sound woman woman flee panic prepare defend court give identity away accord arrive ship carry in result battle give wound heal heal order guide voyage refuse claim medical knowledge yet strike beauty sister overcome lust direct sexual attention refuse yield instead find decapitate altar omphalos vow protect declare return father angry dishonour have plunder glory take away urging mother refuse fight lead troop alongside force at time burn rage 's theft pray convince help gain ground war regain honour reject offer simply urge sail home plan remain camp after receive news death son grieve beloved companion's death enrage death end refusal fight take field kill man rage seek engage battle river god angry choke water man kill finally find prey chase wall time form 's favorite dear brother persuade stop run fight face face tell hopeless expect declare rage fury drive hack flesh away eat raw agony cause kill drag corpse heel chariot after have dream beg hold funeral host funeral game honour relent promise truce duration funeral when son king slay obtain revenge battlefield kill close friend lover lover scale gate hit poison arrow remain undefeated battlefield ask 's hand marriage marry sister cremate ash bury urn but ask son's exploit war tell heroic action fill satisfaction feel heroic life at point war play board game bury island name situate celebrate to people come island appear dream appear navigation far away instruct island better anchor ship young beautiful beloved love lover choose die revenge catch tortoise head start motion change impossible describe chronicler accord army tribe previously know later appear 's portray hero lazy devoted love subject poem fragment mention 's poem kill poison arrow shoot the narrator 's the main major support main 's main major win appear light subject treat painting recognize daughter the wrath the death receive arm the death restore sculpture create frequently subject opera ballet related genre ballad opera write parody petticoat libretto compose inauguration di opera libretto oder oratorio composer come in portray follow class cruiser serve in addition earn battle honour serve game play board game petteia black figure oinochoe\"}"
      ]
     },
     "execution_count": 6,
     "metadata": {},
     "output_type": "execute_result"
    }
   ],
   "source": [
    "lemmatized"
   ]
  },
  {
   "cell_type": "code",
   "execution_count": 5,
   "metadata": {
    "scrolled": false
   },
   "outputs": [
    {
     "data": {
      "text/plain": [
       "{'Achilles': ['that <SUBJECT> was invulnerable in all of his body except for his heel .',\n",
       "  '<SUBJECT> was the son of the <ENITY> and of <ENITY> , the king of the <ENITY> .',\n",
       "  'when <SUBJECT> was born .',\n",
       "  '<SUBJECT> being wounded : in <ENITY> the <ENITY> hero <ENITY> , son of <ENITY> .',\n",
       "  '<SUBJECT> chose the former , and decided to take part in the <ENITY> war .',\n",
       "  'according to <ENITY> , <SUBJECT> grew up in <ENITY> together with his companion patroclus .',\n",
       "  \"there , <SUBJECT> is disguised as a girl and lives among <ENITY> ' daughters , perhaps under the name <ENITY> .\",\n",
       "  'when <SUBJECT> instantly takes up the spear .',\n",
       "  \"in another version of the story , <ENITY> arranges for a trumpet alarm to be sounded while <SUBJECT> was with <ENITY> ' women ; while the women flee in panic , <SUBJECT> prepares to defend the court , thus giving his identity away .\",\n",
       "  'according to the <ENITY> , <SUBJECT> arrived at <ENITY> with <ENITY> ships , each carrying <ENITY> .',\n",
       "  'in the resulting battle , <SUBJECT> gave <ENITY> a wound that would not heal .',\n",
       "  'where <SUBJECT> healed him in order that <SUBJECT> might become their guide for the voyage to <ENITY> .',\n",
       "  '<SUBJECT> refused , claiming to have no medical knowledge .',\n",
       "  'yet <SUBJECT> , struck by the beauty of both <ENITY> and his sister <ENITY> , and overcome with lust , directed his sexual attentions on <ENITY> – who , refusing to yield , instead found <SUBJECT> decapitated upon an altar-omphalos of <ENITY> .',\n",
       "  'unless <SUBJECT> vows to protect him .',\n",
       "  '<SUBJECT> does so , and <ENITY> declares that <ENITY> must be returned to her father .',\n",
       "  'angry at the dishonour of having his plunder and glory taken away , with the urging of his mother <ENITY> , <SUBJECT> refuses to fight or lead his troops alongside the other <ENITY> forces .',\n",
       "  \"at the same time , burning with rage over <ENITY> 's theft , <SUBJECT> prays to <ENITY> to convince <ENITY> to help the <ENITY> gain ground in the war , so that <SUBJECT> may regain his honour .\",\n",
       "  '<SUBJECT> rejects all <ENITY> offers him and simply urges the <ENITY> to sail home as <SUBJECT> was planning to do .',\n",
       "  'though <SUBJECT> remains at his camp .',\n",
       "  \"after receiving the news of the death of <ENITY> from <ENITY> , the son of <ENITY> , <SUBJECT> grieves over his beloved companion 's death .\",\n",
       "  'enraged over the death of <ENITY> , <SUBJECT> ends his refusal to fight and takes the field , killing many men in his rage but always seeking out <ENITY> .',\n",
       "  '<SUBJECT> even engages in battle with the river god <ENITY> , who has become angry that <ENITY> is choking his waters with all the men <SUBJECT> has killed .',\n",
       "  'finally , <SUBJECT> finds his prey .',\n",
       "  \"<SUBJECT> chases <ENITY> around the wall of <ENITY> times before <ENITY> , in the form of <ENITY> 's favorite and dearest brother , <ENITY> , persuades <ENITY> to stop running and fight <ENITY> face to face .\",\n",
       "  '<SUBJECT> tells <SUBJECT> is hopeless to expect that of him , declaring that \" my rage , my fury would drive me now to hack your flesh away and eat you raw – such agonies <SUBJECT> have caused me \" .',\n",
       "  '<SUBJECT> then kills <ENITY> and drags his corpse by its heels behind his chariot .',\n",
       "  'after having a dream where <ENITY> begs <ENITY> to hold his funeral , <SUBJECT> hosts a series of funeral games in his honour .',\n",
       "  '<SUBJECT> relents and promises a truce for the duration of the funeral .',\n",
       "  'when <ENITY> , son of the <ENITY> and king of <ENITY> , slays <ENITY> , <SUBJECT> once more obtains revenge on the battlefield , killing <ENITY> .',\n",
       "  'that <SUBJECT> and his close friend <ENITY> were lovers .',\n",
       "  'that <SUBJECT> were lovers .',\n",
       "  'that <SUBJECT> was scaling the gates of <ENITY> and was hit with a poisoned arrow .',\n",
       "  '<SUBJECT> remained undefeated on the battlefield .',\n",
       "  \"<SUBJECT> asks <ENITY> for <ENITY> 's hand in marriage .\",\n",
       "  'if <SUBJECT> married his sister .',\n",
       "  '<SUBJECT> was cremated and his ashes buried in the same urn as those of <ENITY> .',\n",
       "  \"but <SUBJECT> then asks <ENITY> of his son 's exploits in the <ENITY> war , and when <ENITY> tells of <ENITY> ' heroic actions , <ENITY> is filled with satisfaction .\",\n",
       "  'how <SUBJECT> felt about the heroic life .',\n",
       "  'at some point in the war , <SUBJECT> and <ENITY> were playing a board game .',\n",
       "  'that <SUBJECT> was buried on an island named <ENITY> , situated between the <ENITY> and the <ENITY> .',\n",
       "  'in which <SUBJECT> is praised and celebrated .',\n",
       "  'to some of the people who come to this island , <SUBJECT> appears in dreams , to others <SUBJECT> would appear even during their navigation , if <SUBJECT> were not too far away , and would instruct them as to which part of the island <SUBJECT> would better anchor their ships .',\n",
       "  'because <SUBJECT> , being the younger and more beautiful of the <ENITY> , was the beloved , who loved his lover so much that <SUBJECT> chose to die to revenge him .',\n",
       "  'that <SUBJECT> could not catch up to a tortoise with a head start , and therefore that motion and change were impossible .',\n",
       "  '<SUBJECT> was described by the <ENITY> chronicler <ENITY> , not as <ENITY> , but as <ENITY> , while according to the <ENITY> author <ENITY> , his army was made up of a tribe previously known as <ENITY> and later as <ENITY> .',\n",
       "  \"* <SUBJECT> appears in <ENITY> 's <ENITY> .\",\n",
       "  '* <SUBJECT> is portrayed as a former hero who has become lazy and devoted to the love of <ENITY> , in <ENITY> and <ENITY> .',\n",
       "  '* <SUBJECT> is the subject of the poem <ENITY> , a fragment by <ENITY> .',\n",
       "  \"* <SUBJECT> is mentioned in <ENITY> 's poem <ENITY> .\",\n",
       "  '* <SUBJECT> is killed by a poisoned <ENITY> arrow shot by <ENITY> in <ENITY> novel the <ENITY> .',\n",
       "  \"* <SUBJECT> is of various ' narrators ' in <ENITY> 's novel the <ENITY> of <ENITY> .\",\n",
       "  '* <SUBJECT> is of the main characters in <ENITY> novels <ENITY> and <ENITY> .',\n",
       "  '* <SUBJECT> is a major supporting character in <ENITY> of books .',\n",
       "  \"* <SUBJECT> is the main character in <ENITY> 's novel <ENITY> .\",\n",
       "  \"* <SUBJECT> is a main character in <ENITY> ' <ENITY> novel <ENITY> .\",\n",
       "  '* <SUBJECT> is a major character in <ENITY> debut novel , <ENITY> , which won <ENITY> .',\n",
       "  '* <SUBJECT> appears in the light novel series <ENITY> / <ENITY> as <ENITY> .',\n",
       "  '* <SUBJECT> with the <ENITY> of <ENITY> is a subject treated in paintings by <ENITY> and <ENITY> among others .',\n",
       "  '<SUBJECT> recognized among the daughters of <ENITY> , the wrath of <ENITY> , the death of <ENITY> , <ENITY> receiving the arms of <ENITY> from <ENITY> , the death of <ENITY> , and <ENITY> restored to <ENITY> .',\n",
       "  '* <ENITY> , \" <SUBJECT> among the <ENITY> of <ENITY> \" , <ENITY> , at <ENITY> , <ENITY> .',\n",
       "  '* <SUBJECT> is a sculpture created by <ENITY> .',\n",
       "  '<SUBJECT> has been frequently the subject of operas , ballets and related genres .',\n",
       "  '* <SUBJECT> is a ballad opera , written by <ENITY> , parodied by <ENITY> in petticoats in <ENITY> .',\n",
       "  '* <SUBJECT> in <ENITY> is a libretto by <ENITY> , composed by <ENITY> for the inauguration of the <ENITY> di <ENITY> .',\n",
       "  '* <SUBJECT> is an opera by <ENITY> on a libretto by <ENITY> .',\n",
       "  '* <SUBJECT> , oder <ENITY> is an oratorio by the <ENITY> composer <ENITY> .',\n",
       "  '* <SUBJECT> come <ENITY> .',\n",
       "  'in films <SUBJECT> has been portrayed in the following films and television series .',\n",
       "  '* <SUBJECT> was a <ENITY> class cruiser which served with <ENITY> in <ENITY> .',\n",
       "  \"in addition to earning the battle honour ' <ENITY> ' , <SUBJECT> also served at <ENITY> and <ENITY> in <ENITY> .\",\n",
       "  '<SUBJECT> game <ENITY> and <ENITY> playing the board game petteia , black-figure oinochoe , <ENITY> <ENITY> .']}"
      ]
     },
     "execution_count": 5,
     "metadata": {},
     "output_type": "execute_result"
    }
   ],
   "source": [
    "tokenized"
   ]
  }
 ],
 "metadata": {
  "kernelspec": {
   "display_name": "Python 3",
   "language": "python",
   "name": "python3"
  },
  "language_info": {
   "codemirror_mode": {
    "name": "ipython",
    "version": 3
   },
   "file_extension": ".py",
   "mimetype": "text/x-python",
   "name": "python",
   "nbconvert_exporter": "python",
   "pygments_lexer": "ipython3",
   "version": "3.6.4"
  }
 },
 "nbformat": 4,
 "nbformat_minor": 2
}
