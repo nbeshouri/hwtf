{
 "cells": [
  {
   "cell_type": "code",
   "execution_count": 1,
   "metadata": {
    "scrolled": false
   },
   "outputs": [
    {
     "name": "stdout",
     "output_type": "stream",
     "text": [
      "/home/ubuntu/Dropbox/project_4\n"
     ]
    }
   ],
   "source": [
    "cd ~/Dropbox/project_4"
   ]
  },
  {
   "cell_type": "code",
   "execution_count": 2,
   "metadata": {},
   "outputs": [],
   "source": [
    "from hwmf import utils, data\n",
    "import re\n",
    "import gensim\n",
    "from gensim.models import doc2vec"
   ]
  },
  {
   "cell_type": "code",
   "execution_count": 3,
   "metadata": {},
   "outputs": [],
   "source": [
    "name_to_bio_lemmas = utils.load_data('character_bios_lemmatized.pickle')\n",
    "name_to_bio_tokens = utils.load_data('character_bios_tokenized.pickle')"
   ]
  },
  {
   "cell_type": "code",
   "execution_count": 4,
   "metadata": {},
   "outputs": [],
   "source": [
    "name_to_article = utils.load_data('character_extracts_lemmatized.pickle')"
   ]
  },
  {
   "cell_type": "code",
   "execution_count": 5,
   "metadata": {},
   "outputs": [],
   "source": [
    "name_to_article = data.get_character_articles()"
   ]
  },
  {
   "cell_type": "code",
   "execution_count": 5,
   "metadata": {},
   "outputs": [
    {
     "data": {
      "text/plain": [
       "\"accord 's build high tech industrial metalworking robot build manufacturing facility 's unlike robot mortal accord 's calculation year live after report defect manufacturer barely escape death guide missile robot death squad dispatch mom order eliminate effectively defective product market job metalworking factory bend steel girder construction suicide booth apartment although pair enjoy live portray manipulate guileless friend in early show prefer occupy small area apartment like closet refer cozy later show individual bedroom like hat magnet near pathological fear electric opener magnet because uncontrollably start sing folk song near head magnet shut inhibition cause reveal secret ambition folk singer round peg square hole in state flip coin decide color end foghat gray gold in show kid black white mug shoot take arrest theft in show try join basketball team make tall simply extend leg in claim nose choose wear design specifically relatively simple task bend straight metal girder angle reboot presumably separate catchphrase drive majority catchphrase pornographic power alcohol base fuel convert electrical power source sufficient operate small household appliance plug power receptacle classic narcissist be's breakout different the within the appear vs. vs. impossible in travel time kill dna tie creature rampage end befriend learn creature fact 's genetic offspring once crisis avert go shutdown mode basement rest inert basement body cavity store family's cash nest egg make background\""
      ]
     },
     "execution_count": 5,
     "metadata": {},
     "output_type": "execute_result"
    }
   ],
   "source": [
    "name_to_article['Bender (Futurama)']"
   ]
  },
  {
   "cell_type": "code",
   "execution_count": null,
   "metadata": {},
   "outputs": [],
   "source": [
    "[(key, value) for key, value in name_to_bio_tokens.items() if key in name_to_article]"
   ]
  },
  {
   "cell_type": "code",
   "execution_count": 7,
   "metadata": {},
   "outputs": [
    {
     "ename": "NameError",
     "evalue": "name 'name_to_bio_tokens' is not defined",
     "output_type": "error",
     "traceback": [
      "\u001b[0;31m---------------------------------------------------------------------------\u001b[0m",
      "\u001b[0;31mNameError\u001b[0m                                 Traceback (most recent call last)",
      "\u001b[0;32m<ipython-input-7-d307d0e15092>\u001b[0m in \u001b[0;36m<module>\u001b[0;34m()\u001b[0m\n\u001b[0;32m----> 1\u001b[0;31m \u001b[0mname_to_bio_lemmas\u001b[0m \u001b[0;34m=\u001b[0m \u001b[0mdict\u001b[0m\u001b[0;34m(\u001b[0m\u001b[0;34m(\u001b[0m\u001b[0mkey\u001b[0m\u001b[0;34m,\u001b[0m \u001b[0mvalue\u001b[0m\u001b[0;34m)\u001b[0m \u001b[0;32mfor\u001b[0m \u001b[0mkey\u001b[0m\u001b[0;34m,\u001b[0m \u001b[0mvalue\u001b[0m \u001b[0;32min\u001b[0m \u001b[0mname_to_bio_tokens\u001b[0m\u001b[0;34m.\u001b[0m\u001b[0mitems\u001b[0m\u001b[0;34m(\u001b[0m\u001b[0;34m)\u001b[0m \u001b[0;32mif\u001b[0m \u001b[0mkey\u001b[0m \u001b[0;32min\u001b[0m \u001b[0mname_to_article\u001b[0m\u001b[0;34m)\u001b[0m\u001b[0;34m\u001b[0m\u001b[0m\n\u001b[0m",
      "\u001b[0;31mNameError\u001b[0m: name 'name_to_bio_tokens' is not defined"
     ]
    }
   ],
   "source": [
    "name_to_bio_lemmas = dict((key, value) for key, value in name_to_bio_tokens.items() if key in name_to_article) "
   ]
  },
  {
   "cell_type": "code",
   "execution_count": 7,
   "metadata": {},
   "outputs": [
    {
     "data": {
      "text/plain": [
       "TaggedDocument(words=['accord', 'build', 'high', 'tech', 'industrial', 'metalworking', 'robot', 'build', 'manufacturing', 'facility', 'unlike', 'robot', 'mortal', 'accord', 'calculation', 'year', 'live', 'after', 'report', 'defect', 'manufacturer', 'barely', 'escape', 'death', 'guide', 'missile', 'robot', 'death', 'squad', 'dispatch', 'mom', 'order', 'eliminate', 'effectively', 'defective', 'product', 'market', 'job', 'metalworking', 'factory', 'bend', 'steel', 'girder', 'construction', 'suicide', 'booth', 'apartment', 'although', 'pair', 'enjoy', 'live', 'portray', 'manipulate', 'guileless', 'friend', 'in', 'early', 'show', 'prefer', 'occupy', 'small', 'area', 'apartment', 'like', 'closet', 'refer', 'cozy', 'later', 'show', 'individual', 'bedroom', 'like', 'hat', 'magnet', 'near', 'pathological', 'fear', 'electric', 'opener', 'magnet', 'because', 'uncontrollably', 'start', 'sing', 'folk', 'song', 'near', 'head', 'magnet', 'shut', 'inhibition', 'cause', 'reveal', 'secret', 'ambition', 'folk', 'singer', 'round', 'peg', 'square', 'hole', 'in', 'state', 'flip', 'coin', 'decide', 'color', 'end', 'foghat', 'gray', 'gold', 'in', 'show', 'kid', 'black', 'white', 'mug', 'shoot', 'take', 'arrest', 'theft', 'in', 'show', 'try', 'join', 'basketball', 'team', 'make', 'tall', 'simply', 'extend', 'leg', 'in', 'claim', 'nose', 'choose', 'wear', 'design', 'specifically', 'relatively', 'simple', 'task', 'bend', 'straight', 'metal', 'girder', 'angle', 'reboot', 'presumably', 'separate', 'catchphrase', 'drive', 'majority', 'catchphrase', 'pornographic', 'power', 'alcohol', 'base', 'fuel', 'convert', 'electrical', 'power', 'source', 'sufficient', 'operate', 'small', 'household', 'appliance', 'plug', 'power', 'receptacle', 'classic', 'narcissist', 'be', 'breakout', 'different', 'the', 'within', 'the', 'appear', 'vs', 'vs', 'impossible', 'in', 'travel', 'time', 'kill', 'dna', 'tie', 'creature', 'rampage', 'end', 'befriend', 'learn', 'creature', 'fact', 'genetic', 'offspring', 'once', 'crisis', 'avert', 'go', 'shutdown', 'mode', 'basement', 'rest', 'inert', 'basement', 'body', 'cavity', 'store', 'family', 'cash', 'nest', 'egg', 'make', 'background'], tags=['Bender (Futurama)'])"
      ]
     },
     "execution_count": 7,
     "metadata": {},
     "output_type": "execute_result"
    }
   ],
   "source": [
    "doc2vec.TaggedDocument(gensim.utils.simple_preprocess(name_to_article['Bender (Futurama)']), ['Bender (Futurama)'])"
   ]
  },
  {
   "cell_type": "code",
   "execution_count": 6,
   "metadata": {},
   "outputs": [
    {
     "data": {
      "text/plain": [
       "TaggedDocument(words=\"accord 's build high tech industrial metalworking robot build manufacturing facility 's unlike robot mortal accord 's calculation year live after report defect manufacturer barely escape death guide missile robot death squad dispatch mom order eliminate effectively defective product market job metalworking factory bend steel girder construction suicide booth apartment although pair enjoy live portray manipulate guileless friend in early show prefer occupy small area apartment like closet refer cozy later show individual bedroom like hat magnet near pathological fear electric opener magnet because uncontrollably start sing folk song near head magnet shut inhibition cause reveal secret ambition folk singer round peg square hole in state flip coin decide color end foghat gray gold in show kid black white mug shoot take arrest theft in show try join basketball team make tall simply extend leg in claim nose choose wear design specifically relatively simple task bend straight metal girder angle reboot presumably separate catchphrase drive majority catchphrase pornographic power alcohol base fuel convert electrical power source sufficient operate small household appliance plug power receptacle classic narcissist be's breakout different the within the appear vs. vs. impossible in travel time kill dna tie creature rampage end befriend learn creature fact 's genetic offspring once crisis avert go shutdown mode basement rest inert basement body cavity store family's cash nest egg make background\", tags=['Bender (Futurama)'])"
      ]
     },
     "execution_count": 6,
     "metadata": {},
     "output_type": "execute_result"
    }
   ],
   "source": [
    "doc2vec.TaggedDocument(name_to_article['Bender (Futurama)'], ['Bender (Futurama)'])"
   ]
  },
  {
   "cell_type": "code",
   "execution_count": 126,
   "metadata": {
    "scrolled": true
   },
   "outputs": [
    {
     "data": {
      "text/plain": [
       "['that', 'how', 'we', 'do', 'it', 'yeah', 'man']"
      ]
     },
     "execution_count": 126,
     "metadata": {},
     "output_type": "execute_result"
    }
   ],
   "source": [
    "gensim.utils.simple_preprocess(\"that's how we do it!\\nyeah man\")"
   ]
  },
  {
   "cell_type": "code",
   "execution_count": 26,
   "metadata": {},
   "outputs": [
    {
     "data": {
      "text/plain": [
       "14271"
      ]
     },
     "execution_count": 26,
     "metadata": {},
     "output_type": "execute_result"
    }
   ],
   "source": [
    "len(name_to_article)"
   ]
  },
  {
   "cell_type": "code",
   "execution_count": 28,
   "metadata": {},
   "outputs": [
    {
     "data": {
      "text/plain": [
       "TaggedDocument(words=[], tags=['Luke Skywalker'])"
      ]
     },
     "execution_count": 28,
     "metadata": {},
     "output_type": "execute_result"
    }
   ],
   "source": [
    "name_to_article_processed['Luke Skywalker']"
   ]
  },
  {
   "cell_type": "code",
   "execution_count": 31,
   "metadata": {
    "scrolled": true
   },
   "outputs": [
    {
     "name": "stdout",
     "output_type": "stream",
     "text": [
      "1000\n",
      "2000\n",
      "3000\n",
      "4000\n",
      "5000\n",
      "6000\n",
      "7000\n",
      "8000\n",
      "9000\n",
      "10000\n",
      "11000\n",
      "12000\n",
      "13000\n",
      "14000\n"
     ]
    }
   ],
   "source": [
    "title_black_list = utils.load_values('character_article_title_black_list.csv')\n",
    "word_black_list = utils.load_values('character_article_word_black_list.csv')\n",
    "\n",
    "def remove_black_listed(doc_string):\n",
    "    black_list = sorted(word_black_list, key=lambda x: -len(x))\n",
    "    patterns = []\n",
    "    for pattern in word_black_list:\n",
    "        patterns.append(r'\\b' + pattern + '\\b')\n",
    "    patterns += word_black_list\n",
    "    for pattern in patterns:\n",
    "        doc_string = re.sub(pattern, '', doc_string)\n",
    "    return doc_string\n",
    "\n",
    "def to_word_list(sents):\n",
    "    merged = merge_sents(sents)\n",
    "    merged = remove_black_listed(merged)\n",
    "    return gensim.utils.simple_preprocess(merged)\n",
    "\n",
    "train_corpus = []\n",
    "name_to_article_processed = {}\n",
    "count = 0\n",
    "for name, article in name_to_article.items():\n",
    "    processed = remove_black_listed(article)\n",
    "    processed = gensim.utils.simple_preprocess(processed)\n",
    "    doc = doc2vec.TaggedDocument(processed, [name])\n",
    "    train_corpus.append(doc)\n",
    "    name_to_article_processed[name] = processed\n",
    "    count += 1\n",
    "    if count % 1000 == 0:\n",
    "        print(count)"
   ]
  },
  {
   "cell_type": "code",
   "execution_count": 21,
   "metadata": {
    "scrolled": true
   },
   "outputs": [
    {
     "data": {
      "text/plain": [
       "14271"
      ]
     },
     "execution_count": 21,
     "metadata": {},
     "output_type": "execute_result"
    }
   ],
   "source": [
    "len(train_corpus)"
   ]
  },
  {
   "cell_type": "code",
   "execution_count": 113,
   "metadata": {
    "collapsed": true
   },
   "outputs": [
    {
     "data": {
      "text/plain": [
       "['accord',\n",
       " 'back',\n",
       " 'build',\n",
       " 'high',\n",
       " 'tech',\n",
       " 'industrial',\n",
       " 'metalworking',\n",
       " 'robot',\n",
       " 'build',\n",
       " 'manufacturing',\n",
       " 'facility',\n",
       " 'unlike',\n",
       " 'robot',\n",
       " 'mortal',\n",
       " 'accord',\n",
       " 'calculation',\n",
       " 'year',\n",
       " 'live',\n",
       " 'after',\n",
       " 'report',\n",
       " 'defect',\n",
       " 'manufacturer',\n",
       " 'barely',\n",
       " 'escape',\n",
       " 'death',\n",
       " 'guide',\n",
       " 'missile',\n",
       " 'robot',\n",
       " 'death',\n",
       " 'squad',\n",
       " 'dispatch',\n",
       " 'mom',\n",
       " 'order',\n",
       " 'eliminate',\n",
       " 'effectively',\n",
       " 'defective',\n",
       " 'product',\n",
       " 'market',\n",
       " 'job',\n",
       " 'metalworking',\n",
       " 'fy',\n",
       " 'bend',\n",
       " 'steel',\n",
       " 'girder',\n",
       " 'construction',\n",
       " 'suicide',\n",
       " 'booth',\n",
       " 'apartment',\n",
       " 'although',\n",
       " 'pair',\n",
       " 'enjoy',\n",
       " 'live',\n",
       " 'portray',\n",
       " 'manipulate',\n",
       " 'guileless',\n",
       " 'friend',\n",
       " 'in',\n",
       " 'early',\n",
       " 'show',\n",
       " 'prefer',\n",
       " 'occupy',\n",
       " 'small',\n",
       " 'area',\n",
       " 'apartment',\n",
       " 'like',\n",
       " 'closet',\n",
       " 'refer',\n",
       " 'cozy',\n",
       " 'later',\n",
       " 'show',\n",
       " 'individual',\n",
       " 'bedroom',\n",
       " 'like',\n",
       " 'hat',\n",
       " 'magnet',\n",
       " 'near',\n",
       " 'pathological',\n",
       " 'fear',\n",
       " 'electric',\n",
       " 'opener',\n",
       " 'magnet',\n",
       " 'because',\n",
       " 'uncontrollably',\n",
       " 'start',\n",
       " 'sing',\n",
       " 'folk',\n",
       " 'song',\n",
       " 'near',\n",
       " 'head',\n",
       " 'magnet',\n",
       " 'shut',\n",
       " 'inhibition',\n",
       " 'cause',\n",
       " 'reveal',\n",
       " 'secret',\n",
       " 'ambition',\n",
       " 'folk',\n",
       " 'singer',\n",
       " 'round',\n",
       " 'peg',\n",
       " 'square',\n",
       " 'hole',\n",
       " 'in',\n",
       " 'state',\n",
       " 'flip',\n",
       " 'coin',\n",
       " 'decide',\n",
       " 'color',\n",
       " 'end',\n",
       " 'foghat',\n",
       " 'gray',\n",
       " 'gold',\n",
       " 'in',\n",
       " 'show',\n",
       " 'kid',\n",
       " 'black',\n",
       " 'white',\n",
       " 'mug',\n",
       " 'shoot',\n",
       " 'take',\n",
       " 'arrest',\n",
       " 'theft',\n",
       " 'in',\n",
       " 'show',\n",
       " 'try',\n",
       " 'join',\n",
       " 'basketball',\n",
       " 'team',\n",
       " 'make',\n",
       " 'tall',\n",
       " 'simply',\n",
       " 'extend',\n",
       " 'leg',\n",
       " 'in',\n",
       " 'claim',\n",
       " 'nose',\n",
       " 'choose',\n",
       " 'wear',\n",
       " 'design',\n",
       " 'specifically',\n",
       " 'relatively',\n",
       " 'simple',\n",
       " 'task',\n",
       " 'bend',\n",
       " 'straight',\n",
       " 'metal',\n",
       " 'girder',\n",
       " 'angle',\n",
       " 'reboot',\n",
       " 'presumably',\n",
       " 'separate',\n",
       " 'catchphrase',\n",
       " 'drive',\n",
       " 'majority',\n",
       " 'catchphrase',\n",
       " 'pornographic',\n",
       " 'power',\n",
       " 'alcohol',\n",
       " 'base',\n",
       " 'fuel',\n",
       " 'convert',\n",
       " 'electrical',\n",
       " 'power',\n",
       " 'source',\n",
       " 'sufficient',\n",
       " 'operate',\n",
       " 'small',\n",
       " 'household',\n",
       " 'appliance',\n",
       " 'plug',\n",
       " 'power',\n",
       " 'receptacle',\n",
       " 'classic',\n",
       " 'nissist',\n",
       " 'be',\n",
       " 'breakout',\n",
       " 'different',\n",
       " 'the',\n",
       " 'within',\n",
       " 'the',\n",
       " 'appear',\n",
       " 'vs',\n",
       " 'vs',\n",
       " 'impossible',\n",
       " 'in',\n",
       " 'travel',\n",
       " 'time',\n",
       " 'kill',\n",
       " 'dna',\n",
       " 'tie',\n",
       " 'creature',\n",
       " 'rampage',\n",
       " 'end',\n",
       " 'befriend',\n",
       " 'learn',\n",
       " 'creature',\n",
       " 'fact',\n",
       " 'genetic',\n",
       " 'offspring',\n",
       " 'once',\n",
       " 'crisis',\n",
       " 'avert',\n",
       " 'go',\n",
       " 'shutdown',\n",
       " 'mode',\n",
       " 'basement',\n",
       " 'rest',\n",
       " 'inert',\n",
       " 'basement',\n",
       " 'body',\n",
       " 'cavity',\n",
       " 'store',\n",
       " 'family',\n",
       " 'cash',\n",
       " 'nest',\n",
       " 'egg',\n",
       " 'make',\n",
       " 'background']"
      ]
     },
     "execution_count": 113,
     "metadata": {},
     "output_type": "execute_result"
    }
   ],
   "source": [
    "to_word_list(name_to_article['Bender (Futurama)'])"
   ]
  },
  {
   "cell_type": "code",
   "execution_count": 11,
   "metadata": {},
   "outputs": [],
   "source": [
    "class DocIterator(object):\n",
    "    \n",
    "    def __init__(self, doc_list):\n",
    "        self.doc_list = doc_list\n",
    "\n",
    "    def __iter__(self):\n",
    "        for doc in self.doc_list:\n",
    "            # print 'creating tagged document...%d' % idx\n",
    "            yield doc\n",
    "            \n",
    "corpus = DocIterator(train_corpus)"
   ]
  },
  {
   "cell_type": "code",
   "execution_count": null,
   "metadata": {},
   "outputs": [],
   "source": []
  },
  {
   "cell_type": "code",
   "execution_count": 44,
   "metadata": {},
   "outputs": [],
   "source": [
    "import logging\n",
    "logging.basicConfig(format='%(asctime)s : %(levelname)s : %(message)s', level=logging.DEBUG)"
   ]
  },
  {
   "cell_type": "code",
   "execution_count": 35,
   "metadata": {},
   "outputs": [],
   "source": [
    "# model = gensim.models.doc2vec.Doc2Vec(vector_size=50, min_count=2, epochs=50)\n",
    "model = gensim.models.doc2vec.Doc2Vec(vector_size=50, window=10, workers=6, epochs=50)\n"
   ]
  },
  {
   "cell_type": "code",
   "execution_count": 24,
   "metadata": {},
   "outputs": [
    {
     "data": {
      "text/plain": [
       "TaggedDocument(words=[], tags=['Achilles'])"
      ]
     },
     "execution_count": 24,
     "metadata": {},
     "output_type": "execute_result"
    }
   ],
   "source": [
    "train_corpus[0]"
   ]
  },
  {
   "cell_type": "code",
   "execution_count": 34,
   "metadata": {},
   "outputs": [
    {
     "ename": "KeyboardInterrupt",
     "evalue": "",
     "output_type": "error",
     "traceback": [
      "\u001b[0;31m---------------------------------------------------------------------------\u001b[0m",
      "\u001b[0;31mKeyboardInterrupt\u001b[0m                         Traceback (most recent call last)",
      "\u001b[0;32m<ipython-input-34-904f1fb9fae7>\u001b[0m in \u001b[0;36m<module>\u001b[0;34m()\u001b[0m\n\u001b[1;32m      6\u001b[0m \u001b[0;34m\u001b[0m\u001b[0m\n\u001b[1;32m      7\u001b[0m \u001b[0mmodel\u001b[0m\u001b[0;34m.\u001b[0m\u001b[0mbuild_vocab\u001b[0m\u001b[0;34m(\u001b[0m\u001b[0mtrain_corpus\u001b[0m\u001b[0;34m)\u001b[0m\u001b[0;34m\u001b[0m\u001b[0m\n\u001b[0;32m----> 8\u001b[0;31m \u001b[0mmodel\u001b[0m\u001b[0;34m.\u001b[0m\u001b[0mtrain\u001b[0m\u001b[0;34m(\u001b[0m\u001b[0mtrain_corpus\u001b[0m\u001b[0;34m,\u001b[0m \u001b[0mtotal_examples\u001b[0m\u001b[0;34m=\u001b[0m\u001b[0mmodel\u001b[0m\u001b[0;34m.\u001b[0m\u001b[0mcorpus_count\u001b[0m\u001b[0;34m,\u001b[0m \u001b[0mepochs\u001b[0m\u001b[0;34m=\u001b[0m\u001b[0;36m5000\u001b[0m\u001b[0;34m)\u001b[0m\u001b[0;34m\u001b[0m\u001b[0m\n\u001b[0m",
      "\u001b[0;32m~/anaconda3/envs/project_4/lib/python3.6/site-packages/gensim/models/doc2vec.py\u001b[0m in \u001b[0;36mtrain\u001b[0;34m(self, documents, total_examples, total_words, epochs, start_alpha, end_alpha, word_count, queue_factor, report_delay, callbacks)\u001b[0m\n\u001b[1;32m    510\u001b[0m             \u001b[0mdocuments\u001b[0m\u001b[0;34m,\u001b[0m \u001b[0mtotal_examples\u001b[0m\u001b[0;34m=\u001b[0m\u001b[0mtotal_examples\u001b[0m\u001b[0;34m,\u001b[0m \u001b[0mtotal_words\u001b[0m\u001b[0;34m=\u001b[0m\u001b[0mtotal_words\u001b[0m\u001b[0;34m,\u001b[0m\u001b[0;34m\u001b[0m\u001b[0m\n\u001b[1;32m    511\u001b[0m             \u001b[0mepochs\u001b[0m\u001b[0;34m=\u001b[0m\u001b[0mepochs\u001b[0m\u001b[0;34m,\u001b[0m \u001b[0mstart_alpha\u001b[0m\u001b[0;34m=\u001b[0m\u001b[0mstart_alpha\u001b[0m\u001b[0;34m,\u001b[0m \u001b[0mend_alpha\u001b[0m\u001b[0;34m=\u001b[0m\u001b[0mend_alpha\u001b[0m\u001b[0;34m,\u001b[0m \u001b[0mword_count\u001b[0m\u001b[0;34m=\u001b[0m\u001b[0mword_count\u001b[0m\u001b[0;34m,\u001b[0m\u001b[0;34m\u001b[0m\u001b[0m\n\u001b[0;32m--> 512\u001b[0;31m             queue_factor=queue_factor, report_delay=report_delay, callbacks=callbacks)\n\u001b[0m\u001b[1;32m    513\u001b[0m \u001b[0;34m\u001b[0m\u001b[0m\n\u001b[1;32m    514\u001b[0m     \u001b[0;32mdef\u001b[0m \u001b[0m_raw_word_count\u001b[0m\u001b[0;34m(\u001b[0m\u001b[0mself\u001b[0m\u001b[0;34m,\u001b[0m \u001b[0mjob\u001b[0m\u001b[0;34m)\u001b[0m\u001b[0;34m:\u001b[0m\u001b[0;34m\u001b[0m\u001b[0m\n",
      "\u001b[0;32m~/anaconda3/envs/project_4/lib/python3.6/site-packages/gensim/models/base_any2vec.py\u001b[0m in \u001b[0;36mtrain\u001b[0;34m(self, sentences, total_examples, total_words, epochs, start_alpha, end_alpha, word_count, queue_factor, report_delay, compute_loss, callbacks)\u001b[0m\n\u001b[1;32m    567\u001b[0m             \u001b[0msentences\u001b[0m\u001b[0;34m,\u001b[0m \u001b[0mtotal_examples\u001b[0m\u001b[0;34m=\u001b[0m\u001b[0mtotal_examples\u001b[0m\u001b[0;34m,\u001b[0m \u001b[0mtotal_words\u001b[0m\u001b[0;34m=\u001b[0m\u001b[0mtotal_words\u001b[0m\u001b[0;34m,\u001b[0m\u001b[0;34m\u001b[0m\u001b[0m\n\u001b[1;32m    568\u001b[0m             \u001b[0mepochs\u001b[0m\u001b[0;34m=\u001b[0m\u001b[0mepochs\u001b[0m\u001b[0;34m,\u001b[0m \u001b[0mstart_alpha\u001b[0m\u001b[0;34m=\u001b[0m\u001b[0mstart_alpha\u001b[0m\u001b[0;34m,\u001b[0m \u001b[0mend_alpha\u001b[0m\u001b[0;34m=\u001b[0m\u001b[0mend_alpha\u001b[0m\u001b[0;34m,\u001b[0m \u001b[0mword_count\u001b[0m\u001b[0;34m=\u001b[0m\u001b[0mword_count\u001b[0m\u001b[0;34m,\u001b[0m\u001b[0;34m\u001b[0m\u001b[0m\n\u001b[0;32m--> 569\u001b[0;31m             queue_factor=queue_factor, report_delay=report_delay, compute_loss=compute_loss, callbacks=callbacks)\n\u001b[0m\u001b[1;32m    570\u001b[0m \u001b[0;34m\u001b[0m\u001b[0m\n\u001b[1;32m    571\u001b[0m     \u001b[0;32mdef\u001b[0m \u001b[0m_get_job_params\u001b[0m\u001b[0;34m(\u001b[0m\u001b[0mself\u001b[0m\u001b[0;34m,\u001b[0m \u001b[0mcur_epoch\u001b[0m\u001b[0;34m)\u001b[0m\u001b[0;34m:\u001b[0m\u001b[0;34m\u001b[0m\u001b[0m\n",
      "\u001b[0;32m~/anaconda3/envs/project_4/lib/python3.6/site-packages/gensim/models/base_any2vec.py\u001b[0m in \u001b[0;36mtrain\u001b[0;34m(self, data_iterable, epochs, total_examples, total_words, queue_factor, report_delay, callbacks, **kwargs)\u001b[0m\n\u001b[1;32m    255\u001b[0m             trained_word_count_epoch, raw_word_count_epoch, job_tally_epoch = self._train_epoch(\n\u001b[1;32m    256\u001b[0m                 \u001b[0mdata_iterable\u001b[0m\u001b[0;34m,\u001b[0m \u001b[0mcur_epoch\u001b[0m\u001b[0;34m=\u001b[0m\u001b[0mcur_epoch\u001b[0m\u001b[0;34m,\u001b[0m \u001b[0mtotal_examples\u001b[0m\u001b[0;34m=\u001b[0m\u001b[0mtotal_examples\u001b[0m\u001b[0;34m,\u001b[0m \u001b[0mtotal_words\u001b[0m\u001b[0;34m=\u001b[0m\u001b[0mtotal_words\u001b[0m\u001b[0;34m,\u001b[0m\u001b[0;34m\u001b[0m\u001b[0m\n\u001b[0;32m--> 257\u001b[0;31m                 queue_factor=queue_factor, report_delay=report_delay)\n\u001b[0m\u001b[1;32m    258\u001b[0m             \u001b[0mtrained_word_count\u001b[0m \u001b[0;34m+=\u001b[0m \u001b[0mtrained_word_count_epoch\u001b[0m\u001b[0;34m\u001b[0m\u001b[0m\n\u001b[1;32m    259\u001b[0m             \u001b[0mraw_word_count\u001b[0m \u001b[0;34m+=\u001b[0m \u001b[0mraw_word_count_epoch\u001b[0m\u001b[0;34m\u001b[0m\u001b[0m\n",
      "\u001b[0;32m~/anaconda3/envs/project_4/lib/python3.6/site-packages/gensim/models/base_any2vec.py\u001b[0m in \u001b[0;36m_train_epoch\u001b[0;34m(self, data_iterable, cur_epoch, total_examples, total_words, queue_factor, report_delay)\u001b[0m\n\u001b[1;32m    225\u001b[0m         trained_word_count, raw_word_count, job_tally = self._log_epoch_progress(\n\u001b[1;32m    226\u001b[0m             \u001b[0mprogress_queue\u001b[0m\u001b[0;34m,\u001b[0m \u001b[0mjob_queue\u001b[0m\u001b[0;34m,\u001b[0m \u001b[0mcur_epoch\u001b[0m\u001b[0;34m=\u001b[0m\u001b[0mcur_epoch\u001b[0m\u001b[0;34m,\u001b[0m \u001b[0mtotal_examples\u001b[0m\u001b[0;34m=\u001b[0m\u001b[0mtotal_examples\u001b[0m\u001b[0;34m,\u001b[0m \u001b[0mtotal_words\u001b[0m\u001b[0;34m=\u001b[0m\u001b[0mtotal_words\u001b[0m\u001b[0;34m,\u001b[0m\u001b[0;34m\u001b[0m\u001b[0m\n\u001b[0;32m--> 227\u001b[0;31m             report_delay=report_delay)\n\u001b[0m\u001b[1;32m    228\u001b[0m \u001b[0;34m\u001b[0m\u001b[0m\n\u001b[1;32m    229\u001b[0m         \u001b[0;32mreturn\u001b[0m \u001b[0mtrained_word_count\u001b[0m\u001b[0;34m,\u001b[0m \u001b[0mraw_word_count\u001b[0m\u001b[0;34m,\u001b[0m \u001b[0mjob_tally\u001b[0m\u001b[0;34m\u001b[0m\u001b[0m\n",
      "\u001b[0;32m~/anaconda3/envs/project_4/lib/python3.6/site-packages/gensim/models/base_any2vec.py\u001b[0m in \u001b[0;36m_log_epoch_progress\u001b[0;34m(self, progress_queue, job_queue, cur_epoch, total_examples, total_words, report_delay)\u001b[0m\n\u001b[1;32m    173\u001b[0m \u001b[0;34m\u001b[0m\u001b[0m\n\u001b[1;32m    174\u001b[0m         \u001b[0;32mwhile\u001b[0m \u001b[0munfinished_worker_count\u001b[0m \u001b[0;34m>\u001b[0m \u001b[0;36m0\u001b[0m\u001b[0;34m:\u001b[0m\u001b[0;34m\u001b[0m\u001b[0m\n\u001b[0;32m--> 175\u001b[0;31m             \u001b[0mreport\u001b[0m \u001b[0;34m=\u001b[0m \u001b[0mprogress_queue\u001b[0m\u001b[0;34m.\u001b[0m\u001b[0mget\u001b[0m\u001b[0;34m(\u001b[0m\u001b[0;34m)\u001b[0m  \u001b[0;31m# blocks if workers too slow\u001b[0m\u001b[0;34m\u001b[0m\u001b[0m\n\u001b[0m\u001b[1;32m    176\u001b[0m             \u001b[0;32mif\u001b[0m \u001b[0mreport\u001b[0m \u001b[0;32mis\u001b[0m \u001b[0;32mNone\u001b[0m\u001b[0;34m:\u001b[0m  \u001b[0;31m# a thread reporting that it finished\u001b[0m\u001b[0;34m\u001b[0m\u001b[0m\n\u001b[1;32m    177\u001b[0m                 \u001b[0munfinished_worker_count\u001b[0m \u001b[0;34m-=\u001b[0m \u001b[0;36m1\u001b[0m\u001b[0;34m\u001b[0m\u001b[0m\n",
      "\u001b[0;32m~/anaconda3/envs/project_4/lib/python3.6/queue.py\u001b[0m in \u001b[0;36mget\u001b[0;34m(self, block, timeout)\u001b[0m\n\u001b[1;32m    162\u001b[0m             \u001b[0;32melif\u001b[0m \u001b[0mtimeout\u001b[0m \u001b[0;32mis\u001b[0m \u001b[0;32mNone\u001b[0m\u001b[0;34m:\u001b[0m\u001b[0;34m\u001b[0m\u001b[0m\n\u001b[1;32m    163\u001b[0m                 \u001b[0;32mwhile\u001b[0m \u001b[0;32mnot\u001b[0m \u001b[0mself\u001b[0m\u001b[0;34m.\u001b[0m\u001b[0m_qsize\u001b[0m\u001b[0;34m(\u001b[0m\u001b[0;34m)\u001b[0m\u001b[0;34m:\u001b[0m\u001b[0;34m\u001b[0m\u001b[0m\n\u001b[0;32m--> 164\u001b[0;31m                     \u001b[0mself\u001b[0m\u001b[0;34m.\u001b[0m\u001b[0mnot_empty\u001b[0m\u001b[0;34m.\u001b[0m\u001b[0mwait\u001b[0m\u001b[0;34m(\u001b[0m\u001b[0;34m)\u001b[0m\u001b[0;34m\u001b[0m\u001b[0m\n\u001b[0m\u001b[1;32m    165\u001b[0m             \u001b[0;32melif\u001b[0m \u001b[0mtimeout\u001b[0m \u001b[0;34m<\u001b[0m \u001b[0;36m0\u001b[0m\u001b[0;34m:\u001b[0m\u001b[0;34m\u001b[0m\u001b[0m\n\u001b[1;32m    166\u001b[0m                 \u001b[0;32mraise\u001b[0m \u001b[0mValueError\u001b[0m\u001b[0;34m(\u001b[0m\u001b[0;34m\"'timeout' must be a non-negative number\"\u001b[0m\u001b[0;34m)\u001b[0m\u001b[0;34m\u001b[0m\u001b[0m\n",
      "\u001b[0;32m~/anaconda3/envs/project_4/lib/python3.6/threading.py\u001b[0m in \u001b[0;36mwait\u001b[0;34m(self, timeout)\u001b[0m\n\u001b[1;32m    293\u001b[0m         \u001b[0;32mtry\u001b[0m\u001b[0;34m:\u001b[0m    \u001b[0;31m# restore state no matter what (e.g., KeyboardInterrupt)\u001b[0m\u001b[0;34m\u001b[0m\u001b[0m\n\u001b[1;32m    294\u001b[0m             \u001b[0;32mif\u001b[0m \u001b[0mtimeout\u001b[0m \u001b[0;32mis\u001b[0m \u001b[0;32mNone\u001b[0m\u001b[0;34m:\u001b[0m\u001b[0;34m\u001b[0m\u001b[0m\n\u001b[0;32m--> 295\u001b[0;31m                 \u001b[0mwaiter\u001b[0m\u001b[0;34m.\u001b[0m\u001b[0macquire\u001b[0m\u001b[0;34m(\u001b[0m\u001b[0;34m)\u001b[0m\u001b[0;34m\u001b[0m\u001b[0m\n\u001b[0m\u001b[1;32m    296\u001b[0m                 \u001b[0mgotit\u001b[0m \u001b[0;34m=\u001b[0m \u001b[0;32mTrue\u001b[0m\u001b[0;34m\u001b[0m\u001b[0m\n\u001b[1;32m    297\u001b[0m             \u001b[0;32melse\u001b[0m\u001b[0;34m:\u001b[0m\u001b[0;34m\u001b[0m\u001b[0m\n",
      "\u001b[0;31mKeyboardInterrupt\u001b[0m: "
     ]
    }
   ],
   "source": [
    "\n",
    "# = gensim.utils.grouper(train_corpus, 4)\n",
    "# iter_vals = gensim.models.word2vec.itervalues(name_to_article_processed)\n",
    "\n",
    "# %time model.train(train_corpus, total_examples=model.corpus_count, epochs=5000)\n",
    "\n",
    "model.build_vocab(train_corpus)\n",
    "model.train(train_corpus, total_examples=model.corpus_count, epochs=5000)"
   ]
  },
  {
   "cell_type": "code",
   "execution_count": 159,
   "metadata": {},
   "outputs": [
    {
     "data": {
      "text/plain": [
       "1"
      ]
     },
     "execution_count": 159,
     "metadata": {},
     "output_type": "execute_result"
    }
   ],
   "source": [
    "gensim.models.doc2vec.FAST_VERSION"
   ]
  },
  {
   "cell_type": "code",
   "execution_count": 158,
   "metadata": {},
   "outputs": [],
   "source": [
    "model.save('first_that_doesnt_suck.model')"
   ]
  },
  {
   "cell_type": "code",
   "execution_count": 155,
   "metadata": {},
   "outputs": [
    {
     "data": {
      "text/plain": [
       "[('Aragorn', 0.6223043203353882),\n",
       " ('Temugin', 0.6067795157432556),\n",
       " ('Boromir', 0.6062975525856018),\n",
       " ('Galadriel', 0.5872621536254883),\n",
       " ('Yoda', 0.5668113827705383),\n",
       " ('William Bush (Hornblower)', 0.561889111995697),\n",
       " ('Kratos (God of War)', 0.5594049692153931),\n",
       " ('Jim Raynor', 0.5549412965774536),\n",
       " ('Théoden', 0.5423216223716736),\n",
       " ('Forerunner (DC Comics)', 0.5411306619644165)]"
      ]
     },
     "execution_count": 155,
     "metadata": {},
     "output_type": "execute_result"
    }
   ],
   "source": [
    "# After training\n",
    "model.docvecs.most_similar('Zuko')"
   ]
  },
  {
   "cell_type": "code",
   "execution_count": 136,
   "metadata": {},
   "outputs": [
    {
     "data": {
      "text/plain": [
       "[('Aragorn', 0.6809361577033997),\n",
       " ('Aihal', 0.5727719068527222),\n",
       " ('Ben Linus', 0.5720242857933044),\n",
       " ('Boromir', 0.560214638710022),\n",
       " ('Viserys Targaryen', 0.5582283735275269),\n",
       " ('Cardinal Lamberto', 0.5393531918525696),\n",
       " ('Count Dooku', 0.5358583331108093),\n",
       " ('Korra', 0.5352246761322021),\n",
       " ('Yoda', 0.5285734534263611),\n",
       " ('Mulan (Disney character)', 0.5230451226234436)]"
      ]
     },
     "execution_count": 136,
     "metadata": {},
     "output_type": "execute_result"
    }
   ],
   "source": [
    "model.docvecs.most_similar('Zuko')"
   ]
  },
  {
   "cell_type": "code",
   "execution_count": 156,
   "metadata": {},
   "outputs": [
    {
     "data": {
      "text/plain": [
       "[('Bran Stark', 0.6570450067520142),\n",
       " ('Naruto Uzumaki', 0.6490170955657959),\n",
       " ('Aerith Gainsborough', 0.6444741487503052),\n",
       " ('Maximilian Jenius', 0.6083365082740784),\n",
       " ('Kakashi Hatake', 0.5698568820953369),\n",
       " ('Goku', 0.5684899091720581),\n",
       " ('Lelouch Lamperouge', 0.563614010810852),\n",
       " ('Paul Atreides', 0.5528197288513184),\n",
       " ('Boruto Uzumaki', 0.5497936606407166),\n",
       " ('Momiji (Ninja Gaiden)', 0.5424197316169739)]"
      ]
     },
     "execution_count": 156,
     "metadata": {},
     "output_type": "execute_result"
    }
   ],
   "source": [
    "# After\n",
    "model.docvecs.most_similar('Aang')"
   ]
  },
  {
   "cell_type": "code",
   "execution_count": 137,
   "metadata": {},
   "outputs": [
    {
     "data": {
      "text/plain": [
       "[('Aerith Gainsborough', 0.6787601709365845),\n",
       " ('Bran Stark', 0.5986438393592834),\n",
       " ('Goku', 0.5943489670753479),\n",
       " ('Gohan', 0.5703436136245728),\n",
       " ('Anna (Frozen)', 0.5645865201950073),\n",
       " ('Lelouch Lamperouge', 0.5546486377716064),\n",
       " ('Count Dooku', 0.5480912923812866),\n",
       " ('Paul Atreides', 0.545677900314331),\n",
       " ('Kyle Reese', 0.5450496673583984),\n",
       " ('Korra', 0.5447707176208496)]"
      ]
     },
     "execution_count": 137,
     "metadata": {},
     "output_type": "execute_result"
    }
   ],
   "source": [
    "model.docvecs.most_similar('Aang')"
   ]
  },
  {
   "cell_type": "code",
   "execution_count": 139,
   "metadata": {},
   "outputs": [
    {
     "data": {
      "text/plain": [
       "[('Qui-Gon Jinn', 0.7101578712463379),\n",
       " ('Luke Skywalker', 0.6712669730186462),\n",
       " ('Optimus Prime', 0.6421325206756592),\n",
       " ('Vegeta', 0.6367337703704834),\n",
       " ('Hao Asakura', 0.6160750389099121),\n",
       " ('Obi-Wan Kenobi', 0.6145543456077576),\n",
       " ('Raoh', 0.5810256004333496),\n",
       " ('Darth Bane', 0.5740638971328735),\n",
       " ('Sephiroth (Final Fantasy)', 0.5709008574485779),\n",
       " ('Aqua (Kingdom Hearts)', 0.5666394829750061)]"
      ]
     },
     "execution_count": 139,
     "metadata": {},
     "output_type": "execute_result"
    }
   ],
   "source": [
    "model.docvecs.most_similar('Yoda')"
   ]
  },
  {
   "cell_type": "code",
   "execution_count": 157,
   "metadata": {},
   "outputs": [
    {
     "data": {
      "text/plain": [
       "[('Qui-Gon Jinn', 0.6633567810058594),\n",
       " ('Luke Skywalker', 0.6167474985122681),\n",
       " ('Optimus Prime', 0.6107190847396851),\n",
       " ('Scourge (Transformers)', 0.5825558304786682),\n",
       " ('Kanan Jarrus', 0.5685822367668152),\n",
       " ('Zuko', 0.5668113231658936),\n",
       " ('Gimli (Middle-earth)', 0.565727710723877),\n",
       " ('Mokujin', 0.5602508783340454),\n",
       " ('Albus Dumbledore', 0.5537698268890381),\n",
       " ('Beorn', 0.5510784387588501)]"
      ]
     },
     "execution_count": 157,
     "metadata": {},
     "output_type": "execute_result"
    }
   ],
   "source": [
    "# After\n",
    "model.docvecs.most_similar('Yoda')"
   ]
  },
  {
   "cell_type": "code",
   "execution_count": 68,
   "metadata": {},
   "outputs": [],
   "source": [
    "def find_most_similar(word_list):\n",
    "    inferred_vector = model.infer_vector(word_list)\n",
    "#     print(len(inferred_vector))\n",
    "    sims = model.docvecs.most_similar([inferred_vector], topn=10)\n",
    "    return sims"
   ]
  },
  {
   "cell_type": "code",
   "execution_count": 69,
   "metadata": {
    "collapsed": true
   },
   "outputs": [
    {
     "data": {
      "text/plain": [
       "[('Bender (Futurama)', 0.9172766208648682),\n",
       " ('Burt Gummer', 0.6373168230056763),\n",
       " ('Sammy the Shunter', 0.6062910556793213),\n",
       " ('The Smurfs (comics)', 0.5927327275276184),\n",
       " ('Karla (character)', 0.5844019055366516),\n",
       " ('Nick Carter-Killmaster', 0.5783843398094177),\n",
       " ('Mega Mindy', 0.5779253840446472),\n",
       " ('Yig', 0.5778729915618896),\n",
       " ('Jerom', 0.5753814578056335),\n",
       " ('Pluk van de Petteflet', 0.5753750801086426)]"
      ]
     },
     "execution_count": 69,
     "metadata": {},
     "output_type": "execute_result"
    }
   ],
   "source": [
    "word_list = to_word_list(name_to_article['Bender (Futurama)'])\n",
    "find_most_similar(word_list)"
   ]
  },
  {
   "cell_type": "code",
   "execution_count": 18,
   "metadata": {},
   "outputs": [
    {
     "name": "stdout",
     "output_type": "stream",
     "text": [
      "0\n"
     ]
    }
   ],
   "source": [
    "for doc in train_corpus_docs:\n",
    "    page_name = doc.tags[0]\n",
    "    inferred_vector = model.infer_vector(train_corpus[page_name].words)\n",
    "    sims = model.docvecs.most_similar([inferred_vector], topn=5\n",
    "    print('Character:', page_name, 'Most Similar:'\n",
    "    rank = [docid for docid, sim in sims].index(page_name)\n",
    "    print(rank)\n",
    "    break"
   ]
  }
 ],
 "metadata": {
  "kernelspec": {
   "display_name": "Python 3",
   "language": "python",
   "name": "python3"
  },
  "language_info": {
   "codemirror_mode": {
    "name": "ipython",
    "version": 3
   },
   "file_extension": ".py",
   "mimetype": "text/x-python",
   "name": "python",
   "nbconvert_exporter": "python",
   "pygments_lexer": "ipython3",
   "version": "3.6.4"
  }
 },
 "nbformat": 4,
 "nbformat_minor": 2
}
