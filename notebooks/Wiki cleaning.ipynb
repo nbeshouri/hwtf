{
 "cells": [
  {
   "cell_type": "code",
   "execution_count": 1,
   "metadata": {},
   "outputs": [
    {
     "name": "stdout",
     "output_type": "stream",
     "text": [
      "/Users/nbeshouri/Documents/Projects/Metis/Project 4\n"
     ]
    }
   ],
   "source": [
    "cd ~/Dropbox/project_4"
   ]
  },
  {
   "cell_type": "code",
   "execution_count": 2,
   "metadata": {},
   "outputs": [],
   "source": [
    "from hwmf import utils\n",
    "model = utils.load_data('long_run_on_raw.pickle')"
   ]
  },
  {
   "cell_type": "code",
   "execution_count": 4,
   "metadata": {},
   "outputs": [
    {
     "data": {
      "text/plain": [
       "[('Jacen Solo', 0.876130223274231),\n",
       " ('Palpatine', 0.8713411092758179),\n",
       " ('Obi-Wan Kenobi', 0.8687915205955505),\n",
       " ('R2-D2', 0.8575220704078674),\n",
       " ('Han Solo', 0.8573705554008484),\n",
       " ('Chewbacca', 0.8343403339385986),\n",
       " ('C-3PO', 0.8338310718536377),\n",
       " ('Yoda', 0.8125448822975159),\n",
       " ('Lando Calrissian', 0.8032432794570923),\n",
       " ('Mace Windu', 0.8005262017250061)]"
      ]
     },
     "execution_count": 4,
     "metadata": {},
     "output_type": "execute_result"
    }
   ],
   "source": [
    "model.docvecs.most_similar('Luke Skywalker')"
   ]
  },
  {
   "cell_type": "code",
   "execution_count": 91,
   "metadata": {},
   "outputs": [],
   "source": [
    "path = '/Users/nbeshouri/Documents/Projects/Metis/Project 4/hwmf/data/character_bios.pickle'"
   ]
  },
  {
   "cell_type": "code",
   "execution_count": 92,
   "metadata": {},
   "outputs": [],
   "source": [
    "import joblib\n",
    "import re\n",
    "title_to_article = joblib.load(path)"
   ]
  },
  {
   "cell_type": "code",
   "execution_count": 135,
   "metadata": {},
   "outputs": [],
   "source": [
    "new_version = {}\n",
    "for key, value in title_to_article.items():\n",
    "    if 'Category:' not in key:\n",
    "        new_version[key] = value"
   ]
  },
  {
   "cell_type": "code",
   "execution_count": 136,
   "metadata": {},
   "outputs": [
    {
     "data": {
      "text/plain": [
       "15325"
      ]
     },
     "execution_count": 136,
     "metadata": {},
     "output_type": "execute_result"
    }
   ],
   "source": [
    "len(new_version)"
   ]
  },
  {
   "cell_type": "code",
   "execution_count": 142,
   "metadata": {},
   "outputs": [
    {
     "data": {
      "text/plain": [
       "['/Users/nbeshouri/Documents/Projects/Metis/Project 4/hwmf/data/character_bios.pickle']"
      ]
     },
     "execution_count": 142,
     "metadata": {},
     "output_type": "execute_result"
    }
   ],
   "source": [
    "joblib.dump(new_version, '/Users/nbeshouri/Documents/Projects/Metis/Project 4/hwmf/data/character_bios.pickle', compress=3)"
   ]
  },
  {
   "cell_type": "code",
   "execution_count": 93,
   "metadata": {},
   "outputs": [],
   "source": [
    "s = pd.Series(title_to_article)"
   ]
  },
  {
   "cell_type": "code",
   "execution_count": 94,
   "metadata": {},
   "outputs": [
    {
     "data": {
      "text/plain": [
       "0.2548021880167918"
      ]
     },
     "execution_count": 94,
     "metadata": {},
     "output_type": "execute_result"
    }
   ],
   "source": [
    "sum(s.str.contains(r'=(?:.*)biography(?:.*)=', re.IGNORECASE)) / len(s)"
   ]
  },
  {
   "cell_type": "code",
   "execution_count": 144,
   "metadata": {
    "scrolled": false
   },
   "outputs": [],
   "source": [
    "article = title_to_article['Zuko']"
   ]
  },
  {
   "cell_type": "code",
   "execution_count": 146,
   "metadata": {
    "scrolled": false
   },
   "outputs": [],
   "source": [
    "def de_wiki(text):\n",
    "    patterns_to_remove = [\n",
    "        r'\\<ref.*?\\</ref\\>', \n",
    "        r'{{[^{]+?}}',  # Some of these do contain content, e.g. {{c.|lk=no|1100}} and {{nihongo|'''Prince Zuko'''|祖寇|Zǔ Kòu}}\n",
    "        r'{{[^{]+?}}',  # HACK: Repeat pattern for nested versions that sometimes appear.\n",
    "        r'{{[^{]+?}}',\n",
    "        r'\\[\\[File:.+?(?=\\n)',\n",
    "        r'={2,5}((See also)|(Notes)|(Sources)|(References))={2,5}.*'\n",
    "    ]\n",
    "    \n",
    "    for pattern in patterns_to_remove:\n",
    "        text = re.sub(pattern, '', text, flags=(re.MULTILINE | re.DOTALL))\n",
    "    \n",
    "    patterns_to_sub = [\n",
    "        (r'\\[\\[([^|]+?)\\]\\]', r'\\1'),\n",
    "        (r'\\[\\[(.+?)\\|(.+?)\\]\\]', r'\\2'), \n",
    "        (r\"'''(.+?)'''\", r'\\1'),\n",
    "        (r\"''(.+?)''\", r\"\\1\"),\n",
    "        (r\"<nowiki>(.+?)</nowiki>\", r\"\\1\"), \n",
    "        (r'\\n+', r'\\n\\n')\n",
    "    ]\n",
    "    \n",
    "    for pattern, replacement in patterns_to_sub:\n",
    "        text = re.sub(pattern, replacement, text)\n",
    "        \n",
    "    return text.strip()\n",
    "                   \n",
    "\n",
    "article_2 = de_wiki(article)"
   ]
  },
  {
   "cell_type": "code",
   "execution_count": 168,
   "metadata": {
    "collapsed": true
   },
   "outputs": [
    {
     "name": "stdout",
     "output_type": "stream",
     "text": [
      "is a fictional character in Nickelodeon's animated television series Avatar: The Last Airbender. Created by Michael Dante DiMartino and Bryan Konietzko, the character is voiced by Dante Basco and is portrayed by Dev Patel in M. Night Shyamalan's 2010 film The Last Airbender.\n",
      "\n",
      "Zuko is the Fire Prince of the Fire Nation and an incredibly powerful Firebender, meaning he has the elemental ability to create and control fire and to redirect lightning through martial arts. He is the eldest child of Fire Lord Ozai and Princess Ursa, the older brother of Princess Azula and older half-brother of Kiyi. Before the events of the series, Zuko is exiled from the Fire Nation by his father and told he must capture the Avatar to restore his honor and right to the throne. Zuko is accompanied and advised in his search by his uncle, Iroh. Over time, Zuko sympathizes with oppressed peoples, and joins the Avatar to restore peace. Zuko has two well known great-grandfathers: on his father's side, Fire Lord Sozin, who started the hundred-year-war, and on his mother's side Avatar Roku, the Avatar preceding Aang.\n",
      "\n",
      "In \"The Deserter\", Zuko's name was listed on a Fire Nation wanted poster as \"祖寇\" (zǔ kòu).  In \"Tales of Ba Sing Se\", his name was written as \"蘇科\" (sū kè) on his segment's title card. \n",
      "\n",
      "==Character overview==\n",
      "\n",
      "Zuko lives in a fantasy world where a large fraction of the human population can manipulate any one of the four classical elements: water, earth, fire, or air. The art of controlling and manipulating an element is called \"bending\" within the narrative. A few years before the events of the series, Fire Prince Zuko voiced opposition to a general's suggestion that the Fire Nation soldiers be sacrificed in their nation's battle with the Earth Kingdom. Fire Lord Ozai, Zuko's father, ordered Zuko to submit to an Agni Kai, a ritual duel fought with fire bending, to teach him respect. Zuko accepted the challenge believing that he would fight the general who proposed the plan, but instead he faced Ozai. When Zuko refused to fight his father, the Fire Lord scarred him over his left eye and sent him into exile. Zuko's uncle, the decorated general Iroh, decided to join him as a companion and tutor.\n",
      "\n",
      "==Creation and conception==\n",
      "\n",
      "===Design===\n",
      "\n",
      "Zuko is a handsome young man with pale skin, golden eyes, and black hair. The majority of the left side of his face is taken up by a distinctive scar he received from a disastrous Agni Kai against his father Ozai. In Book One, Zuko has a shaved head with a ponytail. In Book Two, he cuts off his ponytail in the season premiere and allows his hair to grow back. He obtains a topknot in Book Three, but is usually seen without it outside the royal palace. Zuko has a muscular physique in Book One but becomes thinner as the series progresses before regaining weight in Book Three. In Legend of Korra, the elderly Zuko sports a lengthy beard and long white hair, much like his Avatar great-grandfather Roku. He is still quite fit and powerful despite being in his early nineties (by the time of Book 4).\n",
      "\n",
      "===Voice===\n",
      "\n",
      "Dante Basco voices Zuko in The Last Airbender as a Teenager while Elijah Runcorn voices him as a child and Dev Patel in the video game adaptation of the movie. Bruce Davison voices Zuko in The Legend of Korra as Fire Lord of the Fire Nation, now in his 80's.\n",
      "\n",
      "===Personality and characteristics===\n",
      "\n",
      "Due to his banishment, he is hot-tempered, impatient and at times also depressive. He is shown to be caring and thoughtful, though his judgement was heavily clouded by his jealousy towards Azula. He has a close bond with his mother Ursa and his Uncle Iroh. He strives to regain honor and attention in his father's eyes by trying to capture the Avatar in his name. But after returning to the Fire Nation from his years of banishment, he realized his father's ill feelings towards him couldn't be fixed even by capturing the Avatar. Zuko decided that trying to regain honour, as a substitute for love, was worthless and a waste of time. He displayed aggression towards Aang when training him in fire-bending, because of the fact that it was imperitive Aang learn it before Sozin's Comet arrived at the end of the summer, though he was still being caring. He is shown to have a sarcastic side on several occasions. Due to his scar, he also has an inferiority complex about his appearance, stating angrily that: \"Normal teenagers worry about bad skin! I don't have that luxury! My father decided to teach me a permanent lesson -- on my face!\"\n",
      "\n",
      "==Appearance==\n",
      "\n",
      "===Avatar: The Last Airbender===\n",
      "\n",
      "====Book One: Water====\n",
      "\n",
      "At the beginning of the series, Zuko is introduced as the main antagonist who is searching for Aang in hopes of reclaiming his honor. Throughout the season he is hot on the Avatar's trail, at times both helped and hindered by Iroh. Zuko competes in his quest against Zhao, an ambitious Fire Nation admiral. In The Blue Spirit, Zuko rescues Aang from Zhao's fortress to prevent Zhao from accomplishing his goal. Zhao arranges an assassination plot against Zuko, but Zuko escapes with Iroh's help. During the invasion of the Northern Water Tribe, Zuko captures Aang, but both are nearly killed in a snowstorm. Aang then saves Zuko from dying of hypothermia. Zuko encounters Zhao and attacks in an act of revenge, but the Ocean Spirit abducts Zhao before the fight is concluded. Zuko attempts to save Zhao from the Ocean Spirit, but Zhao is too proud to accept Zuko's help. Ozai thereafter assigns Zuko's younger sister Azula to seize Zuko and Iroh due to Zuko's failure to capture Aang and Iroh's betrayal during the siege.\n",
      "\n",
      "====Book Two: Earth====\n",
      "\n",
      "Pursued by Azula, sixteen-year-old Zuko and Iroh travel the Earth Kingdom as impoverished refugees. After briefly quarreling with and parting ways with Iroh, Zuko reunites with his uncle against Azula. When Azula wounds Iroh with a bolt of lightning, Zuko nurses Iroh back to health and Iroh teaches Zuko to redirect lightning. Zuko and Iroh arrive at the walled city of Ba Sing Se, meeting Jet in the process. Iroh and Zuko find employment at a tea shop in the slums. Jet accuses Zuko and Iroh of being firebenders, but is arrested after he attacks Zuko. Zuko reluctantly adapts to his new life until he learns of Aang's presence in Ba Sing Se and attempts to steal Appa. However, Iroh convinces Zuko to abandon his quest and let Appa go. Azula infiltrates the city to stage a coup and arranges a trap for Zuko and Iroh. Captured and placed in Crystal Catacombs, Zuko encounters Katara, and both are rescued by Aang. Although Zuko and Katara share a brief moment of compassion, Azula convinces Zuko to betray Iroh and the Avatar. In the resulting fight, Aang is wounded and Iroh is arrested.\n",
      "\n",
      "====Book Three: Fire====\n",
      "\n",
      "Returning to his country a hero, Zuko learns that Azula lied and told Fire Lord Ozai that Zuko killed the Avatar. Zuko suspects that Aang survived and hires an assassin to ensure Aang's death to cover up Azula's lie. Iroh is imprisoned, but manages to lead Zuko to learn that his maternal great-grandfather was Avatar Roku, Aang's previous incarnation. Prior to the Day of Black Sun, Zuko inadvertently catalyzes his father's plan to destroy the Earth Kingdom with Sozin's Comet. Zuko becomes guilty over betraying Iroh and contributing to a second genocide, leading him to confront Ozai during the eclipse. Zuko openly berates his father and states his intention to help Aang. Although they initially reject him, Aang and his companions grow to accept Zuko as a member of the group after he proves his allegiance by helping defeat the assassin and journeys with Aang to meet the last dragons.\n",
      "\n",
      "After helping Sokka free Suki and Hakoda from the Boiling Rock prison, Zuko amends with Katara by locating her mother's killer. When Aang disappears shortly before Sozin's Comet, Zuko leads the effort to track down the Avatar which leads him to Iroh. Zuko tearfully apologizes to Iroh, who forgives him for his mistakes. Iroh suggests that Zuko become the next Fire Lord, citing Zuko's \"unquestionable honor\". Arriving at the Fire Nation capital with Katara, Zuko duels Azula for the throne. When Azula faces defeat she forces Zuko to place himself in the path of a lighting bolt aimed at Katara, which leaves him wounded and immobile. Katara defeats Azula and heals Zuko. After Aang wins the war, Zuko becomes the new Fire Lord, promising world order and harmony with the aid of the Avatar.\n",
      "\n",
      "===Graphic Novel Trilogies===\n",
      "\n",
      "====Avatar: The Promise====\n",
      "\n",
      "Following Zuko's crown ceremony, seventeen year-old Zuko asks Aang to promise to kill him if he ever becomes like his father. Aang reluctantly agrees. One year later, Zuko is working with the other nations to return captured colonial lands to the Earth Kingdom as part of the Harmony Restoration Movement. Kori Morishita attempts to assassinate Zuko in retaliation for forcibly relocating the multicultural residents of the Fire Nation colonies. Zuko travels to Kori's hometown, Yu Dao, where he meets people of Fire Nation and Earth Kingdom ancestry living and working together. Zuko becomes conflicted and consults with the imprisoned Ozai, who advises Zuko that whatever decision he makes is inherently the correct choice because he exercises the power of the Fire Lord. Zuko decides to break from the Harmony Restoration Movement. The Earth King responds with a military force of his own and Zuko is forced to lead troops to Yu Dao to protect the Fire Nation civilians. In the battle, Aang and Zuko clash. However, Katara convinces the Earth King that the colonies are neither Fire Nation nor Earth Kingdom, but rather a multicultural people. Peace is restored, and Zuko realizes that forcing Aang to make the promise was a way of distancing himself from his responsibilities as Fire Lord. He releases Aang from the promise, and the two reestablish their friendship and trust.\n",
      "\n",
      "====Avatar: The Search====\n",
      "\n",
      "In the sequel to the first comic book adaptation of the cartoon series, The Search, Zuko sets his younger sister Azula—now sixteen—with his father Ozai to discuss finding his long-lost mother Ursa. It is later revealed that Azula has access to letters written by Ursa to Ikem (a possible paramour), hidden away by Ozai. It is also revealed that Azula wishes to kill Ursa. Later, Zuko finds a note Azula concealed, saying that Ursa wanted to return to her hometown but refrained to protect Zuko. Ozai lied to Ursa and told her he had Ikem killed. In order to save Zuko's life, Ursa made Ozai a toxic potion he could use on his father Azulon and become Fire Lord. After her banishment, Ursa returned to her hometown and found Ikem still alive but with a new face and name given to him by a spirit to protect himself. Ursa is granted a new face as well, but chooses to have her memories of her children erased because she cannot bear the pain of having been separated from them. She then marries Ikem with her new identity and they have a daughter together. Azula tracks their mother down and almost kills her but is stopped by Zuko. Without her memories, Ursa apologizes for not loving her enough and abandoning her if she really is Azula's mother. Azula's mind is still broken and she runs off into the forest, rejecting Zuko's offer to help. Ursa has her old face and memories restored and also apologizes to Zuko, who does not blame her. In the following comic story arc, The Rift, Iroh mentions Ursa and her new family are visiting the Fire Nation capital with Zuko's support.\n",
      "\n",
      "====Avatar: Smoke and Shadow====\n",
      "\n",
      "Zuko will be escorted back home to the Fire Nation's capital by Team Avatar to assist his mother, Ursa, and her new family adjust to royal life. Unfortunately, an ancient prophecy is foretold that Zuko must be dethroned immediately or annihilation will befall the country. Also, he must deal with the deadly New Ozai Society that threatens both his life and rulership, as well as his ex-sweetheart Mai.\n",
      "\n",
      "===Avatar: The Legend of Korra===\n",
      "\n",
      "====Book One: Air====\n",
      "\n",
      "In The Legend of Korra , now eighty-seven years old, Lord Zuko had aided the late Avatar Aang in the creation of the \"United Republic of Nations\" after the Hundred Year War. The creators of the series revealed by the time of the series, he has abdicated his position as Fire Lord in favor of his daughter, Izumi, and travels the world, usually on his dragon Druk, as an ambassador for peace. He is memorialized by a statue at Republic City's Central City Station. His grandson Iroh (also voiced by Dante Basco) serves as a general of the United Forces alongside Aang's eldest son, Bumi.\n",
      "\n",
      "====Book Three: Change====\n",
      "\n",
      "Making his debut in Book Three: Change, Zuko is revealed to have been working with the Order of the White Lotus to keep major threats in check while Korra was still in training. Most notably, he worked alongside Sokka, Tenzin (Aang's younger son), and Korra's father Tonraq to thwart an attempt by the criminal Zaheer and his Red Lotus followers to kidnap Korra when she was a child. Fourteen years later, Zuko learnt of Zaheer's new air bending skills and subsequent escape. He enlists Korra's father Tonraq and her cousins, Desna and Eska, to keep the last of Zaheer's allies from being freed, but their efforts were unsuccessful. When Zaheer fatally suffocated Earth Queen Hou-Ting and gave an ultimatum to Korra, Zuko immediately returned to the Fire Nation, fearing the anarchists would target his daughter. Zuko briefly councils Korra regarding the situation before he departs, and is surprised to learn that the Avatar has spoken to his long-deceased uncle in the Spirit World. When Zaheer is defeated in the season finale, Zuko attends Jinora's ceremony as airbending master, and expresses concerns about the lingering threat of the Red Lotus.\n",
      "\n",
      "====Book Four: Balance====\n",
      "\n",
      "Zuko makes a final non-speaking appearance in Book Four: Balance, attending the coronation of Prince Wu with his daughter, Izumi, and the other world leaders.\n",
      "\n",
      "==Firebending and special skills==\n",
      "\n",
      "Despite his youth, he has shown great agility and strength. His chief education in this is derived from his uncle Iroh; flashbacks reveal that Zuko's skills were subpar as a preteen, but that they improved dramatically under Iroh's tutelage. He is twice shown to be a match in combat to his sister Azula, although he lacks the emotional discipline to generate lightning. He is depicted throughout the series as both powerful and skillful in both martial and aesthetic applications of firebending.\n",
      "\n",
      "===Firebending===\n",
      "\n",
      "Zuko is highly skilled in Firebending which utilizes chinese martial arts techniques of Changquan, Shaolinquan, Lóng Xíng Mó Qiáo and Xing Yi Quan. Firebending represents the element of power, and is categorized as the most aggressive of the \"four bending arts\". Firebending involves \"external styles\" that prioritize one's legwork (as opposed to the arms) and emphasizes \"kicking over hand fighting\"; the highly technical kicking strikes are meant to \"extend as far as possible\" without compromising balance. This is intended to sacrifice defense for optimized preemptive strikes and attrition warfare. Zuko's interpretation of firebending uses long, aggressive techniques that explode and drive through the opponent; quick, successive attacks that utilize momentary bursts of extreme \"explosive\" power; with fundamentally strong movements' and the usage of swift, direct maneuvers.\n",
      "\n",
      "===Other skills===\n",
      "\n",
      "Zuko is skilled in \"Dao duel-wielding\", as in the episode \"The Blue Spirit\" wherein he withstands a large number of adversaries. In \"Avatar: The Lost Adventures\", it was revealed that he studied under Master Piandao, his uncle's colleague and Sokka's master sword fighting instructor. Zuko has also demonstrated an ability in stealth and unarmed combat, as when able to infiltrate a Fire Nation fortress, the Northern Water Tribe's city, and the Dai Li's base in the Earth Kingdom without detection.<!-- Please do not add additional skills without mentioning it in the talk page, or else it will be deleted. --> His proficiency at stealth was also utilized during the episode \"The Southern Raiders\" in which he and Katara stalked and cornered the former commander of the eponymous Raiders in his home village without revealing themselves. Avatar Extras revealed he has abnormal hearing and that he is also naturally gifted at playing the Tsungi horn (though he is never heard playing).\n",
      "\n",
      "== Reception ==\n",
      "\n",
      "Zuko's character reception has been overwhelmingly positive from critics and fans alike. Tory Ireland Mell of IGN thought it was \"painful\" to watch Zuko try to win the trust of Team Avatar as he was \"completely vulnerable, and no one cared.\" Mell found his reunion with Iroh to be \"heartwarming\". Zuko was listed by Paste Magazine as the best character from the Avatar universe, with writer Zach Blumenfeld noting his complex transformation and redemption story over the course of the series.\n"
     ]
    }
   ],
   "source": [
    "print(de_wiki(article))"
   ]
  },
  {
   "cell_type": "code",
   "execution_count": null,
   "metadata": {},
   "outputs": [],
   "source": []
  },
  {
   "cell_type": "code",
   "execution_count": 171,
   "metadata": {
    "scrolled": false
   },
   "outputs": [
    {
     "name": "stdout",
     "output_type": "stream",
     "text": [
      "is a fictional character in Nickelodeon's animated television series Avatar: The Last Airbender. Created by Michael Dante DiMartino and Bryan Konietzko, the character is voiced by Dante Basco and is portrayed by Dev Patel in M. Night Shyamalan's 2010 film The Last Airbender.\n",
      "-------------\n",
      "Zuko is the Fire Prince of the Fire Nation and an incredibly powerful Firebender, meaning he has the elemental ability to create and control fire and to redirect lightning through martial arts. He is the eldest child of Fire Lord Ozai and Princess Ursa, the older brother of Princess Azula and older half-brother of Kiyi. Before the events of the series, Zuko is exiled from the Fire Nation by his father and told he must capture the Avatar to restore his honor and right to the throne. Zuko is accompanied and advised in his search by his uncle, Iroh. Over time, Zuko sympathizes with oppressed peoples, and joins the Avatar to restore peace. Zuko has two well known great-grandfathers: on his father's side, Fire Lord Sozin, who started the hundred-year-war, and on his mother's side Avatar Roku, the Avatar preceding Aang.\n",
      "-------------\n",
      "In \"The Deserter\", Zuko's name was listed on a Fire Nation wanted poster as \"祖寇\" (zǔ kòu).  In \"Tales of Ba Sing Se\", his name was written as \"蘇科\" (sū kè) on his segment's title card.\n",
      "-------------\n",
      "Zuko lives in a fantasy world where a large fraction of the human population can manipulate any one of the four classical elements: water, earth, fire, or air. The art of controlling and manipulating an element is called \"bending\" within the narrative. A few years before the events of the series, Fire Prince Zuko voiced opposition to a general's suggestion that the Fire Nation soldiers be sacrificed in their nation's battle with the Earth Kingdom. Fire Lord Ozai, Zuko's father, ordered Zuko to submit to an Agni Kai, a ritual duel fought with fire bending, to teach him respect. Zuko accepted the challenge believing that he would fight the general who proposed the plan, but instead he faced Ozai. When Zuko refused to fight his father, the Fire Lord scarred him over his left eye and sent him into exile. Zuko's uncle, the decorated general Iroh, decided to join him as a companion and tutor.\n",
      "-------------\n",
      "Zuko is a handsome young man with pale skin, golden eyes, and black hair. The majority of the left side of his face is taken up by a distinctive scar he received from a disastrous Agni Kai against his father Ozai. In Book One, Zuko has a shaved head with a ponytail. In Book Two, he cuts off his ponytail in the season premiere and allows his hair to grow back. He obtains a topknot in Book Three, but is usually seen without it outside the royal palace. Zuko has a muscular physique in Book One but becomes thinner as the series progresses before regaining weight in Book Three. In Legend of Korra, the elderly Zuko sports a lengthy beard and long white hair, much like his Avatar great-grandfather Roku. He is still quite fit and powerful despite being in his early nineties (by the time of Book 4).\n",
      "-------------\n",
      "Dante Basco voices Zuko in The Last Airbender as a Teenager while Elijah Runcorn voices him as a child and Dev Patel in the video game adaptation of the movie. Bruce Davison voices Zuko in The Legend of Korra as Fire Lord of the Fire Nation, now in his 80's.\n",
      "-------------\n",
      "Due to his banishment, he is hot-tempered, impatient and at times also depressive. He is shown to be caring and thoughtful, though his judgement was heavily clouded by his jealousy towards Azula. He has a close bond with his mother Ursa and his Uncle Iroh. He strives to regain honor and attention in his father's eyes by trying to capture the Avatar in his name. But after returning to the Fire Nation from his years of banishment, he realized his father's ill feelings towards him couldn't be fixed even by capturing the Avatar. Zuko decided that trying to regain honour, as a substitute for love, was worthless and a waste of time. He displayed aggression towards Aang when training him in fire-bending, because of the fact that it was imperitive Aang learn it before Sozin's Comet arrived at the end of the summer, though he was still being caring. He is shown to have a sarcastic side on several occasions. Due to his scar, he also has an inferiority complex about his appearance, stating angrily that: \"Normal teenagers worry about bad skin! I don't have that luxury! My father decided to teach me a permanent lesson -- on my face!\"\n",
      "-------------\n",
      "At the beginning of the series, Zuko is introduced as the main antagonist who is searching for Aang in hopes of reclaiming his honor. Throughout the season he is hot on the Avatar's trail, at times both helped and hindered by Iroh. Zuko competes in his quest against Zhao, an ambitious Fire Nation admiral. In The Blue Spirit, Zuko rescues Aang from Zhao's fortress to prevent Zhao from accomplishing his goal. Zhao arranges an assassination plot against Zuko, but Zuko escapes with Iroh's help. During the invasion of the Northern Water Tribe, Zuko captures Aang, but both are nearly killed in a snowstorm. Aang then saves Zuko from dying of hypothermia. Zuko encounters Zhao and attacks in an act of revenge, but the Ocean Spirit abducts Zhao before the fight is concluded. Zuko attempts to save Zhao from the Ocean Spirit, but Zhao is too proud to accept Zuko's help. Ozai thereafter assigns Zuko's younger sister Azula to seize Zuko and Iroh due to Zuko's failure to capture Aang and Iroh's betrayal during the siege.\n",
      "-------------\n",
      "Pursued by Azula, sixteen-year-old Zuko and Iroh travel the Earth Kingdom as impoverished refugees. After briefly quarreling with and parting ways with Iroh, Zuko reunites with his uncle against Azula. When Azula wounds Iroh with a bolt of lightning, Zuko nurses Iroh back to health and Iroh teaches Zuko to redirect lightning. Zuko and Iroh arrive at the walled city of Ba Sing Se, meeting Jet in the process. Iroh and Zuko find employment at a tea shop in the slums. Jet accuses Zuko and Iroh of being firebenders, but is arrested after he attacks Zuko. Zuko reluctantly adapts to his new life until he learns of Aang's presence in Ba Sing Se and attempts to steal Appa. However, Iroh convinces Zuko to abandon his quest and let Appa go. Azula infiltrates the city to stage a coup and arranges a trap for Zuko and Iroh. Captured and placed in Crystal Catacombs, Zuko encounters Katara, and both are rescued by Aang. Although Zuko and Katara share a brief moment of compassion, Azula convinces Zuko to betray Iroh and the Avatar. In the resulting fight, Aang is wounded and Iroh is arrested.\n",
      "-------------\n",
      "Returning to his country a hero, Zuko learns that Azula lied and told Fire Lord Ozai that Zuko killed the Avatar. Zuko suspects that Aang survived and hires an assassin to ensure Aang's death to cover up Azula's lie. Iroh is imprisoned, but manages to lead Zuko to learn that his maternal great-grandfather was Avatar Roku, Aang's previous incarnation. Prior to the Day of Black Sun, Zuko inadvertently catalyzes his father's plan to destroy the Earth Kingdom with Sozin's Comet. Zuko becomes guilty over betraying Iroh and contributing to a second genocide, leading him to confront Ozai during the eclipse. Zuko openly berates his father and states his intention to help Aang. Although they initially reject him, Aang and his companions grow to accept Zuko as a member of the group after he proves his allegiance by helping defeat the assassin and journeys with Aang to meet the last dragons.\n",
      "-------------\n",
      "After helping Sokka free Suki and Hakoda from the Boiling Rock prison, Zuko amends with Katara by locating her mother's killer. When Aang disappears shortly before Sozin's Comet, Zuko leads the effort to track down the Avatar which leads him to Iroh. Zuko tearfully apologizes to Iroh, who forgives him for his mistakes. Iroh suggests that Zuko become the next Fire Lord, citing Zuko's \"unquestionable honor\". Arriving at the Fire Nation capital with Katara, Zuko duels Azula for the throne. When Azula faces defeat she forces Zuko to place himself in the path of a lighting bolt aimed at Katara, which leaves him wounded and immobile. Katara defeats Azula and heals Zuko. After Aang wins the war, Zuko becomes the new Fire Lord, promising world order and harmony with the aid of the Avatar.\n",
      "-------------\n",
      "Following Zuko's crown ceremony, seventeen year-old Zuko asks Aang to promise to kill him if he ever becomes like his father. Aang reluctantly agrees. One year later, Zuko is working with the other nations to return captured colonial lands to the Earth Kingdom as part of the Harmony Restoration Movement. Kori Morishita attempts to assassinate Zuko in retaliation for forcibly relocating the multicultural residents of the Fire Nation colonies. Zuko travels to Kori's hometown, Yu Dao, where he meets people of Fire Nation and Earth Kingdom ancestry living and working together. Zuko becomes conflicted and consults with the imprisoned Ozai, who advises Zuko that whatever decision he makes is inherently the correct choice because he exercises the power of the Fire Lord. Zuko decides to break from the Harmony Restoration Movement. The Earth King responds with a military force of his own and Zuko is forced to lead troops to Yu Dao to protect the Fire Nation civilians. In the battle, Aang and Zuko clash. However, Katara convinces the Earth King that the colonies are neither Fire Nation nor Earth Kingdom, but rather a multicultural people. Peace is restored, and Zuko realizes that forcing Aang to make the promise was a way of distancing himself from his responsibilities as Fire Lord. He releases Aang from the promise, and the two reestablish their friendship and trust.\n",
      "-------------\n",
      "In the sequel to the first comic book adaptation of the cartoon series, The Search, Zuko sets his younger sister Azula—now sixteen—with his father Ozai to discuss finding his long-lost mother Ursa. It is later revealed that Azula has access to letters written by Ursa to Ikem (a possible paramour), hidden away by Ozai. It is also revealed that Azula wishes to kill Ursa. Later, Zuko finds a note Azula concealed, saying that Ursa wanted to return to her hometown but refrained to protect Zuko. Ozai lied to Ursa and told her he had Ikem killed. In order to save Zuko's life, Ursa made Ozai a toxic potion he could use on his father Azulon and become Fire Lord. After her banishment, Ursa returned to her hometown and found Ikem still alive but with a new face and name given to him by a spirit to protect himself. Ursa is granted a new face as well, but chooses to have her memories of her children erased because she cannot bear the pain of having been separated from them. She then marries Ikem with her new identity and they have a daughter together. Azula tracks their mother down and almost kills her but is stopped by Zuko. Without her memories, Ursa apologizes for not loving her enough and abandoning her if she really is Azula's mother. Azula's mind is still broken and she runs off into the forest, rejecting Zuko's offer to help. Ursa has her old face and memories restored and also apologizes to Zuko, who does not blame her. In the following comic story arc, The Rift, Iroh mentions Ursa and her new family are visiting the Fire Nation capital with Zuko's support.\n",
      "-------------\n",
      "Zuko will be escorted back home to the Fire Nation's capital by Team Avatar to assist his mother, Ursa, and her new family adjust to royal life. Unfortunately, an ancient prophecy is foretold that Zuko must be dethroned immediately or annihilation will befall the country. Also, he must deal with the deadly New Ozai Society that threatens both his life and rulership, as well as his ex-sweetheart Mai.\n",
      "-------------\n",
      "In The Legend of Korra , now eighty-seven years old, Lord Zuko had aided the late Avatar Aang in the creation of the \"United Republic of Nations\" after the Hundred Year War. The creators of the series revealed by the time of the series, he has abdicated his position as Fire Lord in favor of his daughter, Izumi, and travels the world, usually on his dragon Druk, as an ambassador for peace. He is memorialized by a statue at Republic City's Central City Station. His grandson Iroh (also voiced by Dante Basco) serves as a general of the United Forces alongside Aang's eldest son, Bumi.\n",
      "-------------\n",
      "Making his debut in Book Three: Change, Zuko is revealed to have been working with the Order of the White Lotus to keep major threats in check while Korra was still in training. Most notably, he worked alongside Sokka, Tenzin (Aang's younger son), and Korra's father Tonraq to thwart an attempt by the criminal Zaheer and his Red Lotus followers to kidnap Korra when she was a child. Fourteen years later, Zuko learnt of Zaheer's new air bending skills and subsequent escape. He enlists Korra's father Tonraq and her cousins, Desna and Eska, to keep the last of Zaheer's allies from being freed, but their efforts were unsuccessful. When Zaheer fatally suffocated Earth Queen Hou-Ting and gave an ultimatum to Korra, Zuko immediately returned to the Fire Nation, fearing the anarchists would target his daughter. Zuko briefly councils Korra regarding the situation before he departs, and is surprised to learn that the Avatar has spoken to his long-deceased uncle in the Spirit World. When Zaheer is defeated in the season finale, Zuko attends Jinora's ceremony as airbending master, and expresses concerns about the lingering threat of the Red Lotus.\n",
      "-------------\n",
      "Zuko makes a final non-speaking appearance in Book Four: Balance, attending the coronation of Prince Wu with his daughter, Izumi, and the other world leaders.\n",
      "-------------\n",
      "Despite his youth, he has shown great agility and strength. His chief education in this is derived from his uncle Iroh; flashbacks reveal that Zuko's skills were subpar as a preteen, but that they improved dramatically under Iroh's tutelage. He is twice shown to be a match in combat to his sister Azula, although he lacks the emotional discipline to generate lightning. He is depicted throughout the series as both powerful and skillful in both martial and aesthetic applications of firebending.\n",
      "-------------\n",
      "Zuko is highly skilled in Firebending which utilizes chinese martial arts techniques of Changquan, Shaolinquan, Lóng Xíng Mó Qiáo and Xing Yi Quan. Firebending represents the element of power, and is categorized as the most aggressive of the \"four bending arts\". Firebending involves \"external styles\" that prioritize one's legwork (as opposed to the arms) and emphasizes \"kicking over hand fighting\"; the highly technical kicking strikes are meant to \"extend as far as possible\" without compromising balance. This is intended to sacrifice defense for optimized preemptive strikes and attrition warfare. Zuko's interpretation of firebending uses long, aggressive techniques that explode and drive through the opponent; quick, successive attacks that utilize momentary bursts of extreme \"explosive\" power; with fundamentally strong movements' and the usage of swift, direct maneuvers.\n",
      "-------------\n",
      "Zuko is skilled in \"Dao duel-wielding\", as in the episode \"The Blue Spirit\" wherein he withstands a large number of adversaries. In \"Avatar: The Lost Adventures\", it was revealed that he studied under Master Piandao, his uncle's colleague and Sokka's master sword fighting instructor. Zuko has also demonstrated an ability in stealth and unarmed combat, as when able to infiltrate a Fire Nation fortress, the Northern Water Tribe's city, and the Dai Li's base in the Earth Kingdom without detection.<!-- Please do not add additional skills without mentioning it in the talk page, or else it will be deleted. --> His proficiency at stealth was also utilized during the episode \"The Southern Raiders\" in which he and Katara stalked and cornered the former commander of the eponymous Raiders in his home village without revealing themselves. Avatar Extras revealed he has abnormal hearing and that he is also naturally gifted at playing the Tsungi horn (though he is never heard playing).\n",
      "-------------\n",
      "Zuko's character reception has been overwhelmingly positive from critics and fans alike. Tory Ireland Mell of IGN thought it was \"painful\" to watch Zuko try to win the trust of Team Avatar as he was \"completely vulnerable, and no one cared.\" Mell found his reunion with Iroh to be \"heartwarming\". Zuko was listed by Paste Magazine as the best character from the Avatar universe, with writer Zach Blumenfeld noting his complex transformation and redemption story over the course of the series.\n",
      "-------------\n"
     ]
    }
   ],
   "source": [
    "text = de_wiki(article)\n",
    "\n",
    "def get_paragraphs(text):\n",
    "    text = re.sub(r'==.+==', '', text)\n",
    "    paragraphs = [p.strip() for p in text.split('\\n')]\n",
    "    return [p for p in paragraphs if p]\n",
    "\n",
    "\n",
    "# def get_paragraphs(text, sections_):\n",
    "    \n",
    "    \n",
    "\n",
    "for p in get_paragraphs(text):\n",
    "    print(p)\n",
    "    print('-------------')"
   ]
  },
  {
   "cell_type": "code",
   "execution_count": 78,
   "metadata": {},
   "outputs": [],
   "source": [
    "import spacy\n",
    "nlp = spacy.load('en_core_web_lg')\n",
    "# Due to a bug, this language model doesn't contain\n",
    "# stop words, so we fix that here.\n",
    "for word in nlp.Defaults.stop_words:\n",
    "    lex = nlp.vocab[word]\n",
    "    lex.is_stop = True"
   ]
  },
  {
   "cell_type": "code",
   "execution_count": 120,
   "metadata": {
    "scrolled": false
   },
   "outputs": [],
   "source": [
    "from spacy import displacy\n",
    "def show_parse(sentence):\n",
    "    parsed = nlp(sentence)\n",
    "#     for token in parsed:\n",
    "#         print(token.text, token.dep_)\n",
    "    \n",
    "    style = 'dep'\n",
    "    svg = displacy.render(parsed, style='dep')\n",
    "    with open('sentence.svg', 'w') as f:\n",
    "        f.write(svg)\n",
    "\n",
    "    displacy.render(parsed, style='dep', jupyter=True)\n",
    "    \n",
    "    return parsed\n",
    "\n",
    "doc = nlp(article_2)"
   ]
  },
  {
   "cell_type": "code",
   "execution_count": 172,
   "metadata": {},
   "outputs": [
    {
     "data": {
      "text/html": [
       "<svg xmlns=\"http://www.w3.org/2000/svg\" xmlns:xlink=\"http://www.w3.org/1999/xlink\" id=\"0\" class=\"displacy\" width=\"575\" height=\"224.5\" style=\"max-width: none; height: 224.5px; color: #000000; background: #ffffff; font-family: Arial\">\n",
       "<text class=\"displacy-token\" fill=\"currentColor\" text-anchor=\"middle\" y=\"134.5\">\n",
       "    <tspan class=\"displacy-word\" fill=\"currentColor\" x=\"50\">He</tspan>\n",
       "    <tspan class=\"displacy-tag\" dy=\"2em\" fill=\"currentColor\" x=\"50\">PRON</tspan>\n",
       "</text>\n",
       "\n",
       "<text class=\"displacy-token\" fill=\"currentColor\" text-anchor=\"middle\" y=\"134.5\">\n",
       "    <tspan class=\"displacy-word\" fill=\"currentColor\" x=\"225\">did</tspan>\n",
       "    <tspan class=\"displacy-tag\" dy=\"2em\" fill=\"currentColor\" x=\"225\">VERB</tspan>\n",
       "</text>\n",
       "\n",
       "<text class=\"displacy-token\" fill=\"currentColor\" text-anchor=\"middle\" y=\"134.5\">\n",
       "    <tspan class=\"displacy-word\" fill=\"currentColor\" x=\"400\">it</tspan>\n",
       "    <tspan class=\"displacy-tag\" dy=\"2em\" fill=\"currentColor\" x=\"400\">PRON</tspan>\n",
       "</text>\n",
       "\n",
       "<g class=\"displacy-arrow\">\n",
       "    <path class=\"displacy-arc\" id=\"arrow-0-0\" stroke-width=\"2px\" d=\"M70,89.5 C70,2.0 225.0,2.0 225.0,89.5\" fill=\"none\" stroke=\"currentColor\"/>\n",
       "    <text dy=\"1.25em\" style=\"font-size: 0.8em; letter-spacing: 1px\">\n",
       "        <textPath xlink:href=\"#arrow-0-0\" class=\"displacy-label\" startOffset=\"50%\" fill=\"currentColor\" text-anchor=\"middle\">nsubj</textPath>\n",
       "    </text>\n",
       "    <path class=\"displacy-arrowhead\" d=\"M70,91.5 L62,79.5 78,79.5\" fill=\"currentColor\"/>\n",
       "</g>\n",
       "\n",
       "<g class=\"displacy-arrow\">\n",
       "    <path class=\"displacy-arc\" id=\"arrow-0-1\" stroke-width=\"2px\" d=\"M245,89.5 C245,2.0 400.0,2.0 400.0,89.5\" fill=\"none\" stroke=\"currentColor\"/>\n",
       "    <text dy=\"1.25em\" style=\"font-size: 0.8em; letter-spacing: 1px\">\n",
       "        <textPath xlink:href=\"#arrow-0-1\" class=\"displacy-label\" startOffset=\"50%\" fill=\"currentColor\" text-anchor=\"middle\">dobj</textPath>\n",
       "    </text>\n",
       "    <path class=\"displacy-arrowhead\" d=\"M400.0,91.5 L408.0,79.5 392.0,79.5\" fill=\"currentColor\"/>\n",
       "</g>\n",
       "</svg>"
      ],
      "text/plain": [
       "<IPython.core.display.HTML object>"
      ]
     },
     "metadata": {},
     "output_type": "display_data"
    },
    {
     "data": {
      "text/plain": [
       "He did it"
      ]
     },
     "execution_count": 172,
     "metadata": {},
     "output_type": "execute_result"
    }
   ],
   "source": [
    "show_parse('He did it')"
   ]
  },
  {
   "cell_type": "code",
   "execution_count": 128,
   "metadata": {},
   "outputs": [
    {
     "data": {
      "text/html": [
       "<svg xmlns=\"http://www.w3.org/2000/svg\" xmlns:xlink=\"http://www.w3.org/1999/xlink\" id=\"0\" class=\"displacy\" width=\"2850\" height=\"837.0\" style=\"max-width: none; height: 837.0px; color: #000000; background: #ffffff; font-family: Arial\">\n",
       "<text class=\"displacy-token\" fill=\"currentColor\" text-anchor=\"middle\" y=\"747.0\">\n",
       "    <tspan class=\"displacy-word\" fill=\"currentColor\" x=\"50\">A</tspan>\n",
       "    <tspan class=\"displacy-tag\" dy=\"2em\" fill=\"currentColor\" x=\"50\">DET</tspan>\n",
       "</text>\n",
       "\n",
       "<text class=\"displacy-token\" fill=\"currentColor\" text-anchor=\"middle\" y=\"747.0\">\n",
       "    <tspan class=\"displacy-word\" fill=\"currentColor\" x=\"225\">self-</tspan>\n",
       "    <tspan class=\"displacy-tag\" dy=\"2em\" fill=\"currentColor\" x=\"225\">NOUN</tspan>\n",
       "</text>\n",
       "\n",
       "<text class=\"displacy-token\" fill=\"currentColor\" text-anchor=\"middle\" y=\"747.0\">\n",
       "    <tspan class=\"displacy-word\" fill=\"currentColor\" x=\"400\">described</tspan>\n",
       "    <tspan class=\"displacy-tag\" dy=\"2em\" fill=\"currentColor\" x=\"400\">VERB</tspan>\n",
       "</text>\n",
       "\n",
       "<text class=\"displacy-token\" fill=\"currentColor\" text-anchor=\"middle\" y=\"747.0\">\n",
       "    <tspan class=\"displacy-word\" fill=\"currentColor\" x=\"575\">mad</tspan>\n",
       "    <tspan class=\"displacy-tag\" dy=\"2em\" fill=\"currentColor\" x=\"575\">ADJ</tspan>\n",
       "</text>\n",
       "\n",
       "<text class=\"displacy-token\" fill=\"currentColor\" text-anchor=\"middle\" y=\"747.0\">\n",
       "    <tspan class=\"displacy-word\" fill=\"currentColor\" x=\"750\">scientist,</tspan>\n",
       "    <tspan class=\"displacy-tag\" dy=\"2em\" fill=\"currentColor\" x=\"750\">NOUN</tspan>\n",
       "</text>\n",
       "\n",
       "<text class=\"displacy-token\" fill=\"currentColor\" text-anchor=\"middle\" y=\"747.0\">\n",
       "    <tspan class=\"displacy-word\" fill=\"currentColor\" x=\"925\">the</tspan>\n",
       "    <tspan class=\"displacy-tag\" dy=\"2em\" fill=\"currentColor\" x=\"925\">DET</tspan>\n",
       "</text>\n",
       "\n",
       "<text class=\"displacy-token\" fill=\"currentColor\" text-anchor=\"middle\" y=\"747.0\">\n",
       "    <tspan class=\"displacy-word\" fill=\"currentColor\" x=\"1100\">Professor</tspan>\n",
       "    <tspan class=\"displacy-tag\" dy=\"2em\" fill=\"currentColor\" x=\"1100\">PROPN</tspan>\n",
       "</text>\n",
       "\n",
       "<text class=\"displacy-token\" fill=\"currentColor\" text-anchor=\"middle\" y=\"747.0\">\n",
       "    <tspan class=\"displacy-word\" fill=\"currentColor\" x=\"1275\">is</tspan>\n",
       "    <tspan class=\"displacy-tag\" dy=\"2em\" fill=\"currentColor\" x=\"1275\">VERB</tspan>\n",
       "</text>\n",
       "\n",
       "<text class=\"displacy-token\" fill=\"currentColor\" text-anchor=\"middle\" y=\"747.0\">\n",
       "    <tspan class=\"displacy-word\" fill=\"currentColor\" x=\"1450\">a</tspan>\n",
       "    <tspan class=\"displacy-tag\" dy=\"2em\" fill=\"currentColor\" x=\"1450\">DET</tspan>\n",
       "</text>\n",
       "\n",
       "<text class=\"displacy-token\" fill=\"currentColor\" text-anchor=\"middle\" y=\"747.0\">\n",
       "    <tspan class=\"displacy-word\" fill=\"currentColor\" x=\"1625\">senile,</tspan>\n",
       "    <tspan class=\"displacy-tag\" dy=\"2em\" fill=\"currentColor\" x=\"1625\">ADJ</tspan>\n",
       "</text>\n",
       "\n",
       "<text class=\"displacy-token\" fill=\"currentColor\" text-anchor=\"middle\" y=\"747.0\">\n",
       "    <tspan class=\"displacy-word\" fill=\"currentColor\" x=\"1800\">amoral,</tspan>\n",
       "    <tspan class=\"displacy-tag\" dy=\"2em\" fill=\"currentColor\" x=\"1800\">ADJ</tspan>\n",
       "</text>\n",
       "\n",
       "<text class=\"displacy-token\" fill=\"currentColor\" text-anchor=\"middle\" y=\"747.0\">\n",
       "    <tspan class=\"displacy-word\" fill=\"currentColor\" x=\"1975\">deranged,</tspan>\n",
       "    <tspan class=\"displacy-tag\" dy=\"2em\" fill=\"currentColor\" x=\"1975\">ADJ</tspan>\n",
       "</text>\n",
       "\n",
       "<text class=\"displacy-token\" fill=\"currentColor\" text-anchor=\"middle\" y=\"747.0\">\n",
       "    <tspan class=\"displacy-word\" fill=\"currentColor\" x=\"2150\">and</tspan>\n",
       "    <tspan class=\"displacy-tag\" dy=\"2em\" fill=\"currentColor\" x=\"2150\">CCONJ</tspan>\n",
       "</text>\n",
       "\n",
       "<text class=\"displacy-token\" fill=\"currentColor\" text-anchor=\"middle\" y=\"747.0\">\n",
       "    <tspan class=\"displacy-word\" fill=\"currentColor\" x=\"2325\">unpredictable</tspan>\n",
       "    <tspan class=\"displacy-tag\" dy=\"2em\" fill=\"currentColor\" x=\"2325\">ADJ</tspan>\n",
       "</text>\n",
       "\n",
       "<text class=\"displacy-token\" fill=\"currentColor\" text-anchor=\"middle\" y=\"747.0\">\n",
       "    <tspan class=\"displacy-word\" fill=\"currentColor\" x=\"2500\">old</tspan>\n",
       "    <tspan class=\"displacy-tag\" dy=\"2em\" fill=\"currentColor\" x=\"2500\">ADJ</tspan>\n",
       "</text>\n",
       "\n",
       "<text class=\"displacy-token\" fill=\"currentColor\" text-anchor=\"middle\" y=\"747.0\">\n",
       "    <tspan class=\"displacy-word\" fill=\"currentColor\" x=\"2675\">man.</tspan>\n",
       "    <tspan class=\"displacy-tag\" dy=\"2em\" fill=\"currentColor\" x=\"2675\">NOUN</tspan>\n",
       "</text>\n",
       "\n",
       "<g class=\"displacy-arrow\">\n",
       "    <path class=\"displacy-arc\" id=\"arrow-0-0\" stroke-width=\"2px\" d=\"M70,702.0 C70,352.0 730.0,352.0 730.0,702.0\" fill=\"none\" stroke=\"currentColor\"/>\n",
       "    <text dy=\"1.25em\" style=\"font-size: 0.8em; letter-spacing: 1px\">\n",
       "        <textPath xlink:href=\"#arrow-0-0\" class=\"displacy-label\" startOffset=\"50%\" fill=\"currentColor\" text-anchor=\"middle\">det</textPath>\n",
       "    </text>\n",
       "    <path class=\"displacy-arrowhead\" d=\"M70,704.0 L62,692.0 78,692.0\" fill=\"currentColor\"/>\n",
       "</g>\n",
       "\n",
       "<g class=\"displacy-arrow\">\n",
       "    <path class=\"displacy-arc\" id=\"arrow-0-1\" stroke-width=\"2px\" d=\"M245,702.0 C245,614.5 365.0,614.5 365.0,702.0\" fill=\"none\" stroke=\"currentColor\"/>\n",
       "    <text dy=\"1.25em\" style=\"font-size: 0.8em; letter-spacing: 1px\">\n",
       "        <textPath xlink:href=\"#arrow-0-1\" class=\"displacy-label\" startOffset=\"50%\" fill=\"currentColor\" text-anchor=\"middle\">npadvmod</textPath>\n",
       "    </text>\n",
       "    <path class=\"displacy-arrowhead\" d=\"M245,704.0 L237,692.0 253,692.0\" fill=\"currentColor\"/>\n",
       "</g>\n",
       "\n",
       "<g class=\"displacy-arrow\">\n",
       "    <path class=\"displacy-arc\" id=\"arrow-0-2\" stroke-width=\"2px\" d=\"M420,702.0 C420,527.0 720.0,527.0 720.0,702.0\" fill=\"none\" stroke=\"currentColor\"/>\n",
       "    <text dy=\"1.25em\" style=\"font-size: 0.8em; letter-spacing: 1px\">\n",
       "        <textPath xlink:href=\"#arrow-0-2\" class=\"displacy-label\" startOffset=\"50%\" fill=\"currentColor\" text-anchor=\"middle\">amod</textPath>\n",
       "    </text>\n",
       "    <path class=\"displacy-arrowhead\" d=\"M420,704.0 L412,692.0 428,692.0\" fill=\"currentColor\"/>\n",
       "</g>\n",
       "\n",
       "<g class=\"displacy-arrow\">\n",
       "    <path class=\"displacy-arc\" id=\"arrow-0-3\" stroke-width=\"2px\" d=\"M595,702.0 C595,614.5 715.0,614.5 715.0,702.0\" fill=\"none\" stroke=\"currentColor\"/>\n",
       "    <text dy=\"1.25em\" style=\"font-size: 0.8em; letter-spacing: 1px\">\n",
       "        <textPath xlink:href=\"#arrow-0-3\" class=\"displacy-label\" startOffset=\"50%\" fill=\"currentColor\" text-anchor=\"middle\">amod</textPath>\n",
       "    </text>\n",
       "    <path class=\"displacy-arrowhead\" d=\"M595,704.0 L587,692.0 603,692.0\" fill=\"currentColor\"/>\n",
       "</g>\n",
       "\n",
       "<g class=\"displacy-arrow\">\n",
       "    <path class=\"displacy-arc\" id=\"arrow-0-4\" stroke-width=\"2px\" d=\"M770,702.0 C770,439.5 1250.0,439.5 1250.0,702.0\" fill=\"none\" stroke=\"currentColor\"/>\n",
       "    <text dy=\"1.25em\" style=\"font-size: 0.8em; letter-spacing: 1px\">\n",
       "        <textPath xlink:href=\"#arrow-0-4\" class=\"displacy-label\" startOffset=\"50%\" fill=\"currentColor\" text-anchor=\"middle\">nsubj</textPath>\n",
       "    </text>\n",
       "    <path class=\"displacy-arrowhead\" d=\"M770,704.0 L762,692.0 778,692.0\" fill=\"currentColor\"/>\n",
       "</g>\n",
       "\n",
       "<g class=\"displacy-arrow\">\n",
       "    <path class=\"displacy-arc\" id=\"arrow-0-5\" stroke-width=\"2px\" d=\"M945,702.0 C945,614.5 1065.0,614.5 1065.0,702.0\" fill=\"none\" stroke=\"currentColor\"/>\n",
       "    <text dy=\"1.25em\" style=\"font-size: 0.8em; letter-spacing: 1px\">\n",
       "        <textPath xlink:href=\"#arrow-0-5\" class=\"displacy-label\" startOffset=\"50%\" fill=\"currentColor\" text-anchor=\"middle\">det</textPath>\n",
       "    </text>\n",
       "    <path class=\"displacy-arrowhead\" d=\"M945,704.0 L937,692.0 953,692.0\" fill=\"currentColor\"/>\n",
       "</g>\n",
       "\n",
       "<g class=\"displacy-arrow\">\n",
       "    <path class=\"displacy-arc\" id=\"arrow-0-6\" stroke-width=\"2px\" d=\"M1120,702.0 C1120,614.5 1240.0,614.5 1240.0,702.0\" fill=\"none\" stroke=\"currentColor\"/>\n",
       "    <text dy=\"1.25em\" style=\"font-size: 0.8em; letter-spacing: 1px\">\n",
       "        <textPath xlink:href=\"#arrow-0-6\" class=\"displacy-label\" startOffset=\"50%\" fill=\"currentColor\" text-anchor=\"middle\">nsubj</textPath>\n",
       "    </text>\n",
       "    <path class=\"displacy-arrowhead\" d=\"M1120,704.0 L1112,692.0 1128,692.0\" fill=\"currentColor\"/>\n",
       "</g>\n",
       "\n",
       "<g class=\"displacy-arrow\">\n",
       "    <path class=\"displacy-arc\" id=\"arrow-0-7\" stroke-width=\"2px\" d=\"M1470,702.0 C1470,89.5 2670.0,89.5 2670.0,702.0\" fill=\"none\" stroke=\"currentColor\"/>\n",
       "    <text dy=\"1.25em\" style=\"font-size: 0.8em; letter-spacing: 1px\">\n",
       "        <textPath xlink:href=\"#arrow-0-7\" class=\"displacy-label\" startOffset=\"50%\" fill=\"currentColor\" text-anchor=\"middle\">det</textPath>\n",
       "    </text>\n",
       "    <path class=\"displacy-arrowhead\" d=\"M1470,704.0 L1462,692.0 1478,692.0\" fill=\"currentColor\"/>\n",
       "</g>\n",
       "\n",
       "<g class=\"displacy-arrow\">\n",
       "    <path class=\"displacy-arc\" id=\"arrow-0-8\" stroke-width=\"2px\" d=\"M1645,702.0 C1645,177.0 2665.0,177.0 2665.0,702.0\" fill=\"none\" stroke=\"currentColor\"/>\n",
       "    <text dy=\"1.25em\" style=\"font-size: 0.8em; letter-spacing: 1px\">\n",
       "        <textPath xlink:href=\"#arrow-0-8\" class=\"displacy-label\" startOffset=\"50%\" fill=\"currentColor\" text-anchor=\"middle\">amod</textPath>\n",
       "    </text>\n",
       "    <path class=\"displacy-arrowhead\" d=\"M1645,704.0 L1637,692.0 1653,692.0\" fill=\"currentColor\"/>\n",
       "</g>\n",
       "\n",
       "<g class=\"displacy-arrow\">\n",
       "    <path class=\"displacy-arc\" id=\"arrow-0-9\" stroke-width=\"2px\" d=\"M1820,702.0 C1820,264.5 2660.0,264.5 2660.0,702.0\" fill=\"none\" stroke=\"currentColor\"/>\n",
       "    <text dy=\"1.25em\" style=\"font-size: 0.8em; letter-spacing: 1px\">\n",
       "        <textPath xlink:href=\"#arrow-0-9\" class=\"displacy-label\" startOffset=\"50%\" fill=\"currentColor\" text-anchor=\"middle\">amod</textPath>\n",
       "    </text>\n",
       "    <path class=\"displacy-arrowhead\" d=\"M1820,704.0 L1812,692.0 1828,692.0\" fill=\"currentColor\"/>\n",
       "</g>\n",
       "\n",
       "<g class=\"displacy-arrow\">\n",
       "    <path class=\"displacy-arc\" id=\"arrow-0-10\" stroke-width=\"2px\" d=\"M1820,702.0 C1820,614.5 1940.0,614.5 1940.0,702.0\" fill=\"none\" stroke=\"currentColor\"/>\n",
       "    <text dy=\"1.25em\" style=\"font-size: 0.8em; letter-spacing: 1px\">\n",
       "        <textPath xlink:href=\"#arrow-0-10\" class=\"displacy-label\" startOffset=\"50%\" fill=\"currentColor\" text-anchor=\"middle\">conj</textPath>\n",
       "    </text>\n",
       "    <path class=\"displacy-arrowhead\" d=\"M1940.0,704.0 L1948.0,692.0 1932.0,692.0\" fill=\"currentColor\"/>\n",
       "</g>\n",
       "\n",
       "<g class=\"displacy-arrow\">\n",
       "    <path class=\"displacy-arc\" id=\"arrow-0-11\" stroke-width=\"2px\" d=\"M1995,702.0 C1995,614.5 2115.0,614.5 2115.0,702.0\" fill=\"none\" stroke=\"currentColor\"/>\n",
       "    <text dy=\"1.25em\" style=\"font-size: 0.8em; letter-spacing: 1px\">\n",
       "        <textPath xlink:href=\"#arrow-0-11\" class=\"displacy-label\" startOffset=\"50%\" fill=\"currentColor\" text-anchor=\"middle\">cc</textPath>\n",
       "    </text>\n",
       "    <path class=\"displacy-arrowhead\" d=\"M2115.0,704.0 L2123.0,692.0 2107.0,692.0\" fill=\"currentColor\"/>\n",
       "</g>\n",
       "\n",
       "<g class=\"displacy-arrow\">\n",
       "    <path class=\"displacy-arc\" id=\"arrow-0-12\" stroke-width=\"2px\" d=\"M1995,702.0 C1995,527.0 2295.0,527.0 2295.0,702.0\" fill=\"none\" stroke=\"currentColor\"/>\n",
       "    <text dy=\"1.25em\" style=\"font-size: 0.8em; letter-spacing: 1px\">\n",
       "        <textPath xlink:href=\"#arrow-0-12\" class=\"displacy-label\" startOffset=\"50%\" fill=\"currentColor\" text-anchor=\"middle\">conj</textPath>\n",
       "    </text>\n",
       "    <path class=\"displacy-arrowhead\" d=\"M2295.0,704.0 L2303.0,692.0 2287.0,692.0\" fill=\"currentColor\"/>\n",
       "</g>\n",
       "\n",
       "<g class=\"displacy-arrow\">\n",
       "    <path class=\"displacy-arc\" id=\"arrow-0-13\" stroke-width=\"2px\" d=\"M2520,702.0 C2520,614.5 2640.0,614.5 2640.0,702.0\" fill=\"none\" stroke=\"currentColor\"/>\n",
       "    <text dy=\"1.25em\" style=\"font-size: 0.8em; letter-spacing: 1px\">\n",
       "        <textPath xlink:href=\"#arrow-0-13\" class=\"displacy-label\" startOffset=\"50%\" fill=\"currentColor\" text-anchor=\"middle\">amod</textPath>\n",
       "    </text>\n",
       "    <path class=\"displacy-arrowhead\" d=\"M2520,704.0 L2512,692.0 2528,692.0\" fill=\"currentColor\"/>\n",
       "</g>\n",
       "\n",
       "<g class=\"displacy-arrow\">\n",
       "    <path class=\"displacy-arc\" id=\"arrow-0-14\" stroke-width=\"2px\" d=\"M1295,702.0 C1295,2.0 2675.0,2.0 2675.0,702.0\" fill=\"none\" stroke=\"currentColor\"/>\n",
       "    <text dy=\"1.25em\" style=\"font-size: 0.8em; letter-spacing: 1px\">\n",
       "        <textPath xlink:href=\"#arrow-0-14\" class=\"displacy-label\" startOffset=\"50%\" fill=\"currentColor\" text-anchor=\"middle\">attr</textPath>\n",
       "    </text>\n",
       "    <path class=\"displacy-arrowhead\" d=\"M2675.0,704.0 L2683.0,692.0 2667.0,692.0\" fill=\"currentColor\"/>\n",
       "</g>\n",
       "</svg>"
      ],
      "text/plain": [
       "<IPython.core.display.HTML object>"
      ]
     },
     "metadata": {},
     "output_type": "display_data"
    },
    {
     "data": {
      "text/plain": [
       "A self-described mad scientist, the Professor is a senile, amoral, deranged, and unpredictable old man."
      ]
     },
     "execution_count": 128,
     "metadata": {},
     "output_type": "execute_result"
    }
   ],
   "source": [
    "show_parse(\"Approximately 100 years before the series' timeline, he taught a young (not yet Professor) Wernstrom, whom Farnsworth regarded as a prized student. After he returned a pop quiz to Wernstrom with a grade of A-minus (for poor penmanship), the two became bitter rivals.\""
   ]
  },
  {
   "cell_type": "code",
   "execution_count": 109,
   "metadata": {
    "scrolled": false
   },
   "outputs": [],
   "source": [
    "text = \"\"\"A self-described mad scientist, the Professor is a senile, amoral, deranged, and unpredictable old man (160 years old as of \"A Clone of My Own\"), with very thick glasses and a gift for creating doomsday devices and atomic supermen. He has put at least one parallel universe in peril with his inventions and visited dozens more (see The Farnsworth Parabox).\n",
    "\n",
    "The Professor teaches at Mars University and has worked for Momcorp on several occasions, but spends most of his time inventing ridiculous devices and sending the Planet Express delivery crew on suicide missions. While at Momcorp, he fell in love with the CEO, Mom, only to leave her and Momcorp when she decided to weaponize his \"Q.T. McWhiskers\" toy. What he is a professor of is never explicitly stated. In the episode Mars University when asked what he is teaching, he responds: \"The same thing I teach every semester, the mathematics of quantum neutrino fields. I made up the title so no student would dare take it\"; however, this declaration has not precluded the professor from demonstrating mastery of whatever field of science is convenient for a given episode's plot, as shown in Bender's Big Score when he proclaims, \"I can wire anything directly into anything! I am the Professor!\", proceeding to link Hermes' disembodied head to the ship's computer. Approximately 100 years before the series' timeline, he taught a young (not yet Professor) Wernstrom, whom Farnsworth regarded as a prized student. After he returned a pop quiz to Wernstrom with a grade of A-minus (for poor penmanship), the two became bitter rivals (established in \"A Big Piece of Garbage\").\"\"\"\n",
    "\n",
    "article_title = 'Professor Farnsworth'\n",
    "article_title = article_title.lower()\n",
    "\n",
    "relevant_subjects = []\n",
    "doc = nlp(text)\n",
    "for sent in doc.sents:\n",
    "    for token in sent:\n",
    "        if token.dep_ == 'nsubj' and token.text.lower() in article_title:\n",
    "            relevant_subjects.append(token)"
   ]
  },
  {
   "cell_type": "markdown",
   "metadata": {},
   "source": [
    "* You'll need to be able to get the whole noun phrase and replace these with cannonical values.\n",
    "* I'd use the parser to replace proper nouns, because it seems to be more accurate. As a post processings step, you replace all other named entities like companies, places, etc.\n",
    "* For now you'll only use sentences where they're the subject... maybe direct ob.\n",
    "* \"whom, Farnsworth, regarded, as, a, prized, student\" shows the relative clause problem... you can see the gap there."
   ]
  },
  {
   "cell_type": "code",
   "execution_count": 127,
   "metadata": {},
   "outputs": [
    {
     "name": "stdout",
     "output_type": "stream",
     "text": [
      "Head: is\n",
      "   scientist nsubj NOUN\n",
      "   Professor nsubj PROPN\n",
      "   man attr NOUN\n",
      "   . punct PUNCT\n",
      "Head: teaches\n",
      "   Professor nsubj PROPN\n",
      "   at prep ADP\n",
      "   and cc CCONJ\n",
      "   worked conj VERB\n",
      "   . punct PUNCT\n",
      "Head: regarded\n",
      "   whom dobj NOUN\n",
      "   Farnsworth nsubj PROPN\n",
      "   as prep ADP\n"
     ]
    }
   ],
   "source": [
    "for subject in relevant_subjects:\n",
    "    print('Head:', subject.head)\n",
    "    for child in subject.head.children:\n",
    "        print('  ', child, child.dep_, child.pos_)\n"
   ]
  },
  {
   "cell_type": "code",
   "execution_count": 131,
   "metadata": {},
   "outputs": [
    {
     "name": "stdout",
     "output_type": "stream",
     "text": [
      "[A, self, -, described, mad, scientist, ,, the, Professor, is, a, senile, ,, amoral, ,, deranged, ,, and, unpredictable, old, man, (, 160, years, old, as, of, \", A, Clone, of, My, Own, \", ), ,, with, very, thick, glasses, and, a, gift, for, creating, doomsday, devices, and, atomic, supermen, .]\n",
      "[The, Professor, teaches, at, Mars, University, and, has, worked, for, Momcorp, on, several, occasions, ,, but, spends, most, of, his, time, inventing, ridiculous, devices, and, sending, the, Planet, Express, delivery, crew, on, suicide, missions, .]\n",
      "[whom, Farnsworth, regarded, as, a, prized, student]\n"
     ]
    }
   ],
   "source": [
    "for subject in relevant_subjects:\n",
    "    print(list(subject.head.subtree))\n"
   ]
  },
  {
   "cell_type": "code",
   "execution_count": 117,
   "metadata": {},
   "outputs": [
    {
     "data": {
      "text/plain": [
       "[whom, Farnsworth, as]"
      ]
     },
     "execution_count": 117,
     "metadata": {},
     "output_type": "execute_result"
    }
   ],
   "source": [
    "list(subject.head.children)"
   ]
  },
  {
   "cell_type": "code",
   "execution_count": null,
   "metadata": {},
   "outputs": [],
   "source": []
  },
  {
   "cell_type": "code",
   "execution_count": 100,
   "metadata": {
    "scrolled": false
   },
   "outputs": [
    {
     "name": "stdout",
     "output_type": "stream",
     "text": [
      "ent: Bender Bending Rodríguez label: PERSON\n",
      "ent: Bending Unit label: ORG\n",
      "ent: 1,729 label: CARDINAL\n",
      "ent: 2716057 label: CARDINAL\n",
      "ent: one label: CARDINAL\n",
      "ent: Futurama label: WORK_OF_ART\n",
      "ent: Matt Groening label: PERSON\n",
      "ent: David X. Cohen label: PERSON\n",
      "ent: John DiMaggio label: PERSON\n",
      "ent: Futurama label: PERSON\n",
      "ent: Leela label: PERSON\n",
      "ent: \n",
      "\n",
      " label: PERSON\n",
      "ent: Bender label: PERSON\n",
      "ent: Tijuana label: GPE\n",
      "ent: Mexico label: GPE\n",
      "ent: Latin label: NORP\n",
      "ent: Bender label: PERSON\n",
      "ent: one label: CARDINAL\n",
      "ent: Bender label: PERSON\n",
      "ent: Do Not Kill label: WORK_OF_ART\n",
      "ent: Philip J. Fry label: PERSON\n",
      "ent: Hermes Conrad label: PERSON\n",
      "ent: Hermes label: ORG\n",
      "ent: Lethal Inspection label: WORK_OF_ART\n",
      "ent: \n",
      "\n",
      " label: CARDINAL\n",
      "ent: biography== label: PERSON\n",
      "ent: \n",
      "\n",
      "Bender label: PERSON\n",
      "ent: 2996 label: DATE\n",
      "ent: Fábrica Robótica De La Madre label: FAC\n",
      "ent: Spanish label: NORP\n",
      "ent: Robot Factory label: ORG\n",
      "ent: Mom's label: ORG\n",
      "ent: Friendly Robot Company label: ORG\n",
      "ent: Tijuana label: GPE\n",
      "ent: Mexico label: GPE\n",
      "ent: Cohen label: PERSON\n",
      "ent: Bender label: PERSON\n",
      "ent: one label: CARDINAL\n",
      "ent: Hermes label: PERSON\n",
      "ent: \n",
      "\n",
      " label: PERSON\n",
      "ent: Bender label: PERSON\n",
      "ent: Farnsworth label: PERSON\n",
      "ent: less than one billion label: MONEY\n",
      "ent: Bender label: PERSON\n",
      "ent: Bender label: PERSON\n",
      "ent: Bender label: PERSON\n",
      "ent: Bender label: PERSON\n",
      "ent: \n",
      "\n",
      " label: CARDINAL\n",
      "ent: Bender label: PERSON\n",
      "ent: Robot Arms Apts label: WORK_OF_ART\n",
      "ent: Fry label: PERSON\n",
      "ent: Bender label: PERSON\n",
      "ent: Bender label: PERSON\n",
      "ent: Fry label: PERSON\n",
      "ent: \n",
      "\n",
      " label: PERSON\n",
      "ent: Bender label: PERSON\n",
      "ent: Amy Wong label: PERSON\n",
      "ent: The Bots and the Bees label: WORK_OF_ART\n",
      "ent: Ben label: PERSON\n",
      "ent: first label: ORDINAL\n",
      "ent: Bender label: PERSON\n",
      "ent: \n",
      "\n",
      " label: CARDINAL\n",
      "ent: \n",
      "\n",
      " label: CARDINAL\n",
      "ent: \n",
      "\n",
      " label: PERSON\n",
      "ent: Bender label: WORK_OF_ART\n",
      "ent: Matt Groening label: PERSON\n",
      "ent: John Bender label: PERSON\n",
      "ent: The Breakfast Club label: ORG\n",
      "ent: \n",
      "\n",
      "Bender's label: PERSON\n",
      "ent: One label: CARDINAL\n",
      "ent: Matt Groening label: PERSON\n",
      "ent: Bender label: PERSON\n",
      "ent: the year 3000 label: DATE\n",
      "ent: Bender label: PERSON\n",
      "ent: Bender label: PERSON\n",
      "ent: \n",
      "\n",
      " label: CARDINAL\n",
      "ent: Futurama label: PERSON\n",
      "ent: Bender label: PERSON\n",
      "ent: Bender label: PERSON\n",
      "ent: about 300 label: CARDINAL\n",
      "ent: Cohen label: PERSON\n",
      "ent: John DiMaggio label: PERSON\n",
      "ent: second label: ORDINAL\n",
      "ent: \n",
      "\n",
      " label: CARDINAL\n",
      "ent: DiMaggio label: PERSON\n",
      "ent: Bender label: PERSON\n",
      "ent: Farnsworth label: PERSON\n",
      "ent: Bender label: PERSON\n",
      "ent: \n",
      "\n",
      " label: PERSON\n",
      "ent: Slim Pickens label: PERSON\n",
      "ent: Charlie label: PERSON\n",
      "ent: DiMaggio label: PERSON\n",
      "ent: Bender label: WORK_OF_ART\n",
      "ent: Hell Is Other Robots label: WORK_OF_ART\n",
      "ent: \n",
      "\n",
      " label: CARDINAL\n",
      "ent: Bender label: PERSON\n",
      "ent: 5 ft. label: QUANTITY\n",
      "ent: 6 label: CARDINAL\n",
      "ent: 168 cm label: QUANTITY\n",
      "ent: 6 label: CARDINAL\n",
      "ent: 183 cm label: QUANTITY\n",
      "ent: The Farnsworth Parabox label: WORK_OF_ART\n",
      "ent: Bender label: PERSON\n",
      "ent: The Cyber House Rules label: WORK_OF_ART\n",
      "ent: Bender label: PERSON\n",
      "ent: Time Keeps on Slippin label: WORK_OF_ART\n",
      "ent: Bender label: PERSON\n",
      "ent: two label: CARDINAL\n",
      "ent: two label: QUANTITY\n",
      "ent: three label: CARDINAL\n",
      "ent: two label: CARDINAL\n",
      "ent: Bender Gets Made label: WORK_OF_ART\n",
      "ent: Bender label: PERSON\n",
      "ent: Bender label: PERSON\n",
      "ent: \n",
      "\n",
      " label: PERSON\n",
      "ent: Bender label: PERSON\n",
      "ent: Flexo label: ORG\n",
      "ent: Flexo label: ORG\n",
      "ent: Bender label: PERSON\n",
      "ent: Bender label: PERSON\n",
      "ent: Leela label: PERSON\n",
      "ent: Billy West label: PERSON\n",
      "ent: Moon label: PERSON\n",
      "ent: \n",
      "\n",
      " label: CARDINAL\n",
      "ent: Bender label: PERSON\n",
      "ent: 2716057 label: DATE\n",
      "ent: two label: CARDINAL\n",
      "ent: Bender label: PERSON\n",
      "ent: Flexo label: ORG\n",
      "ent: \n",
      "\n",
      " label: CARDINAL\n",
      "ent: Bender label: PERSON\n",
      "ent: Bender label: PERSON\n",
      "ent: jack label: PERSON\n",
      "ent: \n",
      "\n",
      " label: PERSON\n",
      "ent: Bender label: PERSON\n",
      "ent: Bender label: PERSON\n",
      "ent: The Birdbot of Ice-Catraz label: WORK_OF_ART\n",
      "ent: Bender label: PERSON\n",
      "ent: \n",
      "\n",
      " label: PERSON\n",
      "ent: 100,001 label: CARDINAL\n",
      "ent: 1 label: CARDINAL\n",
      "ent: 100,000 label: CARDINAL\n",
      "ent: TB label: GPE\n",
      "ent: Cubert Farnsworth label: PERSON\n",
      "ent: 12 label: CARDINAL\n",
      "ent: Bender label: PERSON\n",
      "ent: Bender label: PERSON\n",
      "ent: \n",
      "\n",
      " label: CARDINAL\n",
      "ent: \n",
      "\n",
      "Bender label: PERSON\n",
      "ent: \n",
      "\n",
      " label: CARDINAL\n",
      "ent: Farnsworth label: PERSON\n",
      "ent: Bender label: PERSON\n",
      "ent: first label: ORDINAL\n",
      "ent: Bender label: PERSON\n",
      "ent: \n",
      "\n",
      " label: PERSON\n",
      "ent: Bend It Like Bender label: WORK_OF_ART\n",
      "ent: the Devin Townsend Project album Addicted label: ORG\n",
      "ent: Bender label: PERSON\n",
      "ent: Game label: WORK_OF_ART\n",
      "ent: \n",
      "\n",
      " label: CARDINAL\n",
      "ent: \n",
      "\n",
      " label: CARDINAL\n",
      "ent: Bender label: PERSON\n",
      "ent: Simpsons label: PERSON\n",
      "ent: Matt Groening label: PERSON\n",
      "ent: Simpsons label: PERSON\n",
      "ent: Bender label: PERSON\n",
      "ent: Future-Drama label: WORK_OF_ART\n",
      "ent: Bart label: PERSON\n",
      "ent: Lisa label: PERSON\n",
      "ent: the Third Grade\" label: ORG\n",
      "ent: Missionary: label: WORK_OF_ART\n",
      "ent: Replaceable You label: WORK_OF_ART\n",
      "ent: \n",
      "\n",
      " label: CARDINAL\n",
      "ent: Simpsons label: PERSON\n",
      "ent: Simpsorama label: WORK_OF_ART\n",
      "ent: Bender label: PERSON\n",
      "ent: the 31st century label: DATE\n",
      "ent: Springfield label: GPE\n",
      "ent: the 31st century label: DATE\n",
      "ent: Bender label: PERSON\n",
      "ent: Bart label: PERSON\n",
      "ent: Bender label: PERSON\n",
      "ent: Simpsons label: PERSON\n",
      "ent: Bender label: PERSON\n",
      "ent: Simpsons label: PERSON\n",
      "ent: 2015 label: DATE\n",
      "ent: Cue Detective label: WORK_OF_ART\n",
      "ent: Bender label: PERSON\n",
      "ent: Simpsons label: PERSON\n",
      "ent: My Fare Lady label: WORK_OF_ART\n",
      "ent: Jetsons label: PERSON\n",
      "ent: \n",
      "\n",
      " label: PERSON\n",
      "ent: one label: CARDINAL\n",
      "ent: Zoidberg label: PERSON\n",
      "ent: The Simpsons Game label: WORK_OF_ART\n",
      "ent: \n",
      "\n",
      "Bender label: PERSON\n",
      "ent: Family Guy label: PERSON\n",
      "ent: Blue Harvest label: WORK_OF_ART\n",
      "ent: the Mos Eisley Cantina label: FAC\n",
      "ent: \"The Splendid Source\" label: WORK_OF_ART\n",
      "ent: Peter Griffin label: PERSON\n",
      "ent: Joe Swanson label: PERSON\n",
      "ent: Glenn Quagmire label: PERSON\n",
      "ent: Boopa-dee Bappa-dee label: WORK_OF_ART\n",
      "ent: Peter label: PERSON\n",
      "ent: Stewie Griffin label: PERSON\n",
      "ent: Animation Domination label: EVENT\n",
      "ent: Bender label: PERSON\n"
     ]
    }
   ],
   "source": [
    "for ent in doc.ents:\n",
    "    print('ent:', ent, 'label:', ent.label_)"
   ]
  }
 ],
 "metadata": {
  "kernelspec": {
   "display_name": "Python 3",
   "language": "python",
   "name": "python3"
  },
  "language_info": {
   "codemirror_mode": {
    "name": "ipython",
    "version": 3
   },
   "file_extension": ".py",
   "mimetype": "text/x-python",
   "name": "python",
   "nbconvert_exporter": "python",
   "pygments_lexer": "ipython3",
   "version": "3.6.0"
  }
 },
 "nbformat": 4,
 "nbformat_minor": 2
}
