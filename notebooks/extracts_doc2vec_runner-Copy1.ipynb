{
 "cells": [
  {
   "cell_type": "code",
   "execution_count": 1,
   "metadata": {
    "scrolled": false
   },
   "outputs": [
    {
     "name": "stdout",
     "output_type": "stream",
     "text": [
      "/home/ubuntu/Dropbox/project_4\n"
     ]
    }
   ],
   "source": [
    "cd ~/Dropbox/project_4"
   ]
  },
  {
   "cell_type": "code",
   "execution_count": 2,
   "metadata": {},
   "outputs": [],
   "source": [
    "from hwmf import utils, data, models, transforms\n",
    "import logging\n",
    "logging.basicConfig(format='%(asctime)s : %(levelname)s : %(message)s', level=logging.INFO, filename='logs/doc2vec_extracts.txt')\n",
    "# logging.basicConfig(level=logging.INFO)"
   ]
  },
  {
   "cell_type": "code",
   "execution_count": 3,
   "metadata": {},
   "outputs": [],
   "source": [
    "name_to_article = utils.load_data('character_extracts_tokenized_with_meta.pickle')"
   ]
  },
  {
   "cell_type": "code",
   "execution_count": 4,
   "metadata": {},
   "outputs": [],
   "source": [
    "def prepare_data(name_to_article):\n",
    "    output = {}\n",
    "    for name, article in name_to_article.items():\n",
    "        text = ' '.join(article)\n",
    "        text = transforms.remove_black_listed(text)\n",
    "        output[name] = text\n",
    "    return output\n",
    "\n",
    "name_to_article = prepare_data(name_to_article)"
   ]
  },
  {
   "cell_type": "code",
   "execution_count": 5,
   "metadata": {
    "scrolled": false
   },
   "outputs": [
    {
     "data": {
      "text/plain": [
       "'<SUBJECT> ( ) is a in the <ENITY> created by <ENITY> , <ENITY> appearing in the <ENITY> <ENITY> . before his death in <ENITY> of the <ENITY> at the age of , <SUBJECT> was the oldest living in the <ENITY> in canon , until the introduction of <ENITY> in <ENITY> . for the dramatizations of <ENITY> and <ENITY> of the <ENITY> , <SUBJECT> was by <ENITY> , while <ENITY> him in the <ENITY> animated , several video games , and the <ENITY> : the <ENITY> . <SUBJECT> was recreated in cgi for the <ENITY> ray release of <ENITY> . <SUBJECT> is amongst the oldest , stoic and most powerful known <ENITY> in the <ENITY> universe . <SUBJECT> makes his <ENITY> in <ENITY> . <SUBJECT> does not initially identify himself to <ENITY> and instead tests his patience by presenting himself as a comical and senile backwater individual , deliberately provoking both <ENITY> and <ENITY> . finding that <ENITY> has the same anger and recklessness which caused his father \\'s downfall , <SUBJECT> is reluctant to teach him in the ways of the <ENITY> , and agrees only at <ENITY> behest . <SUBJECT> and <ENITY> warn him that <SUBJECT> is not ready to face <ENITY> and is being lured into a trap , but <ENITY> leaves anyway , promising to return . when <ENITY> laments that <ENITY> is their \" last hope , \" <SUBJECT> reminds him that \" there is another \" . <SUBJECT> makes a brief in <ENITY> of the <ENITY> , set <ENITY> after <ENITY> . <SUBJECT> , now sick and frail , informs <ENITY> that <SUBJECT> has completed his training but will not be a <ENITY> until <SUBJECT> confronts <ENITY> . <SUBJECT> then peacefully dies at the age of , his body disappearing as <SUBJECT> becomes \" <ENITY> with the <ENITY> \" . of whom <SUBJECT> spoke . <SUBJECT> returns as a younger version of himself in the prequel trilogy beginning with the <ENITY> . <SUBJECT> senses great fear in <ENITY> , especially in regards to his attachment to his mother , and foresees \" grave danger \" in his training . <SUBJECT> makes <ENITY> a <ENITY> , and reluctantly gives his blessing to <ENITY> \\'s training . <SUBJECT> makes his <ENITY> cgi in <ENITY> of the <ENITY> . at the climax of the , <SUBJECT> arrives in time to save <ENITY> and <ENITY> from the <ENITY> and defeats his former apprentice , <ENITY> , in a lightsaber duel . in revenge of the <ENITY> , <SUBJECT> leads <ENITY> in pursuing the mysterious <ENITY> . <SUBJECT> , unaware of the person <ENITY> speaks of is <ENITY> , or that <SUBJECT> is <ENITY> \\'s wife and pregnant with his child . at this time , <SUBJECT> is on <ENITY> , overseeing the battle between the separatist forces and a combined command of clone troopers and <ENITY> . through the <ENITY> , <SUBJECT> feels the deaths of each of the <ENITY> as <SUBJECT> are assassinated by their own troops . <SUBJECT> decides to face <ENITY> , sending <ENITY> to kill <ENITY> . when <ENITY> protests , <SUBJECT> tells him that the <SUBJECT> knew no longer exists , having been \" consumed by <ENITY> \" . subsequently , <SUBJECT> battles <ENITY> in a lightsaber duel that wrecks the <ENITY> . <SUBJECT> is forced to retreat . that <SUBJECT> has been in contact with <ENITY> spirit , learning the secret of immortality from him and passing it on to <ENITY> . <SUBJECT> is also instrumental in deciding the fate of the <ENITY> children after <ENITY> dies in childbirth , recommending that <ENITY> and <ENITY> be hidden from <ENITY> and <ENITY> in remote locations . in <ENITY> : the last <ENITY> , <SUBJECT> appears to <ENITY> as a force ghost as <ENITY> debates whether to burn down the tree storing the only remaining copies of <ENITY> . as <ENITY> makes his way to the tree , <SUBJECT> appears behind him and talks to <ENITY> about the inner conflicts going on inside him and reminds him that a <ENITY> must always be sure of his path . when <ENITY> decides against burning down the tree and destroying the texts , <ENITY> summons a lightning bolt down upon the tree , setting it ablaze while <ENITY> steps back in horror at the sight of the texts seemingly being lost forever when confronting <ENITY> as to why <SUBJECT> did it , <SUBJECT> tells <ENITY> that the true <ENITY> knowledge is within <ENITY> themselves and <SUBJECT> is their responsibility , not , to pass that knowledge on and continue the way of the <ENITY> . , where fight scenes necessitated the be rendered in with computer-generated imagery , <SUBJECT> is . <SUBJECT> will appear in <ENITY> : <ENITY> . <SUBJECT> appears in <ENITY> . in the prequel <ENITY> : the <ENITY> , <SUBJECT> assigns <ENITY> his own <ENITY> , <ENITY> , as <SUBJECT> believes that <SUBJECT> will help <ENITY> grow as a <ENITY> and as a person . throughout most of the , <SUBJECT> spends his time on <ENITY> with <ENITY> , but <SUBJECT> occasionally leaves for certain tasks , such as negotiations with <ENITY> on <ENITY> , and a confrontation with <ENITY> \\' droid army . <SUBJECT> also watches over <ENITY> and <ENITY> throughout the , pleased that <SUBJECT> are both maturing due to each other \\'s influence . <SUBJECT> and <ENITY> expel her , at the demand of <ENITY> , and turn her over to the <ENITY> military . along with other members of <ENITY> , <SUBJECT> observes <ENITY> \\'s trial , but <ENITY> bursts in with the true culprit , <ENITY> , before the verdict can be read . afterwards <SUBJECT> , <ENITY> and the <ENITY> personally invite <ENITY> to rejoin the <ENITY> , but to their shock , <SUBJECT> refuses and leaves . according to <ENITY> , <SUBJECT> blames himself for <ENITY> \\'s departure , as <SUBJECT> had made her <ENITY> \\'s padawan in the <ENITY> place . in the final of <ENITY> , <SUBJECT> hears <ENITY> speaking to him from beyond the grave . <SUBJECT> flees the <ENITY> with <ENITY> to travel to <ENITY> , the planet <SUBJECT> would make his home when <SUBJECT> enters exile after events of revenge of the <ENITY> , to find answers . shown cryptic visions of the fall of the <ENITY> , <SUBJECT> learns <SUBJECT> has been \" chosen \" to learn how to manifest his consciousness after death as a <ENITY> ghost . <SUBJECT> is tested by a group of spirit priestesses in order to overcome trials and temptations on his pilgrimage . <SUBJECT> engages in a metaphysical battle with <ENITY> , and appears to sacrifice his life in order to save <ENITY> \\'s-only to awaken and discover that the battle was merely a vision , and that <SUBJECT> has passed the test . <SUBJECT> was heard in <ENITY> \" path of the <ENITY> \" with <ENITY> reprising the role for the <ENITY> time since revenge of the <ENITY> . <SUBJECT> clone <ENITY> , by <ENITY> appears in the <ENITY> animated <ENITY> : . in the show , <SUBJECT> is made a <ENITY> , like many of the <ENITY> and <ENITY> . <SUBJECT> escorts <ENITY> on their journey to an unspecified planet , but <ENITY> senses several <ENITY> in distress on <ENITY> . using the <ENITY> mind trick to convince <ENITY> to take them to <ENITY> , <SUBJECT> saves <ENITY> and finds a message from <ENITY> giving orders to destroy <ENITY> . in the animated \\' final , <SUBJECT> fights side by side with <ENITY> to defend <ENITY> , which is under attack from the <ENITY> . <SUBJECT> acts as a supporting in dark <ENITY> \\' clone <ENITY> tie-in comic . in <ENITY> , <SUBJECT> was selected by <ENITY> magazine as the \" <ENITY> greatest movie of all time \" . <SUBJECT> also appears in <ENITY> \\'s <ENITY> . <SUBJECT> appears in a based on <ENITY> toys , created by the <ENITY> company , among them <ENITY> .'"
      ]
     },
     "execution_count": 5,
     "metadata": {},
     "output_type": "execute_result"
    }
   ],
   "source": [
    "name_to_article['Yoda']"
   ]
  },
  {
   "cell_type": "code",
   "execution_count": null,
   "metadata": {},
   "outputs": [],
   "source": [
    "model = models.train_doc2vec_model(name_to_article, epochs=10000, vector_size=50)"
   ]
  },
  {
   "cell_type": "code",
   "execution_count": 6,
   "metadata": {},
   "outputs": [
    {
     "name": "stderr",
     "output_type": "stream",
     "text": [
      "INFO:gensim.models.keyedvectors:precomputing L2-norms of doc weight vectors\n"
     ]
    },
    {
     "data": {
      "text/plain": [
       "[('Sarada Uchiha', 0.5860891342163086),\n",
       " ('Obi-Wan Kenobi', 0.5799380540847778),\n",
       " ('Samwell Tarly', 0.5776174664497375),\n",
       " ('Théoden', 0.5754514336585999),\n",
       " ('Ichigo Kurosaki', 0.5711506009101868),\n",
       " ('Faramir', 0.5645742416381836),\n",
       " ('Hanzo (Overwatch)', 0.563163161277771),\n",
       " ('Jacen Solo', 0.5500805974006653),\n",
       " ('Satyaki', 0.5428432822227478),\n",
       " ('Seyg-El', 0.542708694934845)]"
      ]
     },
     "execution_count": 6,
     "metadata": {},
     "output_type": "execute_result"
    }
   ],
   "source": [
    "model.docvecs.most_similar('Zuko')"
   ]
  },
  {
   "cell_type": "code",
   "execution_count": 7,
   "metadata": {},
   "outputs": [
    {
     "data": {
      "text/plain": [
       "[('Aerith Gainsborough', 0.6603395342826843),\n",
       " ('Mako (The Legend of Korra)', 0.6478812098503113),\n",
       " ('Goku', 0.6203822493553162),\n",
       " ('Cagalli Yula Athha', 0.5981931686401367),\n",
       " ('Ichigo Kurosaki', 0.5837417840957642),\n",
       " ('Lambo (Reborn!)', 0.5620253682136536),\n",
       " ('Korra', 0.5548986196517944),\n",
       " ('Jin Kazama', 0.5506293773651123),\n",
       " ('Kyle Reese', 0.5417808890342712),\n",
       " ('Tōshirō Hitsugaya', 0.5408225655555725)]"
      ]
     },
     "execution_count": 7,
     "metadata": {},
     "output_type": "execute_result"
    }
   ],
   "source": [
    "model.docvecs.most_similar('Aang')"
   ]
  },
  {
   "cell_type": "code",
   "execution_count": 8,
   "metadata": {},
   "outputs": [
    {
     "data": {
      "text/plain": [
       "[('Peter &quot;Sting&quot; Stanchek', 0.6355187296867371),\n",
       " ('Dawn Summers', 0.6079853773117065),\n",
       " ('Traci Thirteen', 0.5731310248374939),\n",
       " ('Spike (Buffy the Vampire Slayer)', 0.5651213526725769),\n",
       " ('Thelma Bates', 0.5410927534103394),\n",
       " ('Tabitha Lenox', 0.5384467840194702),\n",
       " ('Selene (Underworld)', 0.5213591456413269),\n",
       " ('Chia Black Dragon', 0.5115509033203125),\n",
       " ('Lorne (Angel)', 0.509080708026886),\n",
       " ('Nicholas Scratch', 0.5089904069900513)]"
      ]
     },
     "execution_count": 8,
     "metadata": {},
     "output_type": "execute_result"
    }
   ],
   "source": [
    "model.docvecs.most_similar('Buffy Summers')"
   ]
  },
  {
   "cell_type": "code",
   "execution_count": 9,
   "metadata": {
    "collapsed": true
   },
   "outputs": [
    {
     "data": {
      "text/plain": [
       "[('Qui-Gon Jinn', 0.657966136932373),\n",
       " ('Luke Skywalker', 0.6248259544372559),\n",
       " ('Obi-Wan Kenobi', 0.5940743684768677),\n",
       " ('Roma (comics)', 0.573185384273529),\n",
       " ('Hao Asakura', 0.5622872710227966),\n",
       " ('Subaru Sumeragi', 0.55921471118927),\n",
       " ('Mokujin', 0.5535994172096252),\n",
       " ('Nightwolf', 0.546414315700531),\n",
       " ('Scourge (Transformers)', 0.5440710783004761),\n",
       " ('Count Dooku', 0.5415380597114563)]"
      ]
     },
     "execution_count": 9,
     "metadata": {},
     "output_type": "execute_result"
    }
   ],
   "source": [
    "model.docvecs.most_similar('Yoda')"
   ]
  }
 ],
 "metadata": {
  "kernelspec": {
   "display_name": "Python 3",
   "language": "python",
   "name": "python3"
  },
  "language_info": {
   "codemirror_mode": {
    "name": "ipython",
    "version": 3
   },
   "file_extension": ".py",
   "mimetype": "text/x-python",
   "name": "python",
   "nbconvert_exporter": "python",
   "pygments_lexer": "ipython3",
   "version": "3.6.4"
  }
 },
 "nbformat": 4,
 "nbformat_minor": 2
}
